{
 "cells": [
  {
   "cell_type": "markdown",
   "id": "7ec7d60c",
   "metadata": {},
   "source": [
    "# Imports and Data Ingestion"
   ]
  },
  {
   "cell_type": "code",
   "execution_count": 85,
   "id": "25f3ed92",
   "metadata": {},
   "outputs": [],
   "source": [
    "import requests\n",
    "import numpy as np\n",
    "import pandas as pd\n",
    "import matplotlib.pyplot as plt\n",
    "import seaborn as sns"
   ]
  },
  {
   "cell_type": "code",
   "execution_count": 86,
   "id": "95777531",
   "metadata": {},
   "outputs": [],
   "source": [
    "# import the API data we already saved\n",
    "round_level_data=pd.read_csv('round_data.csv')\n",
    "round_level_data.drop(columns='Unnamed: 0',inplace=True)\n",
    "\n",
    "# convert to datetime index\n",
    "round_level_data['event_completed'] = pd.to_datetime(round_level_data['event_completed'])"
   ]
  },
  {
   "cell_type": "code",
   "execution_count": 87,
   "id": "83a33385",
   "metadata": {},
   "outputs": [
    {
     "name": "stdout",
     "output_type": "stream",
     "text": [
      "Rows: 99059\n",
      "Columns: 23\n"
     ]
    }
   ],
   "source": [
    "# how many columns and rows do we have?:\n",
    "print(f'Rows: {round_level_data.shape[0]}')\n",
    "print(f'Columns: {round_level_data.shape[1]}')"
   ]
  },
  {
   "cell_type": "code",
   "execution_count": 88,
   "id": "0674b171",
   "metadata": {},
   "outputs": [
    {
     "data": {
      "text/html": [
       "<div>\n",
       "<style scoped>\n",
       "    .dataframe tbody tr th:only-of-type {\n",
       "        vertical-align: middle;\n",
       "    }\n",
       "\n",
       "    .dataframe tbody tr th {\n",
       "        vertical-align: top;\n",
       "    }\n",
       "\n",
       "    .dataframe thead th {\n",
       "        text-align: right;\n",
       "    }\n",
       "</style>\n",
       "<table border=\"1\" class=\"dataframe\">\n",
       "  <thead>\n",
       "    <tr style=\"text-align: right;\">\n",
       "      <th></th>\n",
       "      <th>round</th>\n",
       "      <th>dg_id</th>\n",
       "      <th>player_name</th>\n",
       "      <th>event_id</th>\n",
       "      <th>event_name</th>\n",
       "      <th>event_completed</th>\n",
       "      <th>fin_text</th>\n",
       "      <th>score</th>\n",
       "      <th>sg_app</th>\n",
       "      <th>sg_arg</th>\n",
       "      <th>sg_ott</th>\n",
       "      <th>sg_putt</th>\n",
       "      <th>sg_total</th>\n",
       "    </tr>\n",
       "  </thead>\n",
       "  <tbody>\n",
       "    <tr>\n",
       "      <th>0</th>\n",
       "      <td>round_1</td>\n",
       "      <td>14139</td>\n",
       "      <td>Thomas, Justin</td>\n",
       "      <td>16</td>\n",
       "      <td>SBS Tournament of Champions</td>\n",
       "      <td>2017-01-08</td>\n",
       "      <td>1</td>\n",
       "      <td>67</td>\n",
       "      <td>0.188</td>\n",
       "      <td>-0.908</td>\n",
       "      <td>1.479</td>\n",
       "      <td>2.584</td>\n",
       "      <td>3.344</td>\n",
       "    </tr>\n",
       "    <tr>\n",
       "      <th>1</th>\n",
       "      <td>round_1</td>\n",
       "      <td>13562</td>\n",
       "      <td>Matsuyama, Hideki</td>\n",
       "      <td>16</td>\n",
       "      <td>SBS Tournament of Champions</td>\n",
       "      <td>2017-01-08</td>\n",
       "      <td>2</td>\n",
       "      <td>69</td>\n",
       "      <td>-0.267</td>\n",
       "      <td>0.340</td>\n",
       "      <td>1.143</td>\n",
       "      <td>0.127</td>\n",
       "      <td>1.344</td>\n",
       "    </tr>\n",
       "    <tr>\n",
       "      <th>2</th>\n",
       "      <td>round_1</td>\n",
       "      <td>14636</td>\n",
       "      <td>Spieth, Jordan</td>\n",
       "      <td>16</td>\n",
       "      <td>SBS Tournament of Champions</td>\n",
       "      <td>2017-01-08</td>\n",
       "      <td>T3</td>\n",
       "      <td>72</td>\n",
       "      <td>1.758</td>\n",
       "      <td>-1.691</td>\n",
       "      <td>-0.471</td>\n",
       "      <td>-1.251</td>\n",
       "      <td>-1.656</td>\n",
       "    </tr>\n",
       "    <tr>\n",
       "      <th>3</th>\n",
       "      <td>round_1</td>\n",
       "      <td>6762</td>\n",
       "      <td>Perez, Pat</td>\n",
       "      <td>16</td>\n",
       "      <td>SBS Tournament of Champions</td>\n",
       "      <td>2017-01-08</td>\n",
       "      <td>T3</td>\n",
       "      <td>69</td>\n",
       "      <td>1.007</td>\n",
       "      <td>0.057</td>\n",
       "      <td>0.175</td>\n",
       "      <td>0.103</td>\n",
       "      <td>1.344</td>\n",
       "    </tr>\n",
       "    <tr>\n",
       "      <th>4</th>\n",
       "      <td>round_1</td>\n",
       "      <td>7489</td>\n",
       "      <td>Moore, Ryan</td>\n",
       "      <td>16</td>\n",
       "      <td>SBS Tournament of Champions</td>\n",
       "      <td>2017-01-08</td>\n",
       "      <td>T3</td>\n",
       "      <td>67</td>\n",
       "      <td>3.491</td>\n",
       "      <td>0.015</td>\n",
       "      <td>-0.349</td>\n",
       "      <td>0.186</td>\n",
       "      <td>3.344</td>\n",
       "    </tr>\n",
       "  </tbody>\n",
       "</table>\n",
       "</div>"
      ],
      "text/plain": [
       "     round  dg_id        player_name  event_id                   event_name  \\\n",
       "0  round_1  14139     Thomas, Justin        16  SBS Tournament of Champions   \n",
       "1  round_1  13562  Matsuyama, Hideki        16  SBS Tournament of Champions   \n",
       "2  round_1  14636     Spieth, Jordan        16  SBS Tournament of Champions   \n",
       "3  round_1   6762         Perez, Pat        16  SBS Tournament of Champions   \n",
       "4  round_1   7489        Moore, Ryan        16  SBS Tournament of Champions   \n",
       "\n",
       "  event_completed fin_text  score  sg_app  sg_arg  sg_ott  sg_putt  sg_total  \n",
       "0      2017-01-08        1     67   0.188  -0.908   1.479    2.584     3.344  \n",
       "1      2017-01-08        2     69  -0.267   0.340   1.143    0.127     1.344  \n",
       "2      2017-01-08       T3     72   1.758  -1.691  -0.471   -1.251    -1.656  \n",
       "3      2017-01-08       T3     69   1.007   0.057   0.175    0.103     1.344  \n",
       "4      2017-01-08       T3     67   3.491   0.015  -0.349    0.186     3.344  "
      ]
     },
     "execution_count": 88,
     "metadata": {},
     "output_type": "execute_result"
    }
   ],
   "source": [
    "# Show the \"basic\" round information (used in a project visual):\n",
    "round_level_data.head(5)[['round', 'dg_id', 'player_name', 'event_id', 'event_name',\n",
    "       'event_completed', 'fin_text', 'score','sg_app', 'sg_arg', 'sg_ott',\n",
    "       'sg_putt', 'sg_total']]"
   ]
  },
  {
   "cell_type": "markdown",
   "id": "9a202a0a",
   "metadata": {},
   "source": [
    "# Player Factor Creation:"
   ]
  },
  {
   "cell_type": "markdown",
   "id": "91c5b7a2",
   "metadata": {},
   "source": [
    "The data from DataGolf.com only has strokes gained for each round. This means we have no factors to create models for. The following code will be creating factors to measure a range of different aspects about players for the model to learn from."
   ]
  },
  {
   "cell_type": "markdown",
   "id": "d59b7e56",
   "metadata": {},
   "source": [
    "**Create indicator for previous round, and previous round ONLY if it was in the same tournament.** \n",
    "\n",
    "This will be used to measure if previous rounds are correlated with the following (time lag). This is done by grouping by a player and tournament, then shifting back 1 round. Fill round 1 previous (which does not exist and will be NA) with a 0. "
   ]
  },
  {
   "cell_type": "code",
   "execution_count": 89,
   "id": "86f4f966",
   "metadata": {},
   "outputs": [],
   "source": [
    "# track previous round tournament, but only when the previous round was in the same tournament.\n",
    "round_level_data['prev_round_tournament'] = round_level_data.groupby(['dg_id','event_id'])['sg_total'].shift(1)"
   ]
  },
  {
   "cell_type": "code",
   "execution_count": 90,
   "id": "db351b4d",
   "metadata": {},
   "outputs": [],
   "source": [
    "# fill the NA value with 0\n",
    "round_level_data['prev_round_tournament'].fillna(0,inplace=True)"
   ]
  },
  {
   "cell_type": "markdown",
   "id": "98c169a7",
   "metadata": {},
   "source": [
    "**Create unweighted 2 year averages**"
   ]
  },
  {
   "cell_type": "markdown",
   "id": "3a5b28c0",
   "metadata": {},
   "source": [
    "Now, create a simple measure for player strength. We will create \"better\" metrics for player strength later. This will just measure how well a certain player has played in the past. In turn, this will be used to measure how strong events are. "
   ]
  },
  {
   "cell_type": "markdown",
   "id": "22c81440",
   "metadata": {},
   "source": [
    "Group by player, apply rolling mean on the [event_completed] datetime column with a window length of 730 days.\n",
    "Only works on players with over 12 rounds played. The closed='left' is important so you DO NOT use the current round in\n",
    "this metric. Cannot have data leakage. "
   ]
  },
  {
   "cell_type": "code",
   "execution_count": 91,
   "id": "51639421",
   "metadata": {},
   "outputs": [],
   "source": [
    "twoyear_unweighted = round_level_data.groupby('player_name').rolling(on='event_completed', window='730d', min_periods=12,closed='left').mean()"
   ]
  },
  {
   "cell_type": "code",
   "execution_count": 92,
   "id": "23bf4f04",
   "metadata": {},
   "outputs": [],
   "source": [
    "# fill NA's with -2 (average for \"unknown\" players)\n",
    "twoyear_unweighted.fillna(-2,inplace=True)\n",
    "\n",
    "# rename and reset index for the join\n",
    "twoyear_unweighted.rename(columns={'sg_total':'two_year_avg'},inplace=True)\n",
    "twoyear_unweighted.reset_index('player_name',inplace=True)\n",
    "\n",
    "# Join back to the main dataframe\n",
    "round_level_data = round_level_data.join(twoyear_unweighted['two_year_avg'])"
   ]
  },
  {
   "cell_type": "markdown",
   "id": "1964d53e",
   "metadata": {},
   "source": [
    "**Create unwieghted yearly SG averages, used as a player skill breakdown beyond just\n",
    "total SG averages**"
   ]
  },
  {
   "cell_type": "markdown",
   "id": "051327e5",
   "metadata": {},
   "source": [
    "This will also create a breakdown of a players skill in the last year, but in terms of their different areas of their game. For example, a player's approach game strength in the last year will be roughly measure by the ['yearly_sg_app'] factor. This is used later (especially when exploring course fit metrics). "
   ]
  },
  {
   "cell_type": "code",
   "execution_count": 94,
   "id": "e333b09b",
   "metadata": {},
   "outputs": [],
   "source": [
    "# Groupby player, apply rolling mean on the [event_completed] column, window length of 365 days.\n",
    "# Only works on players with over 12 rounds played. \n",
    "oneyear_unweighted = round_level_data.groupby('player_name').rolling(on='event_completed', window='365d', min_periods=12,closed='left').mean()\n",
    "# rename and reset index for the join\n",
    "oneyear_unweighted = oneyear_unweighted[['sg_app','sg_arg','sg_ott','sg_putt']] \n",
    "oneyear_unweighted.rename(columns={'sg_app':'yearly_sg_app',\n",
    "                                   'sg_arg':'yearly_sg_arg',\n",
    "                                   'sg_ott':'yearly_sg_ott',\n",
    "                                   'sg_putt':'yearly_sg_putt',\n",
    "                                  },inplace=True)\n",
    "oneyear_unweighted.reset_index('player_name',inplace=True)\n",
    "# Join back to the main dataframe\n",
    "round_level_data = round_level_data.merge(oneyear_unweighted,left_index=True,right_index=True,copy=False,suffixes=('', '_y'))\n",
    "\n",
    "round_level_data.drop(round_level_data.filter(regex='_y$').columns, axis=1, inplace=True)\n"
   ]
  },
  {
   "cell_type": "markdown",
   "id": "dd7498af",
   "metadata": {},
   "source": [
    "**Create Event Strength Metric (measure of how good the players in the event are)**"
   ]
  },
  {
   "cell_type": "markdown",
   "id": "d38320fc",
   "metadata": {},
   "source": [
    "Using player's ['two_year_avg'], measure the strength of a certain round by taking the average of all players participating in the round. "
   ]
  },
  {
   "cell_type": "code",
   "execution_count": 95,
   "id": "efa28dcd",
   "metadata": {},
   "outputs": [],
   "source": [
    "# Groupby event and calculate the average of the players two year SG averages\n",
    "event_strength = round_level_data.groupby(['event_completed','round'])['two_year_avg'].mean()\n",
    "\n",
    "# Merge back onto the main DF\n",
    "round_level_data = round_level_data.merge(event_strength,left_on=['round','event_completed'],right_on=['round','event_completed'],suffixes=['','_event_average'],how='left')\n",
    "\n",
    "# Rename the column\n",
    "round_level_data.rename(columns={'two_year_avg_event_average':'sg_event_strength'},inplace=True)"
   ]
  },
  {
   "cell_type": "markdown",
   "id": "a530a5b1",
   "metadata": {},
   "source": [
    "**Create a SG_adjusted (by event strenght)**"
   ]
  },
  {
   "cell_type": "markdown",
   "id": "1c338a41",
   "metadata": {},
   "source": [
    "Using this event strength, we can also create a SG_adjusted by adding event strength to the SG total. This will weight good SG rounds in a strong tournment heavier than good SG in a bad tournament. "
   ]
  },
  {
   "cell_type": "code",
   "execution_count": 96,
   "id": "79a10029",
   "metadata": {},
   "outputs": [],
   "source": [
    "round_level_data['sg_adjusted'] = round_level_data['sg_event_strength']+round_level_data['sg_total']"
   ]
  },
  {
   "cell_type": "markdown",
   "id": "c637e781",
   "metadata": {},
   "source": [
    "**Create short-term SG adjusted average**"
   ]
  },
  {
   "cell_type": "markdown",
   "id": "721cc703",
   "metadata": {},
   "source": [
    "Now using this weighted strokes gained metric, we can create a more accurate measure for a player's historical strength. "
   ]
  },
  {
   "cell_type": "code",
   "execution_count": 97,
   "id": "920d0c84",
   "metadata": {},
   "outputs": [],
   "source": [
    "# Groupby player, calculate the rolling average\n",
    "historicSG_adjusted = round_level_data.groupby('player_name').rolling(on='event_completed', window='62d', min_periods=4,closed='left').mean()\n",
    "\n",
    "# rename, reset and rejoin to the main DataFrame\n",
    "historicSG_adjusted.rename(columns={'sg_adjusted':'stSG_adjusted'},inplace=True)\n",
    "historicSG_adjusted.reset_index('player_name',inplace=True)\n",
    "round_level_data = round_level_data.join(historicSG_adjusted['stSG_adjusted'])"
   ]
  },
  {
   "cell_type": "markdown",
   "id": "a0afa9be",
   "metadata": {},
   "source": [
    "**Create a decaying weighted SG average for a player**"
   ]
  },
  {
   "cell_type": "markdown",
   "id": "cd885854",
   "metadata": {},
   "source": [
    "Here is another measure of player strenght, but will be weighted so will have a better representation of a player's momentum. The two factors(1.5 year adjusted and this one) will play off each other. Testing will be done to figure out the correct combination of these two factors. "
   ]
  },
  {
   "cell_type": "code",
   "execution_count": 98,
   "id": "fa487762",
   "metadata": {},
   "outputs": [],
   "source": [
    "# Use EWM function on the event completed column, with decaying halflife of ~2 months\n",
    "halflife_weighted = round_level_data.groupby('player_name').ewm(times='event_completed',halflife='200d',min_periods=15)['sg_adjusted'].mean()\n",
    "\n",
    "# so you do not include current round in the calculation\n",
    "halflife_weighted = halflife_weighted.shift(1)\n",
    "\n",
    "\n",
    "# reset, rename and rejoin to the main DataFrame\n",
    "halflife_weighted = halflife_weighted.reset_index('player_name')\n",
    "halflife_weighted.rename(columns={'sg_adjusted':'halflifeSG_strength'},inplace=True)\n",
    "round_level_data = round_level_data.join(halflife_weighted['halflifeSG_strength'])"
   ]
  },
  {
   "cell_type": "markdown",
   "id": "bfb9eb4f",
   "metadata": {},
   "source": [
    "**Create a rolling rounds played by year**"
   ]
  },
  {
   "cell_type": "markdown",
   "id": "f894d501",
   "metadata": {},
   "source": [
    "Create a factor that measure how many rounds a player has played in the last year and a half. "
   ]
  },
  {
   "cell_type": "code",
   "execution_count": 99,
   "id": "364c0ecd",
   "metadata": {},
   "outputs": [],
   "source": [
    "# Groupby player, calculate the rolling average\n",
    "roundsplayed = round_level_data.groupby('player_name').rolling(on='event_completed', window='547d',min_periods=1,closed='left').count()\n",
    "\n",
    "# fill NA with 0\n",
    "roundsplayed.fillna(0,inplace=True)\n",
    "\n",
    "# rename, reset and rejoin to the main DataFrame\n",
    "roundsplayed.rename(columns={'sg_total':'roundsplayed'},inplace=True)\n",
    "roundsplayed.reset_index('player_name',inplace=True)\n",
    "round_level_data = round_level_data.join(roundsplayed['roundsplayed'])"
   ]
  },
  {
   "cell_type": "markdown",
   "id": "07558be2",
   "metadata": {},
   "source": [
    "**Indicator for \"Unknown\" Players**"
   ]
  },
  {
   "cell_type": "markdown",
   "id": "d891811f",
   "metadata": {},
   "source": [
    "I want to create a factor for a \"unknown\" player. This will be guys who havent played 12 rounds in the last year and a half. This variable will also catch rookies, amateurs, players coming of longterm injury. "
   ]
  },
  {
   "cell_type": "code",
   "execution_count": 100,
   "id": "c7d08dac",
   "metadata": {},
   "outputs": [],
   "source": [
    "round_level_data['unknownplayer'] = np.where(round_level_data['roundsplayed'] < 12, 1, 0)"
   ]
  },
  {
   "cell_type": "markdown",
   "id": "e2a8c461",
   "metadata": {},
   "source": [
    "**Get Dummy Variables for Round Number**"
   ]
  },
  {
   "cell_type": "markdown",
   "id": "16050ae6",
   "metadata": {},
   "source": [
    "Create a dummy varibale from the round column. Also, create a variable to identify a \"weekend\" round (which is post cut, so round 3 and 4). "
   ]
  },
  {
   "cell_type": "code",
   "execution_count": 101,
   "id": "8d9330af",
   "metadata": {},
   "outputs": [],
   "source": [
    "round_level_data = pd.get_dummies(round_level_data,columns=['round'],drop_first=True,prefix='', prefix_sep='')"
   ]
  },
  {
   "cell_type": "code",
   "execution_count": 102,
   "id": "7c1bd781",
   "metadata": {},
   "outputs": [],
   "source": [
    "round_level_data['Weekend_round'] = np.where((round_level_data['round_3']==1) | (round_level_data['round_4']==1),1,0)"
   ]
  },
  {
   "cell_type": "markdown",
   "id": "2bce0c12",
   "metadata": {},
   "source": [
    "## Now, let's look into the null values and if we can fill/adjust any of them."
   ]
  },
  {
   "cell_type": "code",
   "execution_count": 103,
   "id": "3a9db3a0",
   "metadata": {},
   "outputs": [
    {
     "name": "stdout",
     "output_type": "stream",
     "text": [
      "<class 'pandas.core.frame.DataFrame'>\n",
      "Int64Index: 99059 entries, 0 to 99058\n",
      "Data columns (total 38 columns):\n",
      " #   Column                 Non-Null Count  Dtype         \n",
      "---  ------                 --------------  -----         \n",
      " 0   dg_id                  99059 non-null  int64         \n",
      " 1   player_name            99059 non-null  object        \n",
      " 2   event_id               99059 non-null  int64         \n",
      " 3   event_name             99059 non-null  object        \n",
      " 4   event_completed        99059 non-null  datetime64[ns]\n",
      " 5   fin_text               99059 non-null  object        \n",
      " 6   course_name            99059 non-null  object        \n",
      " 7   course_num             99059 non-null  int64         \n",
      " 8   course_par             99059 non-null  int64         \n",
      " 9   driving_acc            88233 non-null  float64       \n",
      " 10  driving_dist           84840 non-null  float64       \n",
      " 11  gir                    87824 non-null  float64       \n",
      " 12  prox_fw                77349 non-null  float64       \n",
      " 13  prox_rgh               74605 non-null  float64       \n",
      " 14  score                  99059 non-null  int64         \n",
      " 15  scrambling             77315 non-null  float64       \n",
      " 16  sg_app                 78573 non-null  float64       \n",
      " 17  sg_arg                 78573 non-null  float64       \n",
      " 18  sg_ott                 78573 non-null  float64       \n",
      " 19  sg_putt                78573 non-null  float64       \n",
      " 20  sg_t2g                 78573 non-null  float64       \n",
      " 21  sg_total               99059 non-null  float64       \n",
      " 22  prev_round_tournament  99059 non-null  float64       \n",
      " 23  two_year_avg           99059 non-null  float64       \n",
      " 24  yearly_sg_app          80637 non-null  float64       \n",
      " 25  yearly_sg_arg          80637 non-null  float64       \n",
      " 26  yearly_sg_ott          80637 non-null  float64       \n",
      " 27  yearly_sg_putt         80637 non-null  float64       \n",
      " 28  sg_event_strength      99059 non-null  float64       \n",
      " 29  sg_adjusted            99059 non-null  float64       \n",
      " 30  stSG_adjusted          84112 non-null  float64       \n",
      " 31  halflifeSG_strength    87894 non-null  float64       \n",
      " 32  roundsplayed           99059 non-null  float64       \n",
      " 33  unknownplayer          99059 non-null  int32         \n",
      " 34  round_2                99059 non-null  uint8         \n",
      " 35  round_3                99059 non-null  uint8         \n",
      " 36  round_4                99059 non-null  uint8         \n",
      " 37  Weekend_round          99059 non-null  int32         \n",
      "dtypes: datetime64[ns](1), float64(23), int32(2), int64(5), object(4), uint8(3)\n",
      "memory usage: 28.8+ MB\n"
     ]
    }
   ],
   "source": [
    "round_level_data.info()"
   ]
  },
  {
   "cell_type": "markdown",
   "id": "49e798a2",
   "metadata": {},
   "source": [
    "Just listing some columns that will be dropped: 'driving_acc','driving_dist', 'gir', 'prox_fw', 'prox_rgh', 'sg_tot' and 'scrambling'. These columns have nulls and are also measured other metrics more accurately (for example driving_dist can be measured by sg_ott, GIR by sg_app, and sg_t2g is just a combination of sg_ott and sg_app). "
   ]
  },
  {
   "cell_type": "code",
   "execution_count": 104,
   "id": "3757d648",
   "metadata": {},
   "outputs": [],
   "source": [
    "# before dropping columns, create a copy of the dataframe\n",
    "round_level_data_2 = round_level_data.copy()\n",
    "round_level_data_2.drop(columns=['driving_acc','driving_dist', 'gir', 'prox_fw', 'prox_rgh', 'sg_t2g','scrambling'], inplace=True)"
   ]
  },
  {
   "cell_type": "code",
   "execution_count": 105,
   "id": "c1033ba7",
   "metadata": {},
   "outputs": [
    {
     "name": "stdout",
     "output_type": "stream",
     "text": [
      "<class 'pandas.core.frame.DataFrame'>\n",
      "Int64Index: 99059 entries, 0 to 99058\n",
      "Data columns (total 31 columns):\n",
      " #   Column                 Non-Null Count  Dtype         \n",
      "---  ------                 --------------  -----         \n",
      " 0   dg_id                  99059 non-null  int64         \n",
      " 1   player_name            99059 non-null  object        \n",
      " 2   event_id               99059 non-null  int64         \n",
      " 3   event_name             99059 non-null  object        \n",
      " 4   event_completed        99059 non-null  datetime64[ns]\n",
      " 5   fin_text               99059 non-null  object        \n",
      " 6   course_name            99059 non-null  object        \n",
      " 7   course_num             99059 non-null  int64         \n",
      " 8   course_par             99059 non-null  int64         \n",
      " 9   score                  99059 non-null  int64         \n",
      " 10  sg_app                 78573 non-null  float64       \n",
      " 11  sg_arg                 78573 non-null  float64       \n",
      " 12  sg_ott                 78573 non-null  float64       \n",
      " 13  sg_putt                78573 non-null  float64       \n",
      " 14  sg_total               99059 non-null  float64       \n",
      " 15  prev_round_tournament  99059 non-null  float64       \n",
      " 16  two_year_avg           99059 non-null  float64       \n",
      " 17  yearly_sg_app          80637 non-null  float64       \n",
      " 18  yearly_sg_arg          80637 non-null  float64       \n",
      " 19  yearly_sg_ott          80637 non-null  float64       \n",
      " 20  yearly_sg_putt         80637 non-null  float64       \n",
      " 21  sg_event_strength      99059 non-null  float64       \n",
      " 22  sg_adjusted            99059 non-null  float64       \n",
      " 23  stSG_adjusted          84112 non-null  float64       \n",
      " 24  halflifeSG_strength    87894 non-null  float64       \n",
      " 25  roundsplayed           99059 non-null  float64       \n",
      " 26  unknownplayer          99059 non-null  int32         \n",
      " 27  round_2                99059 non-null  uint8         \n",
      " 28  round_3                99059 non-null  uint8         \n",
      " 29  round_4                99059 non-null  uint8         \n",
      " 30  Weekend_round          99059 non-null  int32         \n",
      "dtypes: datetime64[ns](1), float64(16), int32(2), int64(5), object(4), uint8(3)\n",
      "memory usage: 23.5+ MB\n"
     ]
    }
   ],
   "source": [
    "round_level_data_2.info()"
   ]
  },
  {
   "cell_type": "markdown",
   "id": "b725a181",
   "metadata": {},
   "source": [
    "For sg_app, sg_arg, sg_ott, sg_putt some event do not track these items. Unfortunately, nothing to do here. We will work around this, since SG is tracked for almost every tournament in the recent years. "
   ]
  },
  {
   "cell_type": "markdown",
   "id": "48a48b21",
   "metadata": {},
   "source": [
    "Let's look at the NA values for yearly_sg_app, and where the occur in terms of the date. "
   ]
  },
  {
   "cell_type": "code",
   "execution_count": 106,
   "id": "e98d357d",
   "metadata": {},
   "outputs": [],
   "source": [
    "# Groupby data, count the NA values and divide by the total count for those events. \n",
    "testNA = round_level_data_2[round_level_data_2['yearly_sg_app'].isna()].groupby('event_completed').count().reset_index()\n",
    "testCount = round_level_data_2.groupby('event_completed').count().reset_index()\n",
    "testNA = testNA[['event_completed','dg_id']]\n",
    "testCount = testCount[['event_completed','dg_id']]"
   ]
  },
  {
   "cell_type": "code",
   "execution_count": 107,
   "id": "415c362f",
   "metadata": {},
   "outputs": [],
   "source": [
    "# Combine the two variables into one table, so 0 values are counted\n",
    "test_combined = testCount.merge(testNA, how='left',left_on='event_completed',right_on='event_completed')\n",
    "test_combined = test_combined.fillna(0)"
   ]
  },
  {
   "cell_type": "markdown",
   "id": "5d0376bf",
   "metadata": {},
   "source": [
    "**Let's look at the occurence of \"unknown\" players (by tournament) over time**"
   ]
  },
  {
   "cell_type": "code",
   "execution_count": 112,
   "id": "97791c12",
   "metadata": {},
   "outputs": [
    {
     "data": {
      "image/png": "[encoded data removed]",
      "text/plain": [
       "<Figure size 432x288 with 1 Axes>"
      ]
     },
     "metadata": {
      "needs_background": "light"
     },
     "output_type": "display_data"
    }
   ],
   "source": [
    "# percentage of unknown players in a tournament\n",
    "plt.plot(test_combined['event_completed'],test_combined['dg_id_y']/test_combined['dg_id_x'])\n",
    "plt.xlabel('Date')\n",
    "plt.ylabel('% Unknown Players')\n",
    "plt.title('NA in SG Historical Column, Grouped by Date')\n",
    "plt.show;"
   ]
  },
  {
   "cell_type": "code",
   "execution_count": 113,
   "id": "e6d97a61",
   "metadata": {},
   "outputs": [
    {
     "data": {
      "image/png": "[encoded data removed]",
      "text/plain": [
       "<Figure size 432x288 with 1 Axes>"
      ]
     },
     "metadata": {
      "needs_background": "light"
     },
     "output_type": "display_data"
    }
   ],
   "source": [
    "# count of unknown players in a event\n",
    "UKgrouped = round_level_data_2.groupby('event_completed')['unknownplayer'].sum().reset_index()\n",
    "\n",
    "plt.plot(UKgrouped['event_completed'],UKgrouped['unknownplayer'])\n",
    "plt.xlabel('Date')\n",
    "plt.ylabel('Number of Unknown Players')\n",
    "plt.title('Number of Unknown Players, Grouped by Tournament, by Date')\n",
    "plt.show;"
   ]
  },
  {
   "cell_type": "markdown",
   "id": "19ed3eb8",
   "metadata": {},
   "source": [
    "So, we can see that it takes awhile to \"fill\" SG historical data. That was done when the factor was created on purpose. Other than that, there are a few events with decently high amount of players without historical data. \n",
    "\n",
    "\n",
    "Nothing out of the ordinary, now the question becomes: should the values be filled, or should these players be dropped? Since we have a binary variable for unknown players, and unknown players are the NA values for this column. So, it is reasonable to fill the value for historical SG metrics with a 0 (not yearly, will not be using for linear model and players without data in these categories will need to be dropped). "
   ]
  },
  {
   "cell_type": "code",
   "execution_count": 114,
   "id": "68113483",
   "metadata": {},
   "outputs": [],
   "source": [
    "round_level_data_2[['stSG_adjusted','halflifeSG_strength']] = round_level_data_2[['stSG_adjusted','halflifeSG_strength']].fillna(0) "
   ]
  },
  {
   "cell_type": "code",
   "execution_count": 115,
   "id": "aecb150a",
   "metadata": {},
   "outputs": [
    {
     "name": "stdout",
     "output_type": "stream",
     "text": [
      "<class 'pandas.core.frame.DataFrame'>\n",
      "Int64Index: 99059 entries, 0 to 99058\n",
      "Data columns (total 31 columns):\n",
      " #   Column                 Non-Null Count  Dtype         \n",
      "---  ------                 --------------  -----         \n",
      " 0   dg_id                  99059 non-null  int64         \n",
      " 1   player_name            99059 non-null  object        \n",
      " 2   event_id               99059 non-null  int64         \n",
      " 3   event_name             99059 non-null  object        \n",
      " 4   event_completed        99059 non-null  datetime64[ns]\n",
      " 5   fin_text               99059 non-null  object        \n",
      " 6   course_name            99059 non-null  object        \n",
      " 7   course_num             99059 non-null  int64         \n",
      " 8   course_par             99059 non-null  int64         \n",
      " 9   score                  99059 non-null  int64         \n",
      " 10  sg_app                 78573 non-null  float64       \n",
      " 11  sg_arg                 78573 non-null  float64       \n",
      " 12  sg_ott                 78573 non-null  float64       \n",
      " 13  sg_putt                78573 non-null  float64       \n",
      " 14  sg_total               99059 non-null  float64       \n",
      " 15  prev_round_tournament  99059 non-null  float64       \n",
      " 16  two_year_avg           99059 non-null  float64       \n",
      " 17  yearly_sg_app          80637 non-null  float64       \n",
      " 18  yearly_sg_arg          80637 non-null  float64       \n",
      " 19  yearly_sg_ott          80637 non-null  float64       \n",
      " 20  yearly_sg_putt         80637 non-null  float64       \n",
      " 21  sg_event_strength      99059 non-null  float64       \n",
      " 22  sg_adjusted            99059 non-null  float64       \n",
      " 23  stSG_adjusted          99059 non-null  float64       \n",
      " 24  halflifeSG_strength    99059 non-null  float64       \n",
      " 25  roundsplayed           99059 non-null  float64       \n",
      " 26  unknownplayer          99059 non-null  int32         \n",
      " 27  round_2                99059 non-null  uint8         \n",
      " 28  round_3                99059 non-null  uint8         \n",
      " 29  round_4                99059 non-null  uint8         \n",
      " 30  Weekend_round          99059 non-null  int32         \n",
      "dtypes: datetime64[ns](1), float64(16), int32(2), int64(5), object(4), uint8(3)\n",
      "memory usage: 23.5+ MB\n"
     ]
    }
   ],
   "source": [
    "round_level_data_2.info()"
   ]
  },
  {
   "cell_type": "markdown",
   "id": "419d32aa",
   "metadata": {},
   "source": [
    "**So we have dealt with all the null values that we wanted to get rid of (keep nulls in the SG columns, might need to drop these columns if we use the specific columns as factors)** "
   ]
  },
  {
   "cell_type": "markdown",
   "id": "3d623d93",
   "metadata": {},
   "source": [
    "# Adding in Course Information to the Table"
   ]
  },
  {
   "cell_type": "markdown",
   "id": "fadb1dc9",
   "metadata": {},
   "source": [
    "Read in the course information:"
   ]
  },
  {
   "cell_type": "code",
   "execution_count": 116,
   "id": "9069cc79",
   "metadata": {},
   "outputs": [
    {
     "name": "stdout",
     "output_type": "stream",
     "text": [
      "<class 'pandas.core.frame.DataFrame'>\n",
      "RangeIndex: 77 entries, 0 to 76\n",
      "Data columns (total 32 columns):\n",
      " #   Column                Non-Null Count  Dtype  \n",
      "---  ------                --------------  -----  \n",
      " 0   course                77 non-null     object \n",
      " 1   par                   77 non-null     int64  \n",
      " 2   yardage               77 non-null     int64  \n",
      " 3   yardage_4_5           77 non-null     int64  \n",
      " 4   yardage_3             77 non-null     int64  \n",
      " 5   adj_score_to_par      77 non-null     float64\n",
      " 6   adj_par_3_score       77 non-null     float64\n",
      " 7   adj_par_4_score       77 non-null     float64\n",
      " 8   adj_par_5_score       77 non-null     float64\n",
      " 9   adj_driving_distance  77 non-null     float64\n",
      " 10  adj_sd_distance       77 non-null     float64\n",
      " 11  adj_driving_accuracy  77 non-null     float64\n",
      " 12  putt_sg               77 non-null     float64\n",
      " 13  arg_sg                77 non-null     float64\n",
      " 14  app_sg                77 non-null     float64\n",
      " 15  ott_sg                77 non-null     float64\n",
      " 16  fw_width              77 non-null     float64\n",
      " 17  fw_diff               0 non-null      float64\n",
      " 18  rgh_diff              0 non-null      float64\n",
      " 19  non_rgh_diff          0 non-null      float64\n",
      " 20  miss_fw_pen_frac      77 non-null     float64\n",
      " 21  adj_gir               77 non-null     float64\n",
      " 22  less_150_sg           77 non-null     float64\n",
      " 23  greater_150_sg        77 non-null     float64\n",
      " 24  arg_fairway_sg        77 non-null     float64\n",
      " 25  arg_rough_sg          77 non-null     float64\n",
      " 26  arg_bunker_sg         77 non-null     float64\n",
      " 27  less_5_ft_sg          77 non-null     float64\n",
      " 28  greater_5_less_15_sg  77 non-null     float64\n",
      " 29  greater_15_sg         77 non-null     float64\n",
      " 30  adj_penalties         0 non-null      float64\n",
      " 31  adj_ob                0 non-null      float64\n",
      "dtypes: float64(27), int64(4), object(1)\n",
      "memory usage: 19.4+ KB\n"
     ]
    }
   ],
   "source": [
    "coursetable = pd.read_csv('dg_course_table (4).csv')\n",
    "df = coursetable.replace('undefined',np.nan)\n",
    "df.info()"
   ]
  },
  {
   "cell_type": "code",
   "execution_count": 117,
   "id": "0d3d3b73",
   "metadata": {},
   "outputs": [
    {
     "data": {
      "text/html": [
       "<div>\n",
       "<style scoped>\n",
       "    .dataframe tbody tr th:only-of-type {\n",
       "        vertical-align: middle;\n",
       "    }\n",
       "\n",
       "    .dataframe tbody tr th {\n",
       "        vertical-align: top;\n",
       "    }\n",
       "\n",
       "    .dataframe thead th {\n",
       "        text-align: right;\n",
       "    }\n",
       "</style>\n",
       "<table border=\"1\" class=\"dataframe\">\n",
       "  <thead>\n",
       "    <tr style=\"text-align: right;\">\n",
       "      <th></th>\n",
       "      <th>par</th>\n",
       "      <th>yardage</th>\n",
       "      <th>yardage_4_5</th>\n",
       "      <th>yardage_3</th>\n",
       "      <th>adj_score_to_par</th>\n",
       "      <th>adj_par_3_score</th>\n",
       "      <th>adj_par_4_score</th>\n",
       "      <th>adj_par_5_score</th>\n",
       "      <th>adj_driving_distance</th>\n",
       "      <th>adj_sd_distance</th>\n",
       "      <th>...</th>\n",
       "      <th>miss_fw_pen_frac</th>\n",
       "      <th>adj_gir</th>\n",
       "      <th>less_150_sg</th>\n",
       "      <th>greater_150_sg</th>\n",
       "      <th>arg_fairway_sg</th>\n",
       "      <th>arg_rough_sg</th>\n",
       "      <th>arg_bunker_sg</th>\n",
       "      <th>less_5_ft_sg</th>\n",
       "      <th>greater_5_less_15_sg</th>\n",
       "      <th>greater_15_sg</th>\n",
       "    </tr>\n",
       "  </thead>\n",
       "  <tbody>\n",
       "    <tr>\n",
       "      <th>count</th>\n",
       "      <td>77.000000</td>\n",
       "      <td>77.000000</td>\n",
       "      <td>77.000000</td>\n",
       "      <td>77.000000</td>\n",
       "      <td>77.000000</td>\n",
       "      <td>77.000000</td>\n",
       "      <td>77.000000</td>\n",
       "      <td>77.000000</td>\n",
       "      <td>77.000000</td>\n",
       "      <td>77.000000</td>\n",
       "      <td>...</td>\n",
       "      <td>77.000000</td>\n",
       "      <td>77.000000</td>\n",
       "      <td>77.000000</td>\n",
       "      <td>77.000000</td>\n",
       "      <td>77.000000</td>\n",
       "      <td>77.000000</td>\n",
       "      <td>77.000000</td>\n",
       "      <td>77.000000</td>\n",
       "      <td>77.000000</td>\n",
       "      <td>77.000000</td>\n",
       "    </tr>\n",
       "    <tr>\n",
       "      <th>mean</th>\n",
       "      <td>71.090909</td>\n",
       "      <td>7211.350649</td>\n",
       "      <td>461.974026</td>\n",
       "      <td>191.181818</td>\n",
       "      <td>0.007403</td>\n",
       "      <td>0.086364</td>\n",
       "      <td>0.060909</td>\n",
       "      <td>-0.317403</td>\n",
       "      <td>287.415584</td>\n",
       "      <td>18.406494</td>\n",
       "      <td>...</td>\n",
       "      <td>0.038819</td>\n",
       "      <td>0.677521</td>\n",
       "      <td>-0.000935</td>\n",
       "      <td>0.003506</td>\n",
       "      <td>-0.008104</td>\n",
       "      <td>-0.000584</td>\n",
       "      <td>-0.003377</td>\n",
       "      <td>0.002104</td>\n",
       "      <td>-0.002325</td>\n",
       "      <td>-0.002130</td>\n",
       "    </tr>\n",
       "    <tr>\n",
       "      <th>std</th>\n",
       "      <td>0.861178</td>\n",
       "      <td>193.481861</td>\n",
       "      <td>13.092760</td>\n",
       "      <td>9.624157</td>\n",
       "      <td>1.506658</td>\n",
       "      <td>0.073322</td>\n",
       "      <td>0.083904</td>\n",
       "      <td>0.122307</td>\n",
       "      <td>7.358151</td>\n",
       "      <td>2.054157</td>\n",
       "      <td>...</td>\n",
       "      <td>0.025859</td>\n",
       "      <td>0.059111</td>\n",
       "      <td>0.036377</td>\n",
       "      <td>0.035875</td>\n",
       "      <td>0.029487</td>\n",
       "      <td>0.050021</td>\n",
       "      <td>0.059040</td>\n",
       "      <td>0.004941</td>\n",
       "      <td>0.018678</td>\n",
       "      <td>0.015552</td>\n",
       "    </tr>\n",
       "    <tr>\n",
       "      <th>min</th>\n",
       "      <td>70.000000</td>\n",
       "      <td>6802.000000</td>\n",
       "      <td>430.000000</td>\n",
       "      <td>168.000000</td>\n",
       "      <td>-3.230000</td>\n",
       "      <td>-0.050000</td>\n",
       "      <td>-0.090000</td>\n",
       "      <td>-0.660000</td>\n",
       "      <td>270.200000</td>\n",
       "      <td>15.000000</td>\n",
       "      <td>...</td>\n",
       "      <td>0.001300</td>\n",
       "      <td>0.546900</td>\n",
       "      <td>-0.088000</td>\n",
       "      <td>-0.074000</td>\n",
       "      <td>-0.101000</td>\n",
       "      <td>-0.110000</td>\n",
       "      <td>-0.291000</td>\n",
       "      <td>-0.012000</td>\n",
       "      <td>-0.046000</td>\n",
       "      <td>-0.058000</td>\n",
       "    </tr>\n",
       "    <tr>\n",
       "      <th>25%</th>\n",
       "      <td>70.000000</td>\n",
       "      <td>7081.000000</td>\n",
       "      <td>453.000000</td>\n",
       "      <td>186.000000</td>\n",
       "      <td>-1.140000</td>\n",
       "      <td>0.040000</td>\n",
       "      <td>-0.010000</td>\n",
       "      <td>-0.400000</td>\n",
       "      <td>282.900000</td>\n",
       "      <td>17.100000</td>\n",
       "      <td>...</td>\n",
       "      <td>0.017900</td>\n",
       "      <td>0.635000</td>\n",
       "      <td>-0.026000</td>\n",
       "      <td>-0.016000</td>\n",
       "      <td>-0.026000</td>\n",
       "      <td>-0.039000</td>\n",
       "      <td>-0.025000</td>\n",
       "      <td>0.000000</td>\n",
       "      <td>-0.014000</td>\n",
       "      <td>-0.011000</td>\n",
       "    </tr>\n",
       "    <tr>\n",
       "      <th>50%</th>\n",
       "      <td>71.000000</td>\n",
       "      <td>7248.000000</td>\n",
       "      <td>464.000000</td>\n",
       "      <td>191.000000</td>\n",
       "      <td>0.070000</td>\n",
       "      <td>0.070000</td>\n",
       "      <td>0.050000</td>\n",
       "      <td>-0.300000</td>\n",
       "      <td>286.400000</td>\n",
       "      <td>17.900000</td>\n",
       "      <td>...</td>\n",
       "      <td>0.036300</td>\n",
       "      <td>0.674000</td>\n",
       "      <td>-0.001000</td>\n",
       "      <td>0.003000</td>\n",
       "      <td>-0.001000</td>\n",
       "      <td>0.000000</td>\n",
       "      <td>0.005000</td>\n",
       "      <td>0.002000</td>\n",
       "      <td>-0.001000</td>\n",
       "      <td>0.002000</td>\n",
       "    </tr>\n",
       "    <tr>\n",
       "      <th>75%</th>\n",
       "      <td>72.000000</td>\n",
       "      <td>7337.000000</td>\n",
       "      <td>470.000000</td>\n",
       "      <td>197.000000</td>\n",
       "      <td>0.930000</td>\n",
       "      <td>0.130000</td>\n",
       "      <td>0.120000</td>\n",
       "      <td>-0.240000</td>\n",
       "      <td>292.000000</td>\n",
       "      <td>19.400000</td>\n",
       "      <td>...</td>\n",
       "      <td>0.056500</td>\n",
       "      <td>0.722400</td>\n",
       "      <td>0.022000</td>\n",
       "      <td>0.028000</td>\n",
       "      <td>0.013000</td>\n",
       "      <td>0.030000</td>\n",
       "      <td>0.031000</td>\n",
       "      <td>0.005000</td>\n",
       "      <td>0.012000</td>\n",
       "      <td>0.007000</td>\n",
       "    </tr>\n",
       "    <tr>\n",
       "      <th>max</th>\n",
       "      <td>73.000000</td>\n",
       "      <td>7671.000000</td>\n",
       "      <td>496.000000</td>\n",
       "      <td>213.000000</td>\n",
       "      <td>4.450000</td>\n",
       "      <td>0.290000</td>\n",
       "      <td>0.290000</td>\n",
       "      <td>-0.090000</td>\n",
       "      <td>304.800000</td>\n",
       "      <td>27.500000</td>\n",
       "      <td>...</td>\n",
       "      <td>0.105100</td>\n",
       "      <td>0.787000</td>\n",
       "      <td>0.088000</td>\n",
       "      <td>0.085000</td>\n",
       "      <td>0.053000</td>\n",
       "      <td>0.126000</td>\n",
       "      <td>0.113000</td>\n",
       "      <td>0.013000</td>\n",
       "      <td>0.040000</td>\n",
       "      <td>0.031000</td>\n",
       "    </tr>\n",
       "  </tbody>\n",
       "</table>\n",
       "<p>8 rows × 26 columns</p>\n",
       "</div>"
      ],
      "text/plain": [
       "             par      yardage  yardage_4_5   yardage_3  adj_score_to_par  \\\n",
       "count  77.000000    77.000000    77.000000   77.000000         77.000000   \n",
       "mean   71.090909  7211.350649   461.974026  191.181818          0.007403   \n",
       "std     0.861178   193.481861    13.092760    9.624157          1.506658   \n",
       "min    70.000000  6802.000000   430.000000  168.000000         -3.230000   \n",
       "25%    70.000000  7081.000000   453.000000  186.000000         -1.140000   \n",
       "50%    71.000000  7248.000000   464.000000  191.000000          0.070000   \n",
       "75%    72.000000  7337.000000   470.000000  197.000000          0.930000   \n",
       "max    73.000000  7671.000000   496.000000  213.000000          4.450000   \n",
       "\n",
       "       adj_par_3_score  adj_par_4_score  adj_par_5_score  \\\n",
       "count        77.000000        77.000000        77.000000   \n",
       "mean          0.086364         0.060909        -0.317403   \n",
       "std           0.073322         0.083904         0.122307   \n",
       "min          -0.050000        -0.090000        -0.660000   \n",
       "25%           0.040000        -0.010000        -0.400000   \n",
       "50%           0.070000         0.050000        -0.300000   \n",
       "75%           0.130000         0.120000        -0.240000   \n",
       "max           0.290000         0.290000        -0.090000   \n",
       "\n",
       "       adj_driving_distance  adj_sd_distance  ...  miss_fw_pen_frac  \\\n",
       "count             77.000000        77.000000  ...         77.000000   \n",
       "mean             287.415584        18.406494  ...          0.038819   \n",
       "std                7.358151         2.054157  ...          0.025859   \n",
       "min              270.200000        15.000000  ...          0.001300   \n",
       "25%              282.900000        17.100000  ...          0.017900   \n",
       "50%              286.400000        17.900000  ...          0.036300   \n",
       "75%              292.000000        19.400000  ...          0.056500   \n",
       "max              304.800000        27.500000  ...          0.105100   \n",
       "\n",
       "         adj_gir  less_150_sg  greater_150_sg  arg_fairway_sg  arg_rough_sg  \\\n",
       "count  77.000000    77.000000       77.000000       77.000000     77.000000   \n",
       "mean    0.677521    -0.000935        0.003506       -0.008104     -0.000584   \n",
       "std     0.059111     0.036377        0.035875        0.029487      0.050021   \n",
       "min     0.546900    -0.088000       -0.074000       -0.101000     -0.110000   \n",
       "25%     0.635000    -0.026000       -0.016000       -0.026000     -0.039000   \n",
       "50%     0.674000    -0.001000        0.003000       -0.001000      0.000000   \n",
       "75%     0.722400     0.022000        0.028000        0.013000      0.030000   \n",
       "max     0.787000     0.088000        0.085000        0.053000      0.126000   \n",
       "\n",
       "       arg_bunker_sg  less_5_ft_sg  greater_5_less_15_sg  greater_15_sg  \n",
       "count      77.000000     77.000000             77.000000      77.000000  \n",
       "mean       -0.003377      0.002104             -0.002325      -0.002130  \n",
       "std         0.059040      0.004941              0.018678       0.015552  \n",
       "min        -0.291000     -0.012000             -0.046000      -0.058000  \n",
       "25%        -0.025000      0.000000             -0.014000      -0.011000  \n",
       "50%         0.005000      0.002000             -0.001000       0.002000  \n",
       "75%         0.031000      0.005000              0.012000       0.007000  \n",
       "max         0.113000      0.013000              0.040000       0.031000  \n",
       "\n",
       "[8 rows x 26 columns]"
      ]
     },
     "execution_count": 117,
     "metadata": {},
     "output_type": "execute_result"
    }
   ],
   "source": [
    "# drop empty columns and non important columns to the classifier problem\n",
    "df = df.drop(columns=['fw_diff','rgh_diff','non_rgh_diff','adj_penalties','adj_ob'])\n",
    "df.describe()"
   ]
  },
  {
   "cell_type": "markdown",
   "id": "928869eb",
   "metadata": {},
   "source": [
    "**Noticing one thing to adjust for, yardage needs to be adjusted to par**\n",
    "\n",
    "To do this, just divide by the 'par' to get yardage per par. "
   ]
  },
  {
   "cell_type": "code",
   "execution_count": 118,
   "id": "504202bf",
   "metadata": {},
   "outputs": [
    {
     "data": {
      "text/html": [
       "<div>\n",
       "<style scoped>\n",
       "    .dataframe tbody tr th:only-of-type {\n",
       "        vertical-align: middle;\n",
       "    }\n",
       "\n",
       "    .dataframe tbody tr th {\n",
       "        vertical-align: top;\n",
       "    }\n",
       "\n",
       "    .dataframe thead th {\n",
       "        text-align: right;\n",
       "    }\n",
       "</style>\n",
       "<table border=\"1\" class=\"dataframe\">\n",
       "  <thead>\n",
       "    <tr style=\"text-align: right;\">\n",
       "      <th></th>\n",
       "      <th>course</th>\n",
       "      <th>yardage/par</th>\n",
       "      <th>par</th>\n",
       "      <th>yardage</th>\n",
       "      <th>fw_width</th>\n",
       "    </tr>\n",
       "  </thead>\n",
       "  <tbody>\n",
       "    <tr>\n",
       "      <th>32</th>\n",
       "      <td>Olympia Fields CC (North)</td>\n",
       "      <td>104.057143</td>\n",
       "      <td>70</td>\n",
       "      <td>7284</td>\n",
       "      <td>26.4</td>\n",
       "    </tr>\n",
       "    <tr>\n",
       "      <th>11</th>\n",
       "      <td>Quail Hollow Club</td>\n",
       "      <td>104.352113</td>\n",
       "      <td>71</td>\n",
       "      <td>7409</td>\n",
       "      <td>30.8</td>\n",
       "    </tr>\n",
       "    <tr>\n",
       "      <th>10</th>\n",
       "      <td>Congressional CC (Blue)</td>\n",
       "      <td>104.450704</td>\n",
       "      <td>71</td>\n",
       "      <td>7416</td>\n",
       "      <td>26.7</td>\n",
       "    </tr>\n",
       "    <tr>\n",
       "      <th>19</th>\n",
       "      <td>Firestone CC (South)</td>\n",
       "      <td>104.814286</td>\n",
       "      <td>70</td>\n",
       "      <td>7337</td>\n",
       "      <td>23.5</td>\n",
       "    </tr>\n",
       "    <tr>\n",
       "      <th>2</th>\n",
       "      <td>Torrey Pines (South)</td>\n",
       "      <td>105.236111</td>\n",
       "      <td>72</td>\n",
       "      <td>7577</td>\n",
       "      <td>26.4</td>\n",
       "    </tr>\n",
       "    <tr>\n",
       "      <th>3</th>\n",
       "      <td>Quail Hollow Club (PGA Championship)</td>\n",
       "      <td>105.464789</td>\n",
       "      <td>71</td>\n",
       "      <td>7488</td>\n",
       "      <td>31.4</td>\n",
       "    </tr>\n",
       "    <tr>\n",
       "      <th>12</th>\n",
       "      <td>Winged Foot GC</td>\n",
       "      <td>105.600000</td>\n",
       "      <td>70</td>\n",
       "      <td>7392</td>\n",
       "      <td>31.9</td>\n",
       "    </tr>\n",
       "    <tr>\n",
       "      <th>9</th>\n",
       "      <td>Southern Hills Country Club</td>\n",
       "      <td>105.971429</td>\n",
       "      <td>70</td>\n",
       "      <td>7418</td>\n",
       "      <td>44.2</td>\n",
       "    </tr>\n",
       "    <tr>\n",
       "      <th>0</th>\n",
       "      <td>Ocean Course at Kiawah Island</td>\n",
       "      <td>106.541667</td>\n",
       "      <td>72</td>\n",
       "      <td>7671</td>\n",
       "      <td>36.7</td>\n",
       "    </tr>\n",
       "    <tr>\n",
       "      <th>1</th>\n",
       "      <td>Torrey Pines South (U.S. Open)</td>\n",
       "      <td>107.535211</td>\n",
       "      <td>71</td>\n",
       "      <td>7635</td>\n",
       "      <td>28.9</td>\n",
       "    </tr>\n",
       "  </tbody>\n",
       "</table>\n",
       "</div>"
      ],
      "text/plain": [
       "                                  course  yardage/par  par  yardage  fw_width\n",
       "32             Olympia Fields CC (North)   104.057143   70     7284      26.4\n",
       "11                     Quail Hollow Club   104.352113   71     7409      30.8\n",
       "10               Congressional CC (Blue)   104.450704   71     7416      26.7\n",
       "19                  Firestone CC (South)   104.814286   70     7337      23.5\n",
       "2                   Torrey Pines (South)   105.236111   72     7577      26.4\n",
       "3   Quail Hollow Club (PGA Championship)   105.464789   71     7488      31.4\n",
       "12                        Winged Foot GC   105.600000   70     7392      31.9\n",
       "9            Southern Hills Country Club   105.971429   70     7418      44.2\n",
       "0          Ocean Course at Kiawah Island   106.541667   72     7671      36.7\n",
       "1         Torrey Pines South (U.S. Open)   107.535211   71     7635      28.9"
      ]
     },
     "execution_count": 118,
     "metadata": {},
     "output_type": "execute_result"
    }
   ],
   "source": [
    "df2 = df.copy()\n",
    "\n",
    "df2['yardage/par'] = df2['yardage']/df2['par']\n",
    "\n",
    "df2[['course','yardage/par','par','yardage','fw_width']].sort_values('yardage/par').tail(10)"
   ]
  },
  {
   "cell_type": "markdown",
   "id": "1d7535d4",
   "metadata": {},
   "source": [
    "Only able to use columns about the course, the other columns are calculated using tournament averages, so they would cause a form of data leakage possibly (could be worth looking into past tournament averages(?) but this information is using total tournament averages at the course)"
   ]
  },
  {
   "cell_type": "code",
   "execution_count": 119,
   "id": "2f364db1",
   "metadata": {},
   "outputs": [
    {
     "data": {
      "text/html": [
       "<div>\n",
       "<style scoped>\n",
       "    .dataframe tbody tr th:only-of-type {\n",
       "        vertical-align: middle;\n",
       "    }\n",
       "\n",
       "    .dataframe tbody tr th {\n",
       "        vertical-align: top;\n",
       "    }\n",
       "\n",
       "    .dataframe thead th {\n",
       "        text-align: right;\n",
       "    }\n",
       "</style>\n",
       "<table border=\"1\" class=\"dataframe\">\n",
       "  <thead>\n",
       "    <tr style=\"text-align: right;\">\n",
       "      <th></th>\n",
       "      <th>course</th>\n",
       "      <th>fw_width</th>\n",
       "      <th>yardage</th>\n",
       "      <th>yardage/par</th>\n",
       "      <th>par</th>\n",
       "    </tr>\n",
       "  </thead>\n",
       "  <tbody>\n",
       "    <tr>\n",
       "      <th>0</th>\n",
       "      <td>Ocean Course at Kiawah Island</td>\n",
       "      <td>36.7</td>\n",
       "      <td>7671</td>\n",
       "      <td>106.541667</td>\n",
       "      <td>72</td>\n",
       "    </tr>\n",
       "    <tr>\n",
       "      <th>1</th>\n",
       "      <td>Torrey Pines South (U.S. Open)</td>\n",
       "      <td>28.9</td>\n",
       "      <td>7635</td>\n",
       "      <td>107.535211</td>\n",
       "      <td>71</td>\n",
       "    </tr>\n",
       "    <tr>\n",
       "      <th>2</th>\n",
       "      <td>Torrey Pines (South)</td>\n",
       "      <td>26.4</td>\n",
       "      <td>7577</td>\n",
       "      <td>105.236111</td>\n",
       "      <td>72</td>\n",
       "    </tr>\n",
       "    <tr>\n",
       "      <th>3</th>\n",
       "      <td>Quail Hollow Club (PGA Championship)</td>\n",
       "      <td>31.4</td>\n",
       "      <td>7488</td>\n",
       "      <td>105.464789</td>\n",
       "      <td>71</td>\n",
       "    </tr>\n",
       "    <tr>\n",
       "      <th>4</th>\n",
       "      <td>Crooked Stick GC</td>\n",
       "      <td>35.2</td>\n",
       "      <td>7474</td>\n",
       "      <td>103.805556</td>\n",
       "      <td>72</td>\n",
       "    </tr>\n",
       "    <tr>\n",
       "      <th>5</th>\n",
       "      <td>Medinah Country Club (No. 3)</td>\n",
       "      <td>28.1</td>\n",
       "      <td>7470</td>\n",
       "      <td>103.750000</td>\n",
       "      <td>72</td>\n",
       "    </tr>\n",
       "    <tr>\n",
       "      <th>6</th>\n",
       "      <td>Trump National Doral</td>\n",
       "      <td>35.9</td>\n",
       "      <td>7469</td>\n",
       "      <td>103.736111</td>\n",
       "      <td>72</td>\n",
       "    </tr>\n",
       "    <tr>\n",
       "      <th>7</th>\n",
       "      <td>Augusta National Golf Club</td>\n",
       "      <td>50.2</td>\n",
       "      <td>7444</td>\n",
       "      <td>103.388889</td>\n",
       "      <td>72</td>\n",
       "    </tr>\n",
       "    <tr>\n",
       "      <th>8</th>\n",
       "      <td>Caves Valley Golf Club</td>\n",
       "      <td>33.1</td>\n",
       "      <td>7424</td>\n",
       "      <td>103.111111</td>\n",
       "      <td>72</td>\n",
       "    </tr>\n",
       "    <tr>\n",
       "      <th>9</th>\n",
       "      <td>Southern Hills Country Club</td>\n",
       "      <td>44.2</td>\n",
       "      <td>7418</td>\n",
       "      <td>105.971429</td>\n",
       "      <td>70</td>\n",
       "    </tr>\n",
       "  </tbody>\n",
       "</table>\n",
       "</div>"
      ],
      "text/plain": [
       "                                 course  fw_width  yardage  yardage/par  par\n",
       "0         Ocean Course at Kiawah Island      36.7     7671   106.541667   72\n",
       "1        Torrey Pines South (U.S. Open)      28.9     7635   107.535211   71\n",
       "2                  Torrey Pines (South)      26.4     7577   105.236111   72\n",
       "3  Quail Hollow Club (PGA Championship)      31.4     7488   105.464789   71\n",
       "4                      Crooked Stick GC      35.2     7474   103.805556   72\n",
       "5          Medinah Country Club (No. 3)      28.1     7470   103.750000   72\n",
       "6                  Trump National Doral      35.9     7469   103.736111   72\n",
       "7            Augusta National Golf Club      50.2     7444   103.388889   72\n",
       "8                Caves Valley Golf Club      33.1     7424   103.111111   72\n",
       "9           Southern Hills Country Club      44.2     7418   105.971429   70"
      ]
     },
     "execution_count": 119,
     "metadata": {},
     "output_type": "execute_result"
    }
   ],
   "source": [
    "df3 = df2[['course','fw_width','yardage','yardage/par','par']].copy()\n",
    "df3.head(10)"
   ]
  },
  {
   "cell_type": "code",
   "execution_count": 120,
   "id": "00e5491c",
   "metadata": {},
   "outputs": [],
   "source": [
    "# get the list of course names present in the actual dataset:\n",
    "list1 = list(round_level_data_2.course_name.unique())\n",
    "\n",
    "# get list of course names in this course table:\n",
    "list2 = list(df3.course.unique())"
   ]
  },
  {
   "cell_type": "code",
   "execution_count": 121,
   "id": "26aa8bcd",
   "metadata": {},
   "outputs": [
    {
     "name": "stdout",
     "output_type": "stream",
     "text": [
      "Common course names:\n",
      "['Plantation Course at Kapalua', 'TPC Scottsdale', 'PGA National (Champion)', 'Club de Golf Chapultepec', 'Innisbrook Resort (Copperhead)', 'Eagle Point Golf Club', 'TPC Sawgrass', 'TPC Four Seasons Resort', 'TPC Southwind', 'TPC River Highlands', 'TPC Potomac at Avenel Farm', 'The Old White TPC', 'TPC Deere Run', 'RTJ Trail (Grand National)', 'Glen Abbey GC', 'Firestone CC (South)', 'Glen Oaks Club', 'TPC Boston', 'Conway Farms GC', 'TPC Summerlin', 'Quail Hollow Club', 'Trinity Forest Golf Club', 'Keene Trace Golf Club', 'Bellerive CC', 'Ridgewood CC', 'Aronimink GC', 'Sea Island GC (Seaside)', 'Waialae Country Club', 'Pebble Beach Golf Links', 'TPC San Antonio (Oaks Course)', 'Harbour Town Golf Links', 'Bethpage Black', 'Colonial Country Club', 'Muirfield Village Golf Club', 'Detroit Golf Club', 'TPC Twin Cities', 'Sedgefield Country Club', 'Liberty National Golf Club', 'Medinah Country Club (No. 3)', 'East Lake Golf Club', 'Country Club of Jackson', 'Golf Club of Houston', 'TPC Harding Park', 'Olympia Fields CC (North)', 'Winged Foot GC', 'Shadow Creek Golf Course', 'Sherwood Country Club', 'Memorial Park Golf Course', 'Augusta National Golf Club', 'The Riviera Country Club', 'The Concession Golf Club', 'TPC Craig Ranch', 'Ocean Course at Kiawah Island', 'Congaree Golf Club', 'Torrey Pines (South)', 'Caves Valley Golf Club', 'The Summit Club', 'Pete Dye Stadium Course', 'Vidanta Vallarta', 'Southern Hills Country Club']\n",
      "\n",
      " Course names in main dataframe and not course dataframe:\n",
      "['Waialae CC', 'La Quinta CC', 'Nicklaus Tournament Course', 'Stadium Course', 'Torrey Pines GC (South)', 'Torrey Pines (North)', 'Monterey Peninsula CC', 'Spyglass Hill GC', 'Pebble Beach GL', 'Riviera CC', 'Bay Hill Club & Lodge', 'Coco Beach Golf & CC', 'GC of Houston', 'Augusta National GC', 'Harbour Town GL', 'TPC San Antonio - AT&T Oaks', 'Colonial CC', 'Muirfield Village GC', 'Erin Hills', 'Royal Birkdale GC', 'Quail Hollow-PGA Championship', 'Sedgefield CC', 'East Lake GC', 'Silverado Resort and Spa North', 'TPC Kuala Lumpur', 'Club at Nine Bridges', 'Sheshan International GC', 'CC of Jackson', 'El Camaleon GC', 'Sea Island Resort (Plantation)', 'Sea Island Resort (Seaside)', 'Albany', 'Corales Golf Club', 'Shinnecock Hills GC', 'Carnoustie GC', 'Nine Bridges', 'Sea Island GC (Plantation)', 'La Quinta Country Club', 'Torrey Pines GC (North)', 'Spyglass Hill Golf Course', 'Riviera Country Club', 'Hamilton Golf & Country Club', 'Royal Portrush Golf Club', 'Montreux Golf & Country Club', 'Silverado Resort & Spa (North)', 'Accordia Golf Narashino CC', 'Port Royal Golf Course', 'El Camaleon Golf Club', 'Grand Reserve Country Club', 'Old Greenwood Golf Course at Tahoe Mountain Club', \"Royal St. George's GC\", 'Kasumigaseki Country Club', 'Tahoe Mt. Club (Old Greenwood)', 'Grand Reserve Golf Club', \"St. George's G&CC\", 'The Country Club']\n",
      "\n",
      " Course names in course dataframe and not found in main dataframe:\n",
      "['Torrey Pines South (U.S. Open)', 'Quail Hollow Club (PGA Championship)', 'Crooked Stick GC', 'Trump National Doral', 'Congressional CC (Blue)', 'Bay Hill Club &amp; Lodge', 'Whistling Straits', 'Muirfield Village Golf Club (Workday)', 'TPC Louisiana', 'Baltusrol GC', 'Robert Trent Jones GC', 'Silverado Resort &amp; Spa (North)', \"St. George's G&amp;CC\", 'Pebble Beach Golf Links (U.S. Open)', 'PGA West (Palmer)', 'Hamilton Golf &amp; Country Club', 'Plainfield CC']\n"
     ]
    }
   ],
   "source": [
    "print('Common course names:')\n",
    "print([i for i in list1 if i in list2])\n",
    "print('\\n Course names in main dataframe and not course dataframe:')\n",
    "print([i for i in list1 if i not in list2])\n",
    "print('\\n Course names in course dataframe and not found in main dataframe:')\n",
    "print([i for i in list2 if i not in list1])"
   ]
  },
  {
   "cell_type": "markdown",
   "id": "4c3e0dad",
   "metadata": {},
   "source": [
    "So, we need to clean the data and connect the two columns better by creating some values for the courses, while also doing some renaming conventions so the courses match (also, some courses have different names within the DF). "
   ]
  },
  {
   "cell_type": "markdown",
   "id": "32f234a0",
   "metadata": {},
   "source": [
    "**Rename values in the course_name column from main round dataframe:**"
   ]
  },
  {
   "cell_type": "code",
   "execution_count": 122,
   "id": "e1131cba",
   "metadata": {},
   "outputs": [],
   "source": [
    "round_level_data_2.replace({'Waialae CC':'Waialae Country Club',\n",
    "'Stadium Course': 'Pete Dye Stadium Course',\n",
    "'Torrey Pines GC (South)':'Torrey Pines(South)',\n",
    "'Pebble Beach GL':'Pebble Beach Golf Links',\n",
    "'Riviera CC':'The Riviera Country Club',\n",
    "'Riviera Country Club':'The Riviera Country Club',\n",
    "'GC of Houston':'Golf Club of Houston',\n",
    "'Augusta National GC':'Augusta National Golf Club',\n",
    "'Harbour Town GL':'Harbour Town Golf Links',\n",
    "'TPC San Antonio - AT&T Oaks':'TPC San Antonio (Oaks Course)',\n",
    "'Colonial CC':'Colonial Country Club',\n",
    "'Muirfield Village GC':'Muirfield Village Golf Club',\n",
    "'Nine Bridges':'Club at Nine Bridges',\n",
    "'Quail Hollow-PGA Championship':'Quail Hollow Club (PGA Championship)',\n",
    "'Sedgefield CC':'Sedgefield Country Club',\n",
    "'East Lake GC':'East Lake Golf Club',\n",
    "'Silverado Resort & Spa (North)':'Silverado Resort and Spa North',\n",
    "'Sea Island Resort (Seaside)':'Sea Island GC (Seaside)',\n",
    "'Sea Island Resort (Plantation)':'Sea Island GC (Plantation)',\n",
    "'La Quinta CC':'La Quinta Country Club',\n",
    "'Torrey Pines GC (North)':'Torrey Pines (North)',\n",
    "'Spyglass Hill GC':'Spyglass Hill Golf Course',\n",
    "'El Camaleon GC':'El Camaleon Golf Club',\n",
    "'Old Greenwood Golf Course at Tahoe Mountain Club':'Tahoe Mt. Club (Old Greenwood)',\n",
    "'Grand Reserve Golf Club':'Grand Reserve Country Club',\n",
    "'CC of Jackson':'Country Club of Jackson'},inplace=True)"
   ]
  },
  {
   "cell_type": "markdown",
   "id": "5b850fc4",
   "metadata": {},
   "source": [
    "**Rename some values in the course DF:**"
   ]
  },
  {
   "cell_type": "code",
   "execution_count": 123,
   "id": "b9d6dbfa",
   "metadata": {},
   "outputs": [],
   "source": [
    "df3.replace({'Bay Hill Club &amp; Lodge':'Bay Hill Club & Lodge',\n",
    "'Silverado Resort &amp; Spa (North)':'Silverado Resort and Spa North',\n",
    "'Hamilton Golf &amp; Country Club':'Hamilton Golf & Country Club'},inplace=True)"
   ]
  },
  {
   "cell_type": "markdown",
   "id": "ac8c8866",
   "metadata": {},
   "source": [
    "**Values found for courses without any data in the course dataframe:**"
   ]
  },
  {
   "cell_type": "code",
   "execution_count": 124,
   "id": "8f791ef4",
   "metadata": {},
   "outputs": [],
   "source": [
    "imputations = pd.DataFrame([{'course':'La Quinta Country Club',\n",
    " 'par':72,\n",
    " 'yardage': 7060.0,\n",
    " 'yardage/par': 98.05,\n",
    " 'fw_width':34.2},\n",
    "{'course':'Nicklaus Tournament Course',\n",
    " 'par':72,\n",
    " 'yardage': 7180.0,\n",
    " 'yardage/par':99.7,\n",
    " 'fw_width':34.2},\n",
    "{'course':'Torrey Pines(South)',\n",
    " 'par':72,\n",
    " 'yardage': 7775.0,\n",
    " 'yardage/par':108,\n",
    " 'fw_width':34.2},\n",
    "{'course':'Torrey Pines (North)',\n",
    " 'par':72,\n",
    " 'yardage': 7258.0,\n",
    " 'yardage/par':100.8,\n",
    " 'fw_width':34.2},\n",
    "{'course':'Spyglass Hill Golf Course',\n",
    " 'par':72,\n",
    " 'yardage': 7041.0,\n",
    " 'yardage/par':97.79,\n",
    " 'fw_width':34.2},\n",
    "{'course':'Coco Beach Golf & CC',\n",
    " 'par':72,\n",
    " 'yardage': 7506.0,\n",
    " 'yardage/par':104.25,\n",
    " 'fw_width':34.2},\n",
    "{'course':'Erin Hills',\n",
    " 'par':72,\n",
    " 'yardage': 7741.0,\n",
    " 'yardage/par':107.5,\n",
    " 'fw_width':34.2},\n",
    "{'course':'Royal Birkdale GC',\n",
    " 'par':70,\n",
    " 'yardage': 7156.0,\n",
    " 'yardage/par':102.22,\n",
    " 'fw_width':34.2},\n",
    "{'course':'TPC Kuala Lumpur',\n",
    " 'par':72,\n",
    " 'yardage': 7005.0,\n",
    " 'yardage/par':97.3,\n",
    " 'fw_width':34.2},\n",
    "{'course':'Club at Nine Bridges',\n",
    " 'par':72,\n",
    " 'yardage': 7184.0,\n",
    " 'yardage/par':99.7,\n",
    " 'fw_width':34.2},\n",
    "{'course':'Sheshan International GC',\n",
    " 'par':72,\n",
    " 'yardage': 7261.0,\n",
    " 'yardage/par':100.85,\n",
    " 'fw_width':34.2},\n",
    "{'course':'El Camaleon Golf Club',\n",
    " 'par':71,\n",
    " 'yardage': 7017.0,\n",
    " 'yardage/par':98.8,\n",
    " 'fw_width':34.2},\n",
    "{'course':'Sea Island GC (Plantation)',\n",
    " 'par':72,\n",
    " 'yardage': 7060.0,\n",
    " 'yardage/par':98.1,\n",
    " 'fw_width':34.2},\n",
    "{'course':'Albany',\n",
    " 'par':72,\n",
    " 'yardage': 7414.0,\n",
    " 'yardage/par':102.97,\n",
    " 'fw_width':34.2},\n",
    "{'course':'Corales Golf Club',\n",
    " 'par':72,\n",
    " 'yardage': 7670.0,\n",
    " 'yardage/par':106.5,\n",
    " 'fw_width':34.2},\n",
    "{'course':'Shinnecock Hills GC',\n",
    " 'par':70,\n",
    " 'yardage': 7440.0,\n",
    " 'yardage/par':106.28,\n",
    " 'fw_width':34.2},\n",
    "{'course':'Carnoustie GC',\n",
    " 'par':71,\n",
    " 'yardage': 7402.0,\n",
    " 'yardage/par':104.25,\n",
    " 'fw_width':34.2},\n",
    "{'course':'Royal Portrush Golf Club',\n",
    " 'par':71,\n",
    " 'yardage': 7344.0,\n",
    " 'yardage/par':103.4,\n",
    " 'fw_width':34.2},\n",
    "{'course':'Montreux Golf & Country Club',\n",
    " 'par':72,\n",
    " 'yardage': 7472.0,\n",
    " 'yardage/par':103.77,\n",
    " 'fw_width':34.2},\n",
    "{'course':'Accordia Golf Narashino CC',\n",
    " 'par':70,\n",
    " 'yardage': 7041.0,\n",
    " 'yardage/par':100.58,\n",
    " 'fw_width':34.2},\n",
    "{'course':'Port Royal Golf Course',\n",
    " 'par':71,\n",
    " 'yardage': 6828.0,\n",
    " 'yardage/par':96.1,\n",
    " 'fw_width':34.2},\n",
    "{'course':'Grand Reserve Country Club',\n",
    " 'par':72,\n",
    " 'yardage': 7506.0,\n",
    " 'yardage/par':104.25,\n",
    " 'fw_width':34.2},\n",
    "{'course':'Tahoe Mt. Club (Old Greenwood)',\n",
    " 'par':71,\n",
    " 'yardage': 7550.0,\n",
    " 'yardage/par':106.33,\n",
    " 'fw_width':34.2},\n",
    "{'course':\"Royal St. George's GC\",\n",
    " 'par':70,\n",
    " 'yardage': 7189.0,\n",
    " 'yardage/par':102.7,\n",
    " 'fw_width':34.2},\n",
    "{'course':\"Kasumigaseki Country Club\",\n",
    " 'par':71,\n",
    " 'yardage': 7447.0,\n",
    " 'yardage/par':104.9,\n",
    " 'fw_width':34.2},\n",
    "{'course':\"Monterey Peninsula CC\",\n",
    " 'par':71,\n",
    " 'yardage': 6957.0,\n",
    " 'yardage/par':97.9,\n",
    " 'fw_width':34.2},\n",
    "{'course':\"St. George's G&CC\",\n",
    " 'par':70,\n",
    " 'yardage': 7006,\n",
    " 'yardage/par':100.09,\n",
    " 'fw_width':34.9},\n",
    "{'course':'The Country Club',\n",
    " 'par':70,\n",
    " 'yardage': 7256.0,\n",
    " 'yardage/par':103.65,\n",
    " 'fw_width':34.9},])"
   ]
  },
  {
   "cell_type": "markdown",
   "id": "dee777aa",
   "metadata": {},
   "source": [
    "**Combine the imputed values into the course dataframe:**"
   ]
  },
  {
   "cell_type": "code",
   "execution_count": 125,
   "id": "2765e69a",
   "metadata": {},
   "outputs": [],
   "source": [
    "df4 = pd.concat([imputations,df3],axis=0,ignore_index=True)"
   ]
  },
  {
   "cell_type": "markdown",
   "id": "d939521b",
   "metadata": {},
   "source": [
    "Let's do one last check if there are any no connected values:"
   ]
  },
  {
   "cell_type": "code",
   "execution_count": 126,
   "id": "8319aad4",
   "metadata": {},
   "outputs": [
    {
     "name": "stdout",
     "output_type": "stream",
     "text": [
      "[]\n"
     ]
    }
   ],
   "source": [
    "list1 = list(round_level_data_2.course_name.unique())\n",
    "list2 = list(df4.course.unique())\n",
    "print([i for i in list1 if i not in list2])"
   ]
  },
  {
   "cell_type": "markdown",
   "id": "b7015e2c",
   "metadata": {},
   "source": [
    "# Merge the course data into the main dataframe:"
   ]
  },
  {
   "cell_type": "code",
   "execution_count": 127,
   "id": "3c57e0b0",
   "metadata": {},
   "outputs": [],
   "source": [
    "finaldf = round_level_data_2.merge(df4,how='left',left_on='course_name',right_on='course')"
   ]
  },
  {
   "cell_type": "code",
   "execution_count": 128,
   "id": "c96db132",
   "metadata": {},
   "outputs": [],
   "source": [
    "finaldf.drop(columns='course',inplace=True)"
   ]
  },
  {
   "cell_type": "markdown",
   "id": "952c637a",
   "metadata": {},
   "source": [
    "**Get average score to par for a tournament**"
   ]
  },
  {
   "cell_type": "markdown",
   "id": "08baf6ba",
   "metadata": {},
   "source": [
    "Measure of how hard a course played on a tournament level."
   ]
  },
  {
   "cell_type": "code",
   "execution_count": 129,
   "id": "d2d10df9",
   "metadata": {},
   "outputs": [],
   "source": [
    "# Groupby event and calculate the average of the players two year SG averages\n",
    "average_score = finaldf.groupby('event_completed')['score'].mean()\n",
    "average_score.rename('average_score',inplace=True)\n",
    "# Merge back onto the main DF\n",
    "finaldf = finaldf.merge(average_score,left_on='event_completed',right_on='event_completed',how='left')"
   ]
  },
  {
   "cell_type": "code",
   "execution_count": 130,
   "id": "757d4112",
   "metadata": {},
   "outputs": [],
   "source": [
    "finaldf['average_score_to_par'] = finaldf['average_score']-round_level_data_2['course_par'].mean()\n",
    "# drop average score, not as important as score to par\n",
    "finaldf.drop(columns='average_score',inplace=True)"
   ]
  },
  {
   "cell_type": "code",
   "execution_count": 131,
   "id": "ffa6b50d",
   "metadata": {},
   "outputs": [
    {
     "name": "stdout",
     "output_type": "stream",
     "text": [
      "<class 'pandas.core.frame.DataFrame'>\n",
      "Int64Index: 99059 entries, 0 to 99058\n",
      "Data columns (total 36 columns):\n",
      " #   Column                 Non-Null Count  Dtype         \n",
      "---  ------                 --------------  -----         \n",
      " 0   dg_id                  99059 non-null  int64         \n",
      " 1   player_name            99059 non-null  object        \n",
      " 2   event_id               99059 non-null  int64         \n",
      " 3   event_name             99059 non-null  object        \n",
      " 4   event_completed        99059 non-null  datetime64[ns]\n",
      " 5   fin_text               99059 non-null  object        \n",
      " 6   course_name            99059 non-null  object        \n",
      " 7   course_num             99059 non-null  int64         \n",
      " 8   course_par             99059 non-null  int64         \n",
      " 9   score                  99059 non-null  int64         \n",
      " 10  sg_app                 78573 non-null  float64       \n",
      " 11  sg_arg                 78573 non-null  float64       \n",
      " 12  sg_ott                 78573 non-null  float64       \n",
      " 13  sg_putt                78573 non-null  float64       \n",
      " 14  sg_total               99059 non-null  float64       \n",
      " 15  prev_round_tournament  99059 non-null  float64       \n",
      " 16  two_year_avg           99059 non-null  float64       \n",
      " 17  yearly_sg_app          80637 non-null  float64       \n",
      " 18  yearly_sg_arg          80637 non-null  float64       \n",
      " 19  yearly_sg_ott          80637 non-null  float64       \n",
      " 20  yearly_sg_putt         80637 non-null  float64       \n",
      " 21  sg_event_strength      99059 non-null  float64       \n",
      " 22  sg_adjusted            99059 non-null  float64       \n",
      " 23  stSG_adjusted          99059 non-null  float64       \n",
      " 24  halflifeSG_strength    99059 non-null  float64       \n",
      " 25  roundsplayed           99059 non-null  float64       \n",
      " 26  unknownplayer          99059 non-null  int32         \n",
      " 27  round_2                99059 non-null  uint8         \n",
      " 28  round_3                99059 non-null  uint8         \n",
      " 29  round_4                99059 non-null  uint8         \n",
      " 30  Weekend_round          99059 non-null  int32         \n",
      " 31  par                    99059 non-null  int64         \n",
      " 32  yardage                99059 non-null  float64       \n",
      " 33  yardage/par            99059 non-null  float64       \n",
      " 34  fw_width               99059 non-null  float64       \n",
      " 35  average_score_to_par   99059 non-null  float64       \n",
      "dtypes: datetime64[ns](1), float64(20), int32(2), int64(6), object(4), uint8(3)\n",
      "memory usage: 25.2+ MB\n"
     ]
    }
   ],
   "source": [
    "finaldf.info()"
   ]
  },
  {
   "cell_type": "markdown",
   "id": "8baa6e1a",
   "metadata": {},
   "source": [
    "### Lets take a look at the final dataset:"
   ]
  },
  {
   "cell_type": "code",
   "execution_count": 132,
   "id": "540236f2",
   "metadata": {},
   "outputs": [
    {
     "data": {
      "text/html": [
       "<div>\n",
       "<style scoped>\n",
       "    .dataframe tbody tr th:only-of-type {\n",
       "        vertical-align: middle;\n",
       "    }\n",
       "\n",
       "    .dataframe tbody tr th {\n",
       "        vertical-align: top;\n",
       "    }\n",
       "\n",
       "    .dataframe thead th {\n",
       "        text-align: right;\n",
       "    }\n",
       "</style>\n",
       "<table border=\"1\" class=\"dataframe\">\n",
       "  <thead>\n",
       "    <tr style=\"text-align: right;\">\n",
       "      <th></th>\n",
       "      <th>event_name</th>\n",
       "      <th>course_name</th>\n",
       "      <th>sg_event_strength</th>\n",
       "      <th>player_name</th>\n",
       "      <th>stSG_adjusted</th>\n",
       "      <th>halflifeSG_strength</th>\n",
       "      <th>prev_round_tournament</th>\n",
       "    </tr>\n",
       "  </thead>\n",
       "  <tbody>\n",
       "    <tr>\n",
       "      <th>50000</th>\n",
       "      <td>Wyndham Championship</td>\n",
       "      <td>Sedgefield Country Club</td>\n",
       "      <td>0.26443</td>\n",
       "      <td>Howell III, Charles</td>\n",
       "      <td>1.367710</td>\n",
       "      <td>0.979575</td>\n",
       "      <td>3.455</td>\n",
       "    </tr>\n",
       "    <tr>\n",
       "      <th>50001</th>\n",
       "      <td>Wyndham Championship</td>\n",
       "      <td>Sedgefield Country Club</td>\n",
       "      <td>0.26443</td>\n",
       "      <td>Armour, Ryan</td>\n",
       "      <td>0.347511</td>\n",
       "      <td>0.263379</td>\n",
       "      <td>2.455</td>\n",
       "    </tr>\n",
       "    <tr>\n",
       "      <th>50002</th>\n",
       "      <td>Wyndham Championship</td>\n",
       "      <td>Sedgefield Country Club</td>\n",
       "      <td>0.26443</td>\n",
       "      <td>Svensson, Adam</td>\n",
       "      <td>0.556306</td>\n",
       "      <td>0.089908</td>\n",
       "      <td>7.455</td>\n",
       "    </tr>\n",
       "    <tr>\n",
       "      <th>50003</th>\n",
       "      <td>Wyndham Championship</td>\n",
       "      <td>Sedgefield Country Club</td>\n",
       "      <td>0.26443</td>\n",
       "      <td>Henley, Russell</td>\n",
       "      <td>0.727516</td>\n",
       "      <td>0.468805</td>\n",
       "      <td>4.455</td>\n",
       "    </tr>\n",
       "    <tr>\n",
       "      <th>50004</th>\n",
       "      <td>Wyndham Championship</td>\n",
       "      <td>Sedgefield Country Club</td>\n",
       "      <td>0.26443</td>\n",
       "      <td>Morikawa, Collin</td>\n",
       "      <td>2.221584</td>\n",
       "      <td>2.200139</td>\n",
       "      <td>1.455</td>\n",
       "    </tr>\n",
       "    <tr>\n",
       "      <th>50005</th>\n",
       "      <td>Wyndham Championship</td>\n",
       "      <td>Sedgefield Country Club</td>\n",
       "      <td>0.26443</td>\n",
       "      <td>Stuard, Brian</td>\n",
       "      <td>-0.168382</td>\n",
       "      <td>0.179840</td>\n",
       "      <td>2.455</td>\n",
       "    </tr>\n",
       "    <tr>\n",
       "      <th>50006</th>\n",
       "      <td>Wyndham Championship</td>\n",
       "      <td>Sedgefield Country Club</td>\n",
       "      <td>0.26443</td>\n",
       "      <td>Stallings, Scott</td>\n",
       "      <td>-0.034524</td>\n",
       "      <td>0.153654</td>\n",
       "      <td>4.455</td>\n",
       "    </tr>\n",
       "  </tbody>\n",
       "</table>\n",
       "</div>"
      ],
      "text/plain": [
       "                 event_name              course_name  sg_event_strength  \\\n",
       "50000  Wyndham Championship  Sedgefield Country Club            0.26443   \n",
       "50001  Wyndham Championship  Sedgefield Country Club            0.26443   \n",
       "50002  Wyndham Championship  Sedgefield Country Club            0.26443   \n",
       "50003  Wyndham Championship  Sedgefield Country Club            0.26443   \n",
       "50004  Wyndham Championship  Sedgefield Country Club            0.26443   \n",
       "50005  Wyndham Championship  Sedgefield Country Club            0.26443   \n",
       "50006  Wyndham Championship  Sedgefield Country Club            0.26443   \n",
       "\n",
       "               player_name  stSG_adjusted  halflifeSG_strength  \\\n",
       "50000  Howell III, Charles       1.367710             0.979575   \n",
       "50001         Armour, Ryan       0.347511             0.263379   \n",
       "50002       Svensson, Adam       0.556306             0.089908   \n",
       "50003      Henley, Russell       0.727516             0.468805   \n",
       "50004     Morikawa, Collin       2.221584             2.200139   \n",
       "50005        Stuard, Brian      -0.168382             0.179840   \n",
       "50006     Stallings, Scott      -0.034524             0.153654   \n",
       "\n",
       "       prev_round_tournament  \n",
       "50000                  3.455  \n",
       "50001                  2.455  \n",
       "50002                  7.455  \n",
       "50003                  4.455  \n",
       "50004                  1.455  \n",
       "50005                  2.455  \n",
       "50006                  4.455  "
      ]
     },
     "execution_count": 132,
     "metadata": {},
     "output_type": "execute_result"
    }
   ],
   "source": [
    "finaldf[['event_name','course_name','sg_event_strength','player_name','stSG_adjusted','halflifeSG_strength','prev_round_tournament']].iloc[50000:50007]"
   ]
  },
  {
   "cell_type": "markdown",
   "id": "5c53c31b",
   "metadata": {},
   "source": [
    "# Save to CSV"
   ]
  },
  {
   "cell_type": "code",
   "execution_count": 133,
   "id": "3d9c55ac",
   "metadata": {},
   "outputs": [],
   "source": [
    "finaldf.to_csv('golf_round_data.csv')"
   ]
  }
 ],
 "metadata": {
  "kernelspec": {
   "display_name": "golf",
   "language": "python",
   "name": "golf"
  },
  "language_info": {
   "codemirror_mode": {
    "name": "ipython",
    "version": 3
   },
   "file_extension": ".py",
   "mimetype": "text/x-python",
   "name": "python",
   "nbconvert_exporter": "python",
   "pygments_lexer": "ipython3",
   "version": "3.9.7"
  }
 },
 "nbformat": 4,
 "nbformat_minor": 5
}
