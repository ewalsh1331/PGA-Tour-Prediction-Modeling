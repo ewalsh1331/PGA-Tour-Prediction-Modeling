{
 "cells": [
  {
   "cell_type": "markdown",
   "id": "28d44fa4",
   "metadata": {},
   "source": [
    "# Imports"
   ]
  },
  {
   "cell_type": "code",
   "execution_count": 83,
   "id": "3fd10740",
   "metadata": {},
   "outputs": [],
   "source": [
    "import requests\n",
    "import numpy as np\n",
    "import pandas as pd\n",
    "import matplotlib.pyplot as plt\n",
    "import seaborn as sns\n",
    "import statsmodels.api as sm"
   ]
  },
  {
   "cell_type": "code",
   "execution_count": 84,
   "id": "6f134024",
   "metadata": {},
   "outputs": [],
   "source": [
    "from sklearn.linear_model import LinearRegression\n",
    "from sklearn.metrics import mean_squared_error\n",
    "\n",
    "import warnings\n",
    "warnings.filterwarnings(\"ignore\")"
   ]
  },
  {
   "cell_type": "markdown",
   "id": "c825803b",
   "metadata": {},
   "source": [
    "# Import the Data"
   ]
  },
  {
   "cell_type": "code",
   "execution_count": 85,
   "id": "fdb3fc6f",
   "metadata": {},
   "outputs": [],
   "source": [
    "round_data = pd.read_csv('golf_round_data.csv').set_index('Unnamed: 0')\n",
    "round_data['event_completed'] = pd.to_datetime(round_data['event_completed'])"
   ]
  },
  {
   "cell_type": "markdown",
   "id": "791d86ba",
   "metadata": {},
   "source": [
    "Take our round data created in the previous notebook for factor creation. We need to \"fill\" the temporal asepcts. So, we get rid of observations from 2017, and use them to fill temporal aspects moving forward from that date.\n",
    "\n",
    "NOTE: We aren't going to train the data on the \"unknown\" players. I would train the unknown players seperately, but there would be a lot of new factor-creation and seperate data to be introduced. My focus in this project will be on players that we actually have a good amount of data on. "
   ]
  },
  {
   "cell_type": "code",
   "execution_count": 86,
   "id": "16ee5fee",
   "metadata": {},
   "outputs": [],
   "source": [
    "round_data = round_data[round_data['unknownplayer']==0]"
   ]
  },
  {
   "cell_type": "markdown",
   "id": "60df7d11",
   "metadata": {},
   "source": [
    "# Create train and test (validation) sets for 2018 and 2019"
   ]
  },
  {
   "cell_type": "markdown",
   "id": "e34a1b41",
   "metadata": {},
   "source": [
    "For the first model, we will be using the 2018 season to train it, and the 2019 year to validate/test the results. "
   ]
  },
  {
   "cell_type": "code",
   "execution_count": 87,
   "id": "ee9b5edc",
   "metadata": {},
   "outputs": [],
   "source": [
    "# rounds in any year after 2017\n",
    "round_data = round_data[round_data['event_completed']>'2017'].dropna()"
   ]
  },
  {
   "cell_type": "code",
   "execution_count": 88,
   "id": "08226056",
   "metadata": {},
   "outputs": [],
   "source": [
    "# rounds from 2018 to 2019/06\n",
    "train = round_data[round_data['event_completed'] < '2019/06']"
   ]
  },
  {
   "cell_type": "code",
   "execution_count": 89,
   "id": "d34f20c2",
   "metadata": {},
   "outputs": [],
   "source": [
    "# rounds from 2019/06 UP TO 2020\n",
    "test = round_data[(round_data['event_completed'] >= '2019/06') & (round_data['event_completed'] < '2020')]"
   ]
  },
  {
   "cell_type": "markdown",
   "id": "9489a3f4",
   "metadata": {},
   "source": [
    "# First Linear Regression Test"
   ]
  },
  {
   "cell_type": "markdown",
   "id": "9bf9b0de",
   "metadata": {},
   "source": [
    "Work through factors (excluding course, strokes gained specefics) and see which have a noticable effect on the predictablity of the model. I will begin by assesing the round factors and how they work:"
   ]
  },
  {
   "cell_type": "markdown",
   "id": "5ee83fea",
   "metadata": {},
   "source": [
    "**Start by looking at the round factors**:"
   ]
  },
  {
   "cell_type": "code",
   "execution_count": 90,
   "id": "7c0a4160",
   "metadata": {},
   "outputs": [],
   "source": [
    "# Choose the columns to test with this first regression\n",
    "columns = ['prev_round_tournament','sg_event_strength', 'stSG_adjusted',\n",
    "           'halflifeSG_strength', 'roundsplayed','round_2', 'round_3', 'round_4']"
   ]
  },
  {
   "cell_type": "code",
   "execution_count": 91,
   "id": "e52835cf",
   "metadata": {},
   "outputs": [],
   "source": [
    "# set the train and test sets\n",
    "# Train:\n",
    "X_train = train[columns]\n",
    "y_train = train['sg_total']\n",
    "\n",
    "# Test:\n",
    "X_test = test[columns]\n",
    "y_test = test['sg_total']"
   ]
  },
  {
   "cell_type": "code",
   "execution_count": 92,
   "id": "363cf0fd",
   "metadata": {},
   "outputs": [
    {
     "data": {
      "text/html": [
       "<table class=\"simpletable\">\n",
       "<tr>\n",
       "        <td>Model:</td>               <td>OLS</td>         <td>Adj. R-squared:</td>      <td>0.047</td>   \n",
       "</tr>\n",
       "<tr>\n",
       "  <td>Dependent Variable:</td>     <td>sg_total</td>            <td>AIC:</td>         <td>136108.8140</td>\n",
       "</tr>\n",
       "<tr>\n",
       "         <td>Date:</td>        <td>2022-07-04 23:57</td>        <td>BIC:</td>         <td>136182.9288</td>\n",
       "</tr>\n",
       "<tr>\n",
       "   <td>No. Observations:</td>        <td>27861</td>        <td>Log-Likelihood:</td>     <td>-68045.</td>  \n",
       "</tr>\n",
       "<tr>\n",
       "       <td>Df Model:</td>              <td>8</td>           <td>F-statistic:</td>        <td>171.9</td>   \n",
       "</tr>\n",
       "<tr>\n",
       "     <td>Df Residuals:</td>          <td>27852</td>      <td>Prob (F-statistic):</td>  <td>1.56e-284</td> \n",
       "</tr>\n",
       "<tr>\n",
       "      <td>R-squared:</td>            <td>0.047</td>            <td>Scale:</td>          <td>7.7453</td>   \n",
       "</tr>\n",
       "</table>\n",
       "<table class=\"simpletable\">\n",
       "<tr>\n",
       "            <td></td>             <th>Coef.</th>  <th>Std.Err.</th>     <th>t</th>     <th>P>|t|</th> <th>[0.025</th>  <th>0.975]</th> \n",
       "</tr>\n",
       "<tr>\n",
       "  <th>const</th>                 <td>0.4448</td>   <td>0.0508</td>   <td>8.7576</td>  <td>0.0000</td> <td>0.3453</td>  <td>0.5444</td> \n",
       "</tr>\n",
       "<tr>\n",
       "  <th>prev_round_tournament</th> <td>0.0279</td>   <td>0.0070</td>   <td>3.9798</td>  <td>0.0001</td> <td>0.0141</td>  <td>0.0416</td> \n",
       "</tr>\n",
       "<tr>\n",
       "  <th>sg_event_strength</th>     <td>-1.0000</td>  <td>0.0571</td>  <td>-17.5216</td> <td>0.0000</td> <td>-1.1119</td> <td>-0.8882</td>\n",
       "</tr>\n",
       "<tr>\n",
       "  <th>stSG_adjusted</th>         <td>0.0869</td>   <td>0.0239</td>   <td>3.6416</td>  <td>0.0003</td> <td>0.0401</td>  <td>0.1337</td> \n",
       "</tr>\n",
       "<tr>\n",
       "  <th>halflifeSG_strength</th>   <td>0.7111</td>   <td>0.0339</td>   <td>21.0069</td> <td>0.0000</td> <td>0.6447</td>  <td>0.7774</td> \n",
       "</tr>\n",
       "<tr>\n",
       "  <th>roundsplayed</th>          <td>-0.0026</td>  <td>0.0005</td>   <td>-5.3518</td> <td>0.0000</td> <td>-0.0035</td> <td>-0.0016</td>\n",
       "</tr>\n",
       "<tr>\n",
       "  <th>round_2</th>               <td>-0.0603</td>  <td>0.0429</td>   <td>-1.4057</td> <td>0.1598</td> <td>-0.1444</td> <td>0.0238</td> \n",
       "</tr>\n",
       "<tr>\n",
       "  <th>round_3</th>               <td>-0.1283</td>  <td>0.0517</td>   <td>-2.4838</td> <td>0.0130</td> <td>-0.2296</td> <td>-0.0271</td>\n",
       "</tr>\n",
       "<tr>\n",
       "  <th>round_4</th>               <td>-0.1175</td>  <td>0.0508</td>   <td>-2.3122</td> <td>0.0208</td> <td>-0.2172</td> <td>-0.0179</td>\n",
       "</tr>\n",
       "</table>\n",
       "<table class=\"simpletable\">\n",
       "<tr>\n",
       "     <td>Omnibus:</td>    <td>429.777</td>  <td>Durbin-Watson:</td>    <td>1.385</td> \n",
       "</tr>\n",
       "<tr>\n",
       "  <td>Prob(Omnibus):</td>  <td>0.000</td>  <td>Jarque-Bera (JB):</td> <td>478.423</td>\n",
       "</tr>\n",
       "<tr>\n",
       "       <td>Skew:</td>     <td>-0.270</td>      <td>Prob(JB):</td>      <td>0.000</td> \n",
       "</tr>\n",
       "<tr>\n",
       "     <td>Kurtosis:</td>    <td>3.348</td>   <td>Condition No.:</td>     <td>417</td>  \n",
       "</tr>\n",
       "</table>"
      ],
      "text/plain": [
       "<class 'statsmodels.iolib.summary2.Summary'>\n",
       "\"\"\"\n",
       "                   Results: Ordinary least squares\n",
       "======================================================================\n",
       "Model:                OLS              Adj. R-squared:     0.047      \n",
       "Dependent Variable:   sg_total         AIC:                136108.8140\n",
       "Date:                 2022-07-04 23:57 BIC:                136182.9288\n",
       "No. Observations:     27861            Log-Likelihood:     -68045.    \n",
       "Df Model:             8                F-statistic:        171.9      \n",
       "Df Residuals:         27852            Prob (F-statistic): 1.56e-284  \n",
       "R-squared:            0.047            Scale:              7.7453     \n",
       "----------------------------------------------------------------------\n",
       "                       Coef.  Std.Err.    t     P>|t|   [0.025  0.975]\n",
       "----------------------------------------------------------------------\n",
       "const                  0.4448   0.0508   8.7576 0.0000  0.3453  0.5444\n",
       "prev_round_tournament  0.0279   0.0070   3.9798 0.0001  0.0141  0.0416\n",
       "sg_event_strength     -1.0000   0.0571 -17.5216 0.0000 -1.1119 -0.8882\n",
       "stSG_adjusted          0.0869   0.0239   3.6416 0.0003  0.0401  0.1337\n",
       "halflifeSG_strength    0.7111   0.0339  21.0069 0.0000  0.6447  0.7774\n",
       "roundsplayed          -0.0026   0.0005  -5.3518 0.0000 -0.0035 -0.0016\n",
       "round_2               -0.0603   0.0429  -1.4057 0.1598 -0.1444  0.0238\n",
       "round_3               -0.1283   0.0517  -2.4838 0.0130 -0.2296 -0.0271\n",
       "round_4               -0.1175   0.0508  -2.3122 0.0208 -0.2172 -0.0179\n",
       "----------------------------------------------------------------------\n",
       "Omnibus:               429.777        Durbin-Watson:           1.385  \n",
       "Prob(Omnibus):         0.000          Jarque-Bera (JB):        478.423\n",
       "Skew:                  -0.270         Prob(JB):                0.000  \n",
       "Kurtosis:              3.348          Condition No.:           417    \n",
       "======================================================================\n",
       "\n",
       "\"\"\""
      ]
     },
     "execution_count": 92,
     "metadata": {},
     "output_type": "execute_result"
    }
   ],
   "source": [
    "# have to add constant when working with statsmodels\n",
    "X = sm.add_constant(X_train)\n",
    "est = sm.OLS(y_train, X)\n",
    "fii = est.fit()\n",
    "\n",
    "fii.summary2()"
   ]
  },
  {
   "cell_type": "markdown",
   "id": "d34f08d6",
   "metadata": {},
   "source": [
    "So, it looks like round 3 and round 4 have some sort of small realtion to the model output, while round 2 does not. This probably points to weekend rounds being harder (lower strokes gained prediction). So, test the model with the weekend indicator instead. "
   ]
  },
  {
   "cell_type": "code",
   "execution_count": 93,
   "id": "207519a1",
   "metadata": {},
   "outputs": [],
   "source": [
    "# Choose the columns to test with this first regression\n",
    "columns = ['prev_round_tournament','sg_event_strength', 'stSG_adjusted',\n",
    "           'halflifeSG_strength', 'roundsplayed','Weekend_round']"
   ]
  },
  {
   "cell_type": "code",
   "execution_count": 94,
   "id": "a1d8cae2",
   "metadata": {},
   "outputs": [],
   "source": [
    "# Train:\n",
    "X_train = train[columns]\n",
    "y_train = train['sg_total']\n",
    "\n",
    "# Test:\n",
    "X_test = test[columns]\n",
    "y_test = test['sg_total']"
   ]
  },
  {
   "cell_type": "code",
   "execution_count": 95,
   "id": "7d0eab34",
   "metadata": {},
   "outputs": [
    {
     "data": {
      "text/html": [
       "<table class=\"simpletable\">\n",
       "<tr>\n",
       "        <td>Model:</td>               <td>OLS</td>         <td>Adj. R-squared:</td>      <td>0.047</td>   \n",
       "</tr>\n",
       "<tr>\n",
       "  <td>Dependent Variable:</td>     <td>sg_total</td>            <td>AIC:</td>         <td>136106.8238</td>\n",
       "</tr>\n",
       "<tr>\n",
       "         <td>Date:</td>        <td>2022-07-04 23:57</td>        <td>BIC:</td>         <td>136164.4687</td>\n",
       "</tr>\n",
       "<tr>\n",
       "   <td>No. Observations:</td>        <td>27861</td>        <td>Log-Likelihood:</td>     <td>-68046.</td>  \n",
       "</tr>\n",
       "<tr>\n",
       "       <td>Df Model:</td>              <td>6</td>           <td>F-statistic:</td>        <td>228.9</td>   \n",
       "</tr>\n",
       "<tr>\n",
       "     <td>Df Residuals:</td>          <td>27854</td>      <td>Prob (F-statistic):</td>  <td>1.85e-286</td> \n",
       "</tr>\n",
       "<tr>\n",
       "      <td>R-squared:</td>            <td>0.047</td>            <td>Scale:</td>          <td>7.7453</td>   \n",
       "</tr>\n",
       "</table>\n",
       "<table class=\"simpletable\">\n",
       "<tr>\n",
       "            <td></td>             <th>Coef.</th>  <th>Std.Err.</th>     <th>t</th>     <th>P>|t|</th> <th>[0.025</th>  <th>0.975]</th> \n",
       "</tr>\n",
       "<tr>\n",
       "  <th>const</th>                 <td>0.4149</td>   <td>0.0461</td>   <td>9.0011</td>  <td>0.0000</td> <td>0.3245</td>  <td>0.5052</td> \n",
       "</tr>\n",
       "<tr>\n",
       "  <th>prev_round_tournament</th> <td>0.0268</td>   <td>0.0069</td>   <td>3.8873</td>  <td>0.0001</td> <td>0.0133</td>  <td>0.0403</td> \n",
       "</tr>\n",
       "<tr>\n",
       "  <th>sg_event_strength</th>     <td>-1.0014</td>  <td>0.0571</td>  <td>-17.5484</td> <td>0.0000</td> <td>-1.1133</td> <td>-0.8896</td>\n",
       "</tr>\n",
       "<tr>\n",
       "  <th>stSG_adjusted</th>         <td>0.0874</td>   <td>0.0239</td>   <td>3.6655</td>  <td>0.0002</td> <td>0.0407</td>  <td>0.1342</td> \n",
       "</tr>\n",
       "<tr>\n",
       "  <th>halflifeSG_strength</th>   <td>0.7115</td>   <td>0.0338</td>   <td>21.0188</td> <td>0.0000</td> <td>0.6451</td>  <td>0.7778</td> \n",
       "</tr>\n",
       "<tr>\n",
       "  <th>roundsplayed</th>          <td>-0.0026</td>  <td>0.0005</td>   <td>-5.3604</td> <td>0.0000</td> <td>-0.0035</td> <td>-0.0016</td>\n",
       "</tr>\n",
       "<tr>\n",
       "  <th>Weekend_round</th>         <td>-0.0917</td>  <td>0.0376</td>   <td>-2.4427</td> <td>0.0146</td> <td>-0.1654</td> <td>-0.0181</td>\n",
       "</tr>\n",
       "</table>\n",
       "<table class=\"simpletable\">\n",
       "<tr>\n",
       "     <td>Omnibus:</td>    <td>431.252</td>  <td>Durbin-Watson:</td>    <td>1.384</td> \n",
       "</tr>\n",
       "<tr>\n",
       "  <td>Prob(Omnibus):</td>  <td>0.000</td>  <td>Jarque-Bera (JB):</td> <td>480.127</td>\n",
       "</tr>\n",
       "<tr>\n",
       "       <td>Skew:</td>     <td>-0.270</td>      <td>Prob(JB):</td>      <td>0.000</td> \n",
       "</tr>\n",
       "<tr>\n",
       "     <td>Kurtosis:</td>    <td>3.348</td>   <td>Condition No.:</td>     <td>332</td>  \n",
       "</tr>\n",
       "</table>"
      ],
      "text/plain": [
       "<class 'statsmodels.iolib.summary2.Summary'>\n",
       "\"\"\"\n",
       "                   Results: Ordinary least squares\n",
       "======================================================================\n",
       "Model:                OLS              Adj. R-squared:     0.047      \n",
       "Dependent Variable:   sg_total         AIC:                136106.8238\n",
       "Date:                 2022-07-04 23:57 BIC:                136164.4687\n",
       "No. Observations:     27861            Log-Likelihood:     -68046.    \n",
       "Df Model:             6                F-statistic:        228.9      \n",
       "Df Residuals:         27854            Prob (F-statistic): 1.85e-286  \n",
       "R-squared:            0.047            Scale:              7.7453     \n",
       "----------------------------------------------------------------------\n",
       "                       Coef.  Std.Err.    t     P>|t|   [0.025  0.975]\n",
       "----------------------------------------------------------------------\n",
       "const                  0.4149   0.0461   9.0011 0.0000  0.3245  0.5052\n",
       "prev_round_tournament  0.0268   0.0069   3.8873 0.0001  0.0133  0.0403\n",
       "sg_event_strength     -1.0014   0.0571 -17.5484 0.0000 -1.1133 -0.8896\n",
       "stSG_adjusted          0.0874   0.0239   3.6655 0.0002  0.0407  0.1342\n",
       "halflifeSG_strength    0.7115   0.0338  21.0188 0.0000  0.6451  0.7778\n",
       "roundsplayed          -0.0026   0.0005  -5.3604 0.0000 -0.0035 -0.0016\n",
       "Weekend_round         -0.0917   0.0376  -2.4427 0.0146 -0.1654 -0.0181\n",
       "----------------------------------------------------------------------\n",
       "Omnibus:               431.252        Durbin-Watson:           1.384  \n",
       "Prob(Omnibus):         0.000          Jarque-Bera (JB):        480.127\n",
       "Skew:                  -0.270         Prob(JB):                0.000  \n",
       "Kurtosis:              3.348          Condition No.:           332    \n",
       "======================================================================\n",
       "\n",
       "\"\"\""
      ]
     },
     "execution_count": 95,
     "metadata": {},
     "output_type": "execute_result"
    }
   ],
   "source": [
    "# have to add constant when working with statsmodels\n",
    "X = sm.add_constant(X_train)\n",
    "est = sm.OLS(y_train, X)\n",
    "fii = est.fit()\n",
    "\n",
    "fii.summary2()"
   ]
  },
  {
   "cell_type": "markdown",
   "id": "834c0b71",
   "metadata": {},
   "source": [
    "So, now that the p-value for this factor is at a reasonable level for it to be kept, it is worth mentioning now that roundsplayed can be dropped. The factor is marginal to the prediction, and also has a realtively high p-value. So, now move to the final model. "
   ]
  },
  {
   "cell_type": "markdown",
   "id": "c4ace82e",
   "metadata": {},
   "source": [
    "# Final model and test scores"
   ]
  },
  {
   "cell_type": "code",
   "execution_count": 96,
   "id": "b273ff45",
   "metadata": {},
   "outputs": [],
   "source": [
    "# Choose the columns to test with this final regression\n",
    "columns = ['prev_round_tournament','sg_event_strength', 'stSG_adjusted',\n",
    "           'halflifeSG_strength','unknownplayer','Weekend_round']"
   ]
  },
  {
   "cell_type": "code",
   "execution_count": 97,
   "id": "672132c1",
   "metadata": {},
   "outputs": [],
   "source": [
    "# Train:\n",
    "X_train = train[columns]\n",
    "y_train = train['sg_total']\n",
    "\n",
    "# Test:\n",
    "X_test = test[columns]\n",
    "y_test = test['sg_total']"
   ]
  },
  {
   "cell_type": "code",
   "execution_count": 98,
   "id": "6566cceb",
   "metadata": {},
   "outputs": [
    {
     "data": {
      "text/plain": [
       "0.04635763599252862"
      ]
     },
     "execution_count": 98,
     "metadata": {},
     "output_type": "execute_result"
    }
   ],
   "source": [
    "# 1. Instanitate model\n",
    "linear_regression_model = LinearRegression()\n",
    "\n",
    "\n",
    "# 2. Fit model\n",
    "linear_regression_model.fit(X_train,y_train)\n",
    "\n",
    "# 3. Score on the test set\n",
    "linear_regression_model.score(X_test,y_test)"
   ]
  },
  {
   "cell_type": "markdown",
   "id": "c2d2d52b",
   "metadata": {},
   "source": [
    "**Save the model using pickle**"
   ]
  },
  {
   "cell_type": "code",
   "execution_count": 99,
   "id": "ecbbe1b3",
   "metadata": {},
   "outputs": [],
   "source": [
    "import pickle"
   ]
  },
  {
   "cell_type": "code",
   "execution_count": 100,
   "id": "06aff468",
   "metadata": {},
   "outputs": [],
   "source": [
    "pickle.dump(linear_regression_model, open('golf_linear_model.pkl', 'wb'))"
   ]
  },
  {
   "cell_type": "markdown",
   "id": "17510ee7",
   "metadata": {},
   "source": [
    "# Analyzing the model"
   ]
  },
  {
   "cell_type": "markdown",
   "id": "e393e031",
   "metadata": {},
   "source": [
    "So, it is a good idea to start by discussing the results of the model and the \"good\" and \"bad\" of the prediction model. \n",
    "\n",
    "**The \"good\"**\n",
    "\n",
    "- The model is making predictions that mirror common knowledge. For example, historical strength of a player has the largest sway in how strong a model feels about a positive prediction. So historically good players are going to have high predicted strokes gained for a round. \n",
    "- This is the same for the \"unknown\" players. Although it is a little rudementary to assume all unknown players should be treated the same, in general the fact that they have not played in many pga events within a certain time frame means they are going to be worse than the average player. This makes sense as well. \n",
    "- Another important factor that the model is weighting highly is the event's strength. Again, this makes sense because a weaker field of golfers means that the strokes gained for all players will probably be higher. If you do not have as many good players in the field, than weaker player's will probably get better strokes gained scores than they \"deserve\". \n",
    "\n",
    "**The \"bad\"**\n",
    "- This one is really important, and it is that the R squared score is very, very low. So, a very small of the variance can be predicted with the factors. Bascially, a golfer's performance from round to round is very noisey and random. Good players play badly alot, and bad players play well. Also, outliers are fairly common round to round.\n",
    "- Unknown players are all treated the same. This more has to do with the limitations of the data, but there might be some really, really good unknown players and the model would just assume they are bad. It is not entirely unlikely for a guy to burst onto the scene from college or the European Tour and play consistently well. Luckily, if this is the case the model will catch up once it has enough knowledge on the player. \n",
    "- Alot of things aren't explained in the model. For example, how a course is setup will fit certain players better than others. Longer course setups will probably favor guys that hit it longer, but the linear model is really unable to adjust to factor this in. And, when the course setup is the same for quite a few rounds, so doing a course fit adjustment on the round level is probably not the greatest idea. This is something that we will look into. \n",
    "\n",
    "**BUT :**\n",
    "\n",
    "\n",
    "Luckily, a golf tournament isn't only one round! A player will play the same course at least two times in a given week. This means that it might be worth analyzing how this model predicts scores at a tournament level."
   ]
  },
  {
   "cell_type": "markdown",
   "id": "5cc6a4dc",
   "metadata": {},
   "source": [
    "# Looking into the predictions"
   ]
  },
  {
   "cell_type": "markdown",
   "id": "1ddc2097",
   "metadata": {},
   "source": [
    "Let's create the predictions for the test set and look into the results."
   ]
  },
  {
   "cell_type": "markdown",
   "id": "ce704a8b",
   "metadata": {},
   "source": [
    "First thing to look at is the confidence intervals for the train set. This is nice to know because it will put the \"confidence\" of the model in a more understandable context. "
   ]
  },
  {
   "cell_type": "code",
   "execution_count": 101,
   "id": "74a244c4",
   "metadata": {},
   "outputs": [
    {
     "name": "stdout",
     "output_type": "stream",
     "text": [
      "The confidence interval for the linear model is: 4.385052451964826\n"
     ]
    }
   ],
   "source": [
    "# alpha will be the confidence interval we want. In this case, it is 0.05 to 0.95.\n",
    "alpha = 0.05\n",
    "\n",
    "# create the residuals for the train set\n",
    "residuals = y_train - linear_regression_model.predict(X_train)\n",
    "\n",
    "# calculate the confidence interval using the alpha set from before\n",
    "ci = np.quantile(residuals, 1 - alpha)\n",
    "print(f'The confidence interval for the linear model is: {ci}')\n",
    "\n",
    "# using the CI, run the generate results function to create dataframe for analysis\n",
    "preds = linear_regression_model.predict(X_test)"
   ]
  },
  {
   "cell_type": "markdown",
   "id": "f5acaab2",
   "metadata": {},
   "source": [
    "So, we can reasonably expect that the result will fall within ~4.4 shots of the prediction. Clearly, our model is not very confident. But, as we said before, a tournament is multiple rounds. Let's look at how the confidence intervals change when predicting for two rounds. \n",
    "\n",
    "Let's look at Thursday/Friday rounds (before the cut) to see how the confidence intervals change. "
   ]
  },
  {
   "cell_type": "code",
   "execution_count": 102,
   "id": "199f7c84",
   "metadata": {},
   "outputs": [
    {
     "name": "stdout",
     "output_type": "stream",
     "text": [
      "The confidence interval for the linear model is: 4.385052451964826\n"
     ]
    }
   ],
   "source": [
    "# alpha will be the confidence interval we want. In this case, it is 0.05 to 0.95.\n",
    "alpha = 0.05\n",
    "\n",
    "# create the residuals for the train set\n",
    "residuals = y_train - linear_regression_model.predict(X_train)\n",
    "\n",
    "# calculate the confidence interval using the alpha set from before\n",
    "ci = np.quantile(residuals, 1 - alpha)\n",
    "print(f'The confidence interval for the linear model is: {ci}')\n",
    "\n",
    "# using the CI, run the generate results function to create dataframe for analysis\n",
    "preds = linear_regression_model.predict(X_test)"
   ]
  },
  {
   "cell_type": "code",
   "execution_count": 103,
   "id": "8b4c74a7",
   "metadata": {},
   "outputs": [],
   "source": [
    "prediction_frame = test.copy()"
   ]
  },
  {
   "cell_type": "code",
   "execution_count": 104,
   "id": "0a195de9",
   "metadata": {},
   "outputs": [],
   "source": [
    "test['predicted_SG'] = preds\n",
    "test['residuals'] = test['sg_total'] - test['predicted_SG']"
   ]
  },
  {
   "cell_type": "markdown",
   "id": "dfa6a232",
   "metadata": {},
   "source": [
    "# Let's look at how the predictions go for a singular tournament"
   ]
  },
  {
   "cell_type": "markdown",
   "id": "0ffecb54",
   "metadata": {},
   "source": [
    "Import plotly for the visualizations:"
   ]
  },
  {
   "cell_type": "code",
   "execution_count": 105,
   "id": "112893a3",
   "metadata": {},
   "outputs": [],
   "source": [
    "import plotly.express as px\n",
    "import plotly.graph_objects as go"
   ]
  },
  {
   "cell_type": "markdown",
   "id": "45bab852",
   "metadata": {},
   "source": [
    "Pull out one tournament for analysis. Then, split the rounds up for analysis of weekend and weekday rounds and the whole tournament by player."
   ]
  },
  {
   "cell_type": "code",
   "execution_count": 106,
   "id": "5487ea49",
   "metadata": {},
   "outputs": [],
   "source": [
    "# choose the 2019 memorial tournament\n",
    "memorial = test[test['event_completed']=='2019-06-02']\n",
    "\n",
    "# get the 'weekday' rounds\n",
    "ThursFri = memorial[memorial['Weekend_round']==0]\n",
    "# get the 'weekend' rounds\n",
    "SatSun = memorial[memorial['Weekend_round']==1]"
   ]
  },
  {
   "cell_type": "code",
   "execution_count": 107,
   "id": "741e4644",
   "metadata": {},
   "outputs": [],
   "source": [
    "# Group by player, take the mean of the scores. \n",
    "ThursFri = ThursFri.groupby('player_name').mean().reset_index()\n",
    "SatSun = SatSun.groupby('player_name').mean().reset_index()\n",
    "Whole = memorial.groupby('player_name').mean().reset_index()"
   ]
  },
  {
   "cell_type": "markdown",
   "id": "b3075373",
   "metadata": {},
   "source": [
    "Create the plotly graphs. Color is the residual of the guess (how good or bad the guess was). Y-axis is the model's prediction, X-axis is what they actually shot in terms of strokes gained. "
   ]
  },
  {
   "cell_type": "code",
   "execution_count": 108,
   "id": "c0842bd0",
   "metadata": {},
   "outputs": [
    {
     "data": {
      "application/vnd.plotly.v1+json": {
       "config": {
        "plotlyServerURL": "https://plot.ly"
       },
       "data": [
        {
         "hovertemplate": "<b>%{hovertext}</b><br><br>sg_total=%{x}<br>predicted_SG=%{y}<br>color=%{marker.color}<extra></extra>",
         "hovertext": [
          "An, Byeong Hun",
          "Ancer, Abraham",
          "Aphibarnrat, Kiradech",
          "Armour, Ryan",
          "Baddeley, Aaron",
          "Bradley, Keegan",
          "Brown, Scott",
          "Burgoon, Bronson",
          "Burns, Sam",
          "Cabrera Bello, Rafa",
          "Cantlay, Patrick",
          "Cauley, Bud",
          "Champ, Cameron",
          "Choi, K.J.",
          "Conners, Corey",
          "Cook, Austin",
          "Dahmen, Joel",
          "Day, Jason",
          "DeChambeau, Bryson",
          "Donald, Luke",
          "Dufner, Jason",
          "Els, Ernie",
          "Every, Matt",
          "Finau, Tony",
          "Fitzpatrick, Matthew",
          "Fowler, Rickie",
          "Furyk, Jim",
          "Garnett, Brice",
          "Gay, Brian",
          "Glover, Lucas",
          "Gooch, Talor",
          "Grace, Branden",
          "Grillo, Emiliano",
          "Haas, Bill",
          "Hadley, Chesson",
          "Hadwin, Adam",
          "Harman, Brian",
          "Hatton, Tyrrell",
          "Hoffman, Charley",
          "Holmes, J.B.",
          "Homa, Max",
          "Horschel, Billy",
          "Hossler, Beau",
          "Howell III, Charles",
          "Im, Sungjae",
          "Jones, Matt",
          "Kang, Sung",
          "Kaymer, Martin",
          "Kim, Michael",
          "Kim, Si Woo",
          "Kim, Whee",
          "Kisner, Kevin",
          "Kizzire, Patton",
          "Knox, Russell",
          "Kokrak, Jason",
          "Kraft, Kelly",
          "Kuchar, Matt",
          "Lahiri, Anirban",
          "Landry, Andrew",
          "Lee, Danny",
          "Lee, Kyoung-Hoon",
          "Leishman, Marc",
          "Lingmerth, David",
          "List, Luke",
          "Long, Adam",
          "Malnati, Peter",
          "Matsuyama, Hideki",
          "McIlroy, Rory",
          "Merritt, Troy",
          "Mickelson, Phil",
          "Mitchell, Keith",
          "Moore, Ryan",
          "Niemann, Joaquin",
          "Noren, Alex",
          "Oosthuizen, Louis",
          "Ortiz, Carlos",
          "Perez, Pat",
          "Poston, J.T.",
          "Potter, Jr., Ted",
          "Putnam, Andrew",
          "Rose, Justin",
          "Ryder, Sam",
          "Sabbatini, Rory",
          "Schauffele, Xander",
          "Schenk, Adam",
          "Scott, Adam",
          "Smith, Cameron",
          "Spaun, J.J.",
          "Spieth, Jordan",
          "Stallings, Scott",
          "Stanley, Kyle",
          "Steele, Brendan",
          "Stenson, Henrik",
          "Streb, Robert",
          "Streelman, Kevin",
          "Stricker, Steve",
          "Stuard, Brian",
          "Taylor, Vaughn",
          "Thomas, Justin",
          "Thompson, Michael",
          "Trainer, Martin",
          "Uihlein, Peter",
          "Varner III, Harold",
          "Vegas, Jhonattan",
          "Watney, Nick",
          "Willett, Danny",
          "Wise, Aaron",
          "Woodland, Gary",
          "Woods, Tiger"
         ],
         "legendgroup": "",
         "marker": {
          "color": [
           0.2002182777064465,
           0.37259185002788486,
           1.3182573861972866,
           1.13008530794107,
           0.9431275440098719,
           2.33515535091724,
           1.1026068917660434,
           1.2065180912867859,
           8.381512745344436,
           0.01125984960605464,
           2.1915212812770113,
           3.2423619949941545,
           2.306181473630493,
           1.080852023322548,
           1.429380086778606,
           3.1729152419775266,
           0.7842352626772213,
           3.495609696144865,
           0.48701021971904757,
           1.160631092508799,
           1.848564505502428,
           5.069322568787336,
           3.0931115562464133,
           4.317072086821621,
           0.1473713415105926,
           2.3112126096964922,
           1.012935895069769,
           0.6791015151797505,
           1.864082230726465,
           0.6247009391897965,
           4.056318543325339,
           1.1758096505417228,
           3.1175699394304424,
           1.629782124852057,
           1.767033451091644,
           0.7717566653771347,
           2.403336664556486,
           0.15183637448955162,
           1.2860009980999054,
           1.0038284759861944,
           0.82497710240627,
           1.285724472284864,
           2.1506916130660563,
           3.3544667088797917,
           0.7134817242088508,
           0.9553457621757238,
           4.656754045768922,
           4.651186212664109,
           0.3828056794122392,
           2.3746521234849682,
           0.3345448825728017,
           0.9997400746851364,
           2.0785862747936483,
           1.2073966563738727,
           0.3483638061562566,
           2.5108268510595813,
           2.554327825072711,
           0.9109044916962645,
           2.9637501682804483,
           1.823677318678437,
           4.559982363476293,
           2.610701526559308,
           0.3026169779897241,
           4.6496217916953775,
           4.313885726812404,
           0.012205744666921592,
           0.6681836844798974,
           2.34139049244258,
           4.4098064793592755,
           2.9472461434296626,
           0.9808951310375955,
           1.5698239964891711,
           0.5750617347825273,
           0.5188754442387965,
           0.032011240540750885,
           1.7998289703618355,
           0.5380725837541932,
           0.4964806658476864,
           1.1461205658794946,
           2.663101075052205,
           1.9420728109583905,
           1.84590211503366,
           0.40025664617350937,
           1.7158642636115107,
           0.4351426706538153,
           2.6819529711826737,
           3.4176048721368257,
           0.9367953436835971,
           3.2760625353151687,
           0.5554377850972976,
           1.0941755015973822,
           0.551020563972346,
           1.3275160505571137,
           1.5199828813478813,
           1.7263363469594168,
           0.5461393334001956,
           0.6736432847503928,
           2.3541397889450653,
           4.851179171789698,
           0.9365593334599478,
           6.229801951114151,
           1.9495802422286088,
           2.5201534869867777,
           1.1227722821129553,
           1.093281243131675,
           3.442704577696394,
           1.3863293367522511,
           1.2182212362629854,
           0.14052609199841704
          ],
          "coloraxis": "coloraxis",
          "symbol": "circle"
         },
         "mode": "markers",
         "name": "",
         "orientation": "v",
         "showlegend": false,
         "type": "scatter",
         "x": [
          0.15200000000000002,
          0.652,
          1.652,
          1.1520000000000001,
          1.1520000000000001,
          -1.8479999999999999,
          -1.348,
          -1.348,
          -8.45,
          0.652,
          3.652,
          3.652,
          -2.3480000000000003,
          0.6519999999999997,
          1.6520000000000001,
          3.1519999999999997,
          1.1520000000000001,
          -2.348,
          0.15200000000000002,
          -1.246,
          1.6520000000000001,
          -5.45,
          -3.348,
          -3.348,
          0.152,
          3.652,
          1.6520000000000001,
          -0.848,
          -1.8480000000000003,
          0.15200000000000002,
          -3.8480000000000003,
          -1.348,
          3.652,
          -1.848,
          -1.848,
          -0.348,
          2.152,
          0.652,
          -0.848,
          -1.348,
          1.152,
          1.6520000000000001,
          -2.348,
          -2.8480000000000003,
          1.1520000000000001,
          1.1519999999999997,
          -4.348000000000001,
          4.652,
          -0.848,
          2.652,
          -0.8480000000000003,
          1.1519999999999997,
          -2.348,
          1.652,
          0.15200000000000002,
          -2.8480000000000003,
          -1.348,
          0.6519999999999997,
          -3.348,
          -1.848,
          4.651999999999999,
          3.152,
          -0.348,
          -4.348000000000001,
          -4.348000000000001,
          0.15200000000000002,
          1.6520000000000001,
          -0.8480000000000001,
          4.651999999999999,
          -2.3480000000000003,
          1.152,
          2.152,
          0.652,
          0.652,
          0.652,
          -1.848,
          -0.3480000000000001,
          -0.348,
          0.6519999999999999,
          3.152,
          3.1519999999999997,
          2.152,
          0.152,
          2.652,
          -0.348,
          3.6519999999999997,
          -3.348,
          -0.848,
          4.152,
          0.6519999999999999,
          -0.848,
          0.15200000000000002,
          2.152,
          -2.348,
          2.152,
          -0.3480000000000003,
          0.6519999999999997,
          2.652,
          -3.3480000000000003,
          1.1520000000000001,
          -6.848000000000001,
          -1.848,
          -2.348,
          -0.848,
          1.1520000000000001,
          3.152,
          -0.848,
          2.152,
          1.152
         ],
         "xaxis": "x",
         "y": [
          0.35221827770644654,
          0.27940814997211516,
          0.3337426138027133,
          0.02191469205893004,
          0.2088724559901282,
          0.4871553509172401,
          -0.24539310823395669,
          -0.14148190871321398,
          -0.06848725465556293,
          0.6407401503939454,
          1.4604787187229886,
          0.40963800500584524,
          -0.041818526369507225,
          -0.42885202332254835,
          0.22261991322139413,
          -0.020915241977526436,
          0.36776473732277865,
          1.1476096961448645,
          0.6390102197190477,
          -0.08536890749120091,
          -0.19656450550242796,
          -0.3806774312126638,
          -0.254888443753587,
          0.9690720868216206,
          0.29937134151059264,
          1.3407873903035075,
          0.6390641049302308,
          -0.16889848482024955,
          0.0160822307264651,
          0.7767009391897965,
          0.20831854332533825,
          -0.17219034945827738,
          0.5344300605695576,
          -0.21821787514794322,
          -0.08096654890835606,
          0.4237566653771347,
          -0.25133666455648607,
          0.5001636255104485,
          0.43800099809990534,
          -0.3441715240138057,
          0.32702289759373004,
          0.36627552771513594,
          -0.19730838693394362,
          0.5064667088797917,
          0.4385182757911492,
          0.19665423782427566,
          0.30875404576892185,
          0.0008137873358913666,
          -1.230805679412239,
          0.2773478765150319,
          -1.182544882572802,
          0.15225992531486335,
          -0.2694137252063519,
          0.44460334362612736,
          0.5003638061562566,
          -0.3371731489404188,
          1.206327825072711,
          -0.25890449169626517,
          -0.3842498317195519,
          -0.024322681321563108,
          0.09201763652370658,
          0.5412984734406918,
          -0.04538302201027583,
          0.30162179169537695,
          -0.03411427318759615,
          0.13979425533307843,
          0.9838163155201026,
          1.4933904924425798,
          0.242193520640724,
          0.5992461434296624,
          0.17110486896240448,
          0.582176003510829,
          0.07693826521747273,
          0.1331245557612035,
          0.6199887594592491,
          -0.04817102963816437,
          0.190072583754193,
          0.1484806658476865,
          -0.4941205658794947,
          0.4888989249477951,
          1.209927189041609,
          0.30609788496633994,
          0.5522566461735094,
          0.9361357363884895,
          0.08714267065381527,
          0.9700470288173262,
          0.06960487213682522,
          0.08879534368359718,
          0.875937464684831,
          0.09656221490270213,
          0.2461755015973821,
          -0.399020563972346,
          0.824483949442886,
          -0.8280171186521188,
          0.4256636530405832,
          0.1981393334001954,
          -0.021643284750393038,
          0.29786021105493476,
          1.5031791717896978,
          0.21544066654005226,
          -0.6181980488858488,
          0.10158024222860873,
          0.17215348698677757,
          0.27477228211295546,
          0.058718756868325186,
          -0.29070457769639374,
          0.5383293367522513,
          0.9337787637370146,
          1.292526091998417
         ],
         "yaxis": "y"
        }
       ],
       "layout": {
        "coloraxis": {
         "colorbar": {
          "title": {
           "text": "color"
          }
         },
         "colorscale": [
          [
           0,
           "#0508b8"
          ],
          [
           0.08333333333333333,
           "#1910d8"
          ],
          [
           0.16666666666666666,
           "#3c19f0"
          ],
          [
           0.25,
           "#6b1cfb"
          ],
          [
           0.3333333333333333,
           "#981cfd"
          ],
          [
           0.4166666666666667,
           "#bf1cfd"
          ],
          [
           0.5,
           "#dd2bfd"
          ],
          [
           0.5833333333333334,
           "#f246fe"
          ],
          [
           0.6666666666666666,
           "#fc67fd"
          ],
          [
           0.75,
           "#fe88fc"
          ],
          [
           0.8333333333333334,
           "#fea5fd"
          ],
          [
           0.9166666666666666,
           "#febefe"
          ],
          [
           1,
           "#fec3fe"
          ]
         ]
        },
        "legend": {
         "tracegroupgap": 0
        },
        "template": {
         "data": {
          "bar": [
           {
            "error_x": {
             "color": "#2a3f5f"
            },
            "error_y": {
             "color": "#2a3f5f"
            },
            "marker": {
             "line": {
              "color": "#E5ECF6",
              "width": 0.5
             },
             "pattern": {
              "fillmode": "overlay",
              "size": 10,
              "solidity": 0.2
             }
            },
            "type": "bar"
           }
          ],
          "barpolar": [
           {
            "marker": {
             "line": {
              "color": "#E5ECF6",
              "width": 0.5
             },
             "pattern": {
              "fillmode": "overlay",
              "size": 10,
              "solidity": 0.2
             }
            },
            "type": "barpolar"
           }
          ],
          "carpet": [
           {
            "aaxis": {
             "endlinecolor": "#2a3f5f",
             "gridcolor": "white",
             "linecolor": "white",
             "minorgridcolor": "white",
             "startlinecolor": "#2a3f5f"
            },
            "baxis": {
             "endlinecolor": "#2a3f5f",
             "gridcolor": "white",
             "linecolor": "white",
             "minorgridcolor": "white",
             "startlinecolor": "#2a3f5f"
            },
            "type": "carpet"
           }
          ],
          "choropleth": [
           {
            "colorbar": {
             "outlinewidth": 0,
             "ticks": ""
            },
            "type": "choropleth"
           }
          ],
          "contour": [
           {
            "colorbar": {
             "outlinewidth": 0,
             "ticks": ""
            },
            "colorscale": [
             [
              0,
              "#0d0887"
             ],
             [
              0.1111111111111111,
              "#46039f"
             ],
             [
              0.2222222222222222,
              "#7201a8"
             ],
             [
              0.3333333333333333,
              "#9c179e"
             ],
             [
              0.4444444444444444,
              "#bd3786"
             ],
             [
              0.5555555555555556,
              "#d8576b"
             ],
             [
              0.6666666666666666,
              "#ed7953"
             ],
             [
              0.7777777777777778,
              "#fb9f3a"
             ],
             [
              0.8888888888888888,
              "#fdca26"
             ],
             [
              1,
              "#f0f921"
             ]
            ],
            "type": "contour"
           }
          ],
          "contourcarpet": [
           {
            "colorbar": {
             "outlinewidth": 0,
             "ticks": ""
            },
            "type": "contourcarpet"
           }
          ],
          "heatmap": [
           {
            "colorbar": {
             "outlinewidth": 0,
             "ticks": ""
            },
            "colorscale": [
             [
              0,
              "#0d0887"
             ],
             [
              0.1111111111111111,
              "#46039f"
             ],
             [
              0.2222222222222222,
              "#7201a8"
             ],
             [
              0.3333333333333333,
              "#9c179e"
             ],
             [
              0.4444444444444444,
              "#bd3786"
             ],
             [
              0.5555555555555556,
              "#d8576b"
             ],
             [
              0.6666666666666666,
              "#ed7953"
             ],
             [
              0.7777777777777778,
              "#fb9f3a"
             ],
             [
              0.8888888888888888,
              "#fdca26"
             ],
             [
              1,
              "#f0f921"
             ]
            ],
            "type": "heatmap"
           }
          ],
          "heatmapgl": [
           {
            "colorbar": {
             "outlinewidth": 0,
             "ticks": ""
            },
            "colorscale": [
             [
              0,
              "#0d0887"
             ],
             [
              0.1111111111111111,
              "#46039f"
             ],
             [
              0.2222222222222222,
              "#7201a8"
             ],
             [
              0.3333333333333333,
              "#9c179e"
             ],
             [
              0.4444444444444444,
              "#bd3786"
             ],
             [
              0.5555555555555556,
              "#d8576b"
             ],
             [
              0.6666666666666666,
              "#ed7953"
             ],
             [
              0.7777777777777778,
              "#fb9f3a"
             ],
             [
              0.8888888888888888,
              "#fdca26"
             ],
             [
              1,
              "#f0f921"
             ]
            ],
            "type": "heatmapgl"
           }
          ],
          "histogram": [
           {
            "marker": {
             "pattern": {
              "fillmode": "overlay",
              "size": 10,
              "solidity": 0.2
             }
            },
            "type": "histogram"
           }
          ],
          "histogram2d": [
           {
            "colorbar": {
             "outlinewidth": 0,
             "ticks": ""
            },
            "colorscale": [
             [
              0,
              "#0d0887"
             ],
             [
              0.1111111111111111,
              "#46039f"
             ],
             [
              0.2222222222222222,
              "#7201a8"
             ],
             [
              0.3333333333333333,
              "#9c179e"
             ],
             [
              0.4444444444444444,
              "#bd3786"
             ],
             [
              0.5555555555555556,
              "#d8576b"
             ],
             [
              0.6666666666666666,
              "#ed7953"
             ],
             [
              0.7777777777777778,
              "#fb9f3a"
             ],
             [
              0.8888888888888888,
              "#fdca26"
             ],
             [
              1,
              "#f0f921"
             ]
            ],
            "type": "histogram2d"
           }
          ],
          "histogram2dcontour": [
           {
            "colorbar": {
             "outlinewidth": 0,
             "ticks": ""
            },
            "colorscale": [
             [
              0,
              "#0d0887"
             ],
             [
              0.1111111111111111,
              "#46039f"
             ],
             [
              0.2222222222222222,
              "#7201a8"
             ],
             [
              0.3333333333333333,
              "#9c179e"
             ],
             [
              0.4444444444444444,
              "#bd3786"
             ],
             [
              0.5555555555555556,
              "#d8576b"
             ],
             [
              0.6666666666666666,
              "#ed7953"
             ],
             [
              0.7777777777777778,
              "#fb9f3a"
             ],
             [
              0.8888888888888888,
              "#fdca26"
             ],
             [
              1,
              "#f0f921"
             ]
            ],
            "type": "histogram2dcontour"
           }
          ],
          "mesh3d": [
           {
            "colorbar": {
             "outlinewidth": 0,
             "ticks": ""
            },
            "type": "mesh3d"
           }
          ],
          "parcoords": [
           {
            "line": {
             "colorbar": {
              "outlinewidth": 0,
              "ticks": ""
             }
            },
            "type": "parcoords"
           }
          ],
          "pie": [
           {
            "automargin": true,
            "type": "pie"
           }
          ],
          "scatter": [
           {
            "fillpattern": {
             "fillmode": "overlay",
             "size": 10,
             "solidity": 0.2
            },
            "type": "scatter"
           }
          ],
          "scatter3d": [
           {
            "line": {
             "colorbar": {
              "outlinewidth": 0,
              "ticks": ""
             }
            },
            "marker": {
             "colorbar": {
              "outlinewidth": 0,
              "ticks": ""
             }
            },
            "type": "scatter3d"
           }
          ],
          "scattercarpet": [
           {
            "marker": {
             "colorbar": {
              "outlinewidth": 0,
              "ticks": ""
             }
            },
            "type": "scattercarpet"
           }
          ],
          "scattergeo": [
           {
            "marker": {
             "colorbar": {
              "outlinewidth": 0,
              "ticks": ""
             }
            },
            "type": "scattergeo"
           }
          ],
          "scattergl": [
           {
            "marker": {
             "colorbar": {
              "outlinewidth": 0,
              "ticks": ""
             }
            },
            "type": "scattergl"
           }
          ],
          "scattermapbox": [
           {
            "marker": {
             "colorbar": {
              "outlinewidth": 0,
              "ticks": ""
             }
            },
            "type": "scattermapbox"
           }
          ],
          "scatterpolar": [
           {
            "marker": {
             "colorbar": {
              "outlinewidth": 0,
              "ticks": ""
             }
            },
            "type": "scatterpolar"
           }
          ],
          "scatterpolargl": [
           {
            "marker": {
             "colorbar": {
              "outlinewidth": 0,
              "ticks": ""
             }
            },
            "type": "scatterpolargl"
           }
          ],
          "scatterternary": [
           {
            "marker": {
             "colorbar": {
              "outlinewidth": 0,
              "ticks": ""
             }
            },
            "type": "scatterternary"
           }
          ],
          "surface": [
           {
            "colorbar": {
             "outlinewidth": 0,
             "ticks": ""
            },
            "colorscale": [
             [
              0,
              "#0d0887"
             ],
             [
              0.1111111111111111,
              "#46039f"
             ],
             [
              0.2222222222222222,
              "#7201a8"
             ],
             [
              0.3333333333333333,
              "#9c179e"
             ],
             [
              0.4444444444444444,
              "#bd3786"
             ],
             [
              0.5555555555555556,
              "#d8576b"
             ],
             [
              0.6666666666666666,
              "#ed7953"
             ],
             [
              0.7777777777777778,
              "#fb9f3a"
             ],
             [
              0.8888888888888888,
              "#fdca26"
             ],
             [
              1,
              "#f0f921"
             ]
            ],
            "type": "surface"
           }
          ],
          "table": [
           {
            "cells": {
             "fill": {
              "color": "#EBF0F8"
             },
             "line": {
              "color": "white"
             }
            },
            "header": {
             "fill": {
              "color": "#C8D4E3"
             },
             "line": {
              "color": "white"
             }
            },
            "type": "table"
           }
          ]
         },
         "layout": {
          "annotationdefaults": {
           "arrowcolor": "#2a3f5f",
           "arrowhead": 0,
           "arrowwidth": 1
          },
          "autotypenumbers": "strict",
          "coloraxis": {
           "colorbar": {
            "outlinewidth": 0,
            "ticks": ""
           }
          },
          "colorscale": {
           "diverging": [
            [
             0,
             "#8e0152"
            ],
            [
             0.1,
             "#c51b7d"
            ],
            [
             0.2,
             "#de77ae"
            ],
            [
             0.3,
             "#f1b6da"
            ],
            [
             0.4,
             "#fde0ef"
            ],
            [
             0.5,
             "#f7f7f7"
            ],
            [
             0.6,
             "#e6f5d0"
            ],
            [
             0.7,
             "#b8e186"
            ],
            [
             0.8,
             "#7fbc41"
            ],
            [
             0.9,
             "#4d9221"
            ],
            [
             1,
             "#276419"
            ]
           ],
           "sequential": [
            [
             0,
             "#0d0887"
            ],
            [
             0.1111111111111111,
             "#46039f"
            ],
            [
             0.2222222222222222,
             "#7201a8"
            ],
            [
             0.3333333333333333,
             "#9c179e"
            ],
            [
             0.4444444444444444,
             "#bd3786"
            ],
            [
             0.5555555555555556,
             "#d8576b"
            ],
            [
             0.6666666666666666,
             "#ed7953"
            ],
            [
             0.7777777777777778,
             "#fb9f3a"
            ],
            [
             0.8888888888888888,
             "#fdca26"
            ],
            [
             1,
             "#f0f921"
            ]
           ],
           "sequentialminus": [
            [
             0,
             "#0d0887"
            ],
            [
             0.1111111111111111,
             "#46039f"
            ],
            [
             0.2222222222222222,
             "#7201a8"
            ],
            [
             0.3333333333333333,
             "#9c179e"
            ],
            [
             0.4444444444444444,
             "#bd3786"
            ],
            [
             0.5555555555555556,
             "#d8576b"
            ],
            [
             0.6666666666666666,
             "#ed7953"
            ],
            [
             0.7777777777777778,
             "#fb9f3a"
            ],
            [
             0.8888888888888888,
             "#fdca26"
            ],
            [
             1,
             "#f0f921"
            ]
           ]
          },
          "colorway": [
           "#636efa",
           "#EF553B",
           "#00cc96",
           "#ab63fa",
           "#FFA15A",
           "#19d3f3",
           "#FF6692",
           "#B6E880",
           "#FF97FF",
           "#FECB52"
          ],
          "font": {
           "color": "#2a3f5f"
          },
          "geo": {
           "bgcolor": "white",
           "lakecolor": "white",
           "landcolor": "#E5ECF6",
           "showlakes": true,
           "showland": true,
           "subunitcolor": "white"
          },
          "hoverlabel": {
           "align": "left"
          },
          "hovermode": "closest",
          "mapbox": {
           "style": "light"
          },
          "paper_bgcolor": "white",
          "plot_bgcolor": "#E5ECF6",
          "polar": {
           "angularaxis": {
            "gridcolor": "white",
            "linecolor": "white",
            "ticks": ""
           },
           "bgcolor": "#E5ECF6",
           "radialaxis": {
            "gridcolor": "white",
            "linecolor": "white",
            "ticks": ""
           }
          },
          "scene": {
           "xaxis": {
            "backgroundcolor": "#E5ECF6",
            "gridcolor": "white",
            "gridwidth": 2,
            "linecolor": "white",
            "showbackground": true,
            "ticks": "",
            "zerolinecolor": "white"
           },
           "yaxis": {
            "backgroundcolor": "#E5ECF6",
            "gridcolor": "white",
            "gridwidth": 2,
            "linecolor": "white",
            "showbackground": true,
            "ticks": "",
            "zerolinecolor": "white"
           },
           "zaxis": {
            "backgroundcolor": "#E5ECF6",
            "gridcolor": "white",
            "gridwidth": 2,
            "linecolor": "white",
            "showbackground": true,
            "ticks": "",
            "zerolinecolor": "white"
           }
          },
          "shapedefaults": {
           "line": {
            "color": "#2a3f5f"
           }
          },
          "ternary": {
           "aaxis": {
            "gridcolor": "white",
            "linecolor": "white",
            "ticks": ""
           },
           "baxis": {
            "gridcolor": "white",
            "linecolor": "white",
            "ticks": ""
           },
           "bgcolor": "#E5ECF6",
           "caxis": {
            "gridcolor": "white",
            "linecolor": "white",
            "ticks": ""
           }
          },
          "title": {
           "x": 0.05
          },
          "xaxis": {
           "automargin": true,
           "gridcolor": "white",
           "linecolor": "white",
           "ticks": "",
           "title": {
            "standoff": 15
           },
           "zerolinecolor": "white",
           "zerolinewidth": 2
          },
          "yaxis": {
           "automargin": true,
           "gridcolor": "white",
           "linecolor": "white",
           "ticks": "",
           "title": {
            "standoff": 15
           },
           "zerolinecolor": "white",
           "zerolinewidth": 2
          }
         }
        },
        "title": {
         "text": "Weekday Predictions for the 2019 Memorial Tournament"
        },
        "xaxis": {
         "anchor": "y",
         "domain": [
          0,
          1
         ],
         "title": {
          "text": "sg_total"
         }
        },
        "yaxis": {
         "anchor": "x",
         "domain": [
          0,
          1
         ],
         "title": {
          "text": "predicted_SG"
         }
        }
       }
      },
      "text/html": [
       "<div>                            <div id=\"0d108d31-17e6-40d5-9688-7708018ff030\" class=\"plotly-graph-div\" style=\"height:525px; width:100%;\"></div>            <script type=\"text/javascript\">                require([\"plotly\"], function(Plotly) {                    window.PLOTLYENV=window.PLOTLYENV || {};                                    if (document.getElementById(\"0d108d31-17e6-40d5-9688-7708018ff030\")) {                    Plotly.newPlot(                        \"0d108d31-17e6-40d5-9688-7708018ff030\",                        [{\"hovertemplate\":\"<b>%{hovertext}</b><br><br>sg_total=%{x}<br>predicted_SG=%{y}<br>color=%{marker.color}<extra></extra>\",\"hovertext\":[\"An, Byeong Hun\",\"Ancer, Abraham\",\"Aphibarnrat, Kiradech\",\"Armour, Ryan\",\"Baddeley, Aaron\",\"Bradley, Keegan\",\"Brown, Scott\",\"Burgoon, Bronson\",\"Burns, Sam\",\"Cabrera Bello, Rafa\",\"Cantlay, Patrick\",\"Cauley, Bud\",\"Champ, Cameron\",\"Choi, K.J.\",\"Conners, Corey\",\"Cook, Austin\",\"Dahmen, Joel\",\"Day, Jason\",\"DeChambeau, Bryson\",\"Donald, Luke\",\"Dufner, Jason\",\"Els, Ernie\",\"Every, Matt\",\"Finau, Tony\",\"Fitzpatrick, Matthew\",\"Fowler, Rickie\",\"Furyk, Jim\",\"Garnett, Brice\",\"Gay, Brian\",\"Glover, Lucas\",\"Gooch, Talor\",\"Grace, Branden\",\"Grillo, Emiliano\",\"Haas, Bill\",\"Hadley, Chesson\",\"Hadwin, Adam\",\"Harman, Brian\",\"Hatton, Tyrrell\",\"Hoffman, Charley\",\"Holmes, J.B.\",\"Homa, Max\",\"Horschel, Billy\",\"Hossler, Beau\",\"Howell III, Charles\",\"Im, Sungjae\",\"Jones, Matt\",\"Kang, Sung\",\"Kaymer, Martin\",\"Kim, Michael\",\"Kim, Si Woo\",\"Kim, Whee\",\"Kisner, Kevin\",\"Kizzire, Patton\",\"Knox, Russell\",\"Kokrak, Jason\",\"Kraft, Kelly\",\"Kuchar, Matt\",\"Lahiri, Anirban\",\"Landry, Andrew\",\"Lee, Danny\",\"Lee, Kyoung-Hoon\",\"Leishman, Marc\",\"Lingmerth, David\",\"List, Luke\",\"Long, Adam\",\"Malnati, Peter\",\"Matsuyama, Hideki\",\"McIlroy, Rory\",\"Merritt, Troy\",\"Mickelson, Phil\",\"Mitchell, Keith\",\"Moore, Ryan\",\"Niemann, Joaquin\",\"Noren, Alex\",\"Oosthuizen, Louis\",\"Ortiz, Carlos\",\"Perez, Pat\",\"Poston, J.T.\",\"Potter, Jr., Ted\",\"Putnam, Andrew\",\"Rose, Justin\",\"Ryder, Sam\",\"Sabbatini, Rory\",\"Schauffele, Xander\",\"Schenk, Adam\",\"Scott, Adam\",\"Smith, Cameron\",\"Spaun, J.J.\",\"Spieth, Jordan\",\"Stallings, Scott\",\"Stanley, Kyle\",\"Steele, Brendan\",\"Stenson, Henrik\",\"Streb, Robert\",\"Streelman, Kevin\",\"Stricker, Steve\",\"Stuard, Brian\",\"Taylor, Vaughn\",\"Thomas, Justin\",\"Thompson, Michael\",\"Trainer, Martin\",\"Uihlein, Peter\",\"Varner III, Harold\",\"Vegas, Jhonattan\",\"Watney, Nick\",\"Willett, Danny\",\"Wise, Aaron\",\"Woodland, Gary\",\"Woods, Tiger\"],\"legendgroup\":\"\",\"marker\":{\"color\":[0.2002182777064465,0.37259185002788486,1.3182573861972866,1.13008530794107,0.9431275440098719,2.33515535091724,1.1026068917660434,1.2065180912867859,8.381512745344436,0.01125984960605464,2.1915212812770113,3.2423619949941545,2.306181473630493,1.080852023322548,1.429380086778606,3.1729152419775266,0.7842352626772213,3.495609696144865,0.48701021971904757,1.160631092508799,1.848564505502428,5.069322568787336,3.0931115562464133,4.317072086821621,0.1473713415105926,2.3112126096964922,1.012935895069769,0.6791015151797505,1.864082230726465,0.6247009391897965,4.056318543325339,1.1758096505417228,3.1175699394304424,1.629782124852057,1.767033451091644,0.7717566653771347,2.403336664556486,0.15183637448955162,1.2860009980999054,1.0038284759861944,0.82497710240627,1.285724472284864,2.1506916130660563,3.3544667088797917,0.7134817242088508,0.9553457621757238,4.656754045768922,4.651186212664109,0.3828056794122392,2.3746521234849682,0.3345448825728017,0.9997400746851364,2.0785862747936483,1.2073966563738727,0.3483638061562566,2.5108268510595813,2.554327825072711,0.9109044916962645,2.9637501682804483,1.823677318678437,4.559982363476293,2.610701526559308,0.3026169779897241,4.6496217916953775,4.313885726812404,0.012205744666921592,0.6681836844798974,2.34139049244258,4.4098064793592755,2.9472461434296626,0.9808951310375955,1.5698239964891711,0.5750617347825273,0.5188754442387965,0.032011240540750885,1.7998289703618355,0.5380725837541932,0.4964806658476864,1.1461205658794946,2.663101075052205,1.9420728109583905,1.84590211503366,0.40025664617350937,1.7158642636115107,0.4351426706538153,2.6819529711826737,3.4176048721368257,0.9367953436835971,3.2760625353151687,0.5554377850972976,1.0941755015973822,0.551020563972346,1.3275160505571137,1.5199828813478813,1.7263363469594168,0.5461393334001956,0.6736432847503928,2.3541397889450653,4.851179171789698,0.9365593334599478,6.229801951114151,1.9495802422286088,2.5201534869867777,1.1227722821129553,1.093281243131675,3.442704577696394,1.3863293367522511,1.2182212362629854,0.14052609199841704],\"coloraxis\":\"coloraxis\",\"symbol\":\"circle\"},\"mode\":\"markers\",\"name\":\"\",\"orientation\":\"v\",\"showlegend\":false,\"x\":[0.15200000000000002,0.652,1.652,1.1520000000000001,1.1520000000000001,-1.8479999999999999,-1.348,-1.348,-8.45,0.652,3.652,3.652,-2.3480000000000003,0.6519999999999997,1.6520000000000001,3.1519999999999997,1.1520000000000001,-2.348,0.15200000000000002,-1.246,1.6520000000000001,-5.45,-3.348,-3.348,0.152,3.652,1.6520000000000001,-0.848,-1.8480000000000003,0.15200000000000002,-3.8480000000000003,-1.348,3.652,-1.848,-1.848,-0.348,2.152,0.652,-0.848,-1.348,1.152,1.6520000000000001,-2.348,-2.8480000000000003,1.1520000000000001,1.1519999999999997,-4.348000000000001,4.652,-0.848,2.652,-0.8480000000000003,1.1519999999999997,-2.348,1.652,0.15200000000000002,-2.8480000000000003,-1.348,0.6519999999999997,-3.348,-1.848,4.651999999999999,3.152,-0.348,-4.348000000000001,-4.348000000000001,0.15200000000000002,1.6520000000000001,-0.8480000000000001,4.651999999999999,-2.3480000000000003,1.152,2.152,0.652,0.652,0.652,-1.848,-0.3480000000000001,-0.348,0.6519999999999999,3.152,3.1519999999999997,2.152,0.152,2.652,-0.348,3.6519999999999997,-3.348,-0.848,4.152,0.6519999999999999,-0.848,0.15200000000000002,2.152,-2.348,2.152,-0.3480000000000003,0.6519999999999997,2.652,-3.3480000000000003,1.1520000000000001,-6.848000000000001,-1.848,-2.348,-0.848,1.1520000000000001,3.152,-0.848,2.152,1.152],\"xaxis\":\"x\",\"y\":[0.35221827770644654,0.27940814997211516,0.3337426138027133,0.02191469205893004,0.2088724559901282,0.4871553509172401,-0.24539310823395669,-0.14148190871321398,-0.06848725465556293,0.6407401503939454,1.4604787187229886,0.40963800500584524,-0.041818526369507225,-0.42885202332254835,0.22261991322139413,-0.020915241977526436,0.36776473732277865,1.1476096961448645,0.6390102197190477,-0.08536890749120091,-0.19656450550242796,-0.3806774312126638,-0.254888443753587,0.9690720868216206,0.29937134151059264,1.3407873903035075,0.6390641049302308,-0.16889848482024955,0.0160822307264651,0.7767009391897965,0.20831854332533825,-0.17219034945827738,0.5344300605695576,-0.21821787514794322,-0.08096654890835606,0.4237566653771347,-0.25133666455648607,0.5001636255104485,0.43800099809990534,-0.3441715240138057,0.32702289759373004,0.36627552771513594,-0.19730838693394362,0.5064667088797917,0.4385182757911492,0.19665423782427566,0.30875404576892185,0.0008137873358913666,-1.230805679412239,0.2773478765150319,-1.182544882572802,0.15225992531486335,-0.2694137252063519,0.44460334362612736,0.5003638061562566,-0.3371731489404188,1.206327825072711,-0.25890449169626517,-0.3842498317195519,-0.024322681321563108,0.09201763652370658,0.5412984734406918,-0.04538302201027583,0.30162179169537695,-0.03411427318759615,0.13979425533307843,0.9838163155201026,1.4933904924425798,0.242193520640724,0.5992461434296624,0.17110486896240448,0.582176003510829,0.07693826521747273,0.1331245557612035,0.6199887594592491,-0.04817102963816437,0.190072583754193,0.1484806658476865,-0.4941205658794947,0.4888989249477951,1.209927189041609,0.30609788496633994,0.5522566461735094,0.9361357363884895,0.08714267065381527,0.9700470288173262,0.06960487213682522,0.08879534368359718,0.875937464684831,0.09656221490270213,0.2461755015973821,-0.399020563972346,0.824483949442886,-0.8280171186521188,0.4256636530405832,0.1981393334001954,-0.021643284750393038,0.29786021105493476,1.5031791717896978,0.21544066654005226,-0.6181980488858488,0.10158024222860873,0.17215348698677757,0.27477228211295546,0.058718756868325186,-0.29070457769639374,0.5383293367522513,0.9337787637370146,1.292526091998417],\"yaxis\":\"y\",\"type\":\"scatter\"}],                        {\"template\":{\"data\":{\"histogram2dcontour\":[{\"type\":\"histogram2dcontour\",\"colorbar\":{\"outlinewidth\":0,\"ticks\":\"\"},\"colorscale\":[[0.0,\"#0d0887\"],[0.1111111111111111,\"#46039f\"],[0.2222222222222222,\"#7201a8\"],[0.3333333333333333,\"#9c179e\"],[0.4444444444444444,\"#bd3786\"],[0.5555555555555556,\"#d8576b\"],[0.6666666666666666,\"#ed7953\"],[0.7777777777777778,\"#fb9f3a\"],[0.8888888888888888,\"#fdca26\"],[1.0,\"#f0f921\"]]}],\"choropleth\":[{\"type\":\"choropleth\",\"colorbar\":{\"outlinewidth\":0,\"ticks\":\"\"}}],\"histogram2d\":[{\"type\":\"histogram2d\",\"colorbar\":{\"outlinewidth\":0,\"ticks\":\"\"},\"colorscale\":[[0.0,\"#0d0887\"],[0.1111111111111111,\"#46039f\"],[0.2222222222222222,\"#7201a8\"],[0.3333333333333333,\"#9c179e\"],[0.4444444444444444,\"#bd3786\"],[0.5555555555555556,\"#d8576b\"],[0.6666666666666666,\"#ed7953\"],[0.7777777777777778,\"#fb9f3a\"],[0.8888888888888888,\"#fdca26\"],[1.0,\"#f0f921\"]]}],\"heatmap\":[{\"type\":\"heatmap\",\"colorbar\":{\"outlinewidth\":0,\"ticks\":\"\"},\"colorscale\":[[0.0,\"#0d0887\"],[0.1111111111111111,\"#46039f\"],[0.2222222222222222,\"#7201a8\"],[0.3333333333333333,\"#9c179e\"],[0.4444444444444444,\"#bd3786\"],[0.5555555555555556,\"#d8576b\"],[0.6666666666666666,\"#ed7953\"],[0.7777777777777778,\"#fb9f3a\"],[0.8888888888888888,\"#fdca26\"],[1.0,\"#f0f921\"]]}],\"heatmapgl\":[{\"type\":\"heatmapgl\",\"colorbar\":{\"outlinewidth\":0,\"ticks\":\"\"},\"colorscale\":[[0.0,\"#0d0887\"],[0.1111111111111111,\"#46039f\"],[0.2222222222222222,\"#7201a8\"],[0.3333333333333333,\"#9c179e\"],[0.4444444444444444,\"#bd3786\"],[0.5555555555555556,\"#d8576b\"],[0.6666666666666666,\"#ed7953\"],[0.7777777777777778,\"#fb9f3a\"],[0.8888888888888888,\"#fdca26\"],[1.0,\"#f0f921\"]]}],\"contourcarpet\":[{\"type\":\"contourcarpet\",\"colorbar\":{\"outlinewidth\":0,\"ticks\":\"\"}}],\"contour\":[{\"type\":\"contour\",\"colorbar\":{\"outlinewidth\":0,\"ticks\":\"\"},\"colorscale\":[[0.0,\"#0d0887\"],[0.1111111111111111,\"#46039f\"],[0.2222222222222222,\"#7201a8\"],[0.3333333333333333,\"#9c179e\"],[0.4444444444444444,\"#bd3786\"],[0.5555555555555556,\"#d8576b\"],[0.6666666666666666,\"#ed7953\"],[0.7777777777777778,\"#fb9f3a\"],[0.8888888888888888,\"#fdca26\"],[1.0,\"#f0f921\"]]}],\"surface\":[{\"type\":\"surface\",\"colorbar\":{\"outlinewidth\":0,\"ticks\":\"\"},\"colorscale\":[[0.0,\"#0d0887\"],[0.1111111111111111,\"#46039f\"],[0.2222222222222222,\"#7201a8\"],[0.3333333333333333,\"#9c179e\"],[0.4444444444444444,\"#bd3786\"],[0.5555555555555556,\"#d8576b\"],[0.6666666666666666,\"#ed7953\"],[0.7777777777777778,\"#fb9f3a\"],[0.8888888888888888,\"#fdca26\"],[1.0,\"#f0f921\"]]}],\"mesh3d\":[{\"type\":\"mesh3d\",\"colorbar\":{\"outlinewidth\":0,\"ticks\":\"\"}}],\"scatter\":[{\"fillpattern\":{\"fillmode\":\"overlay\",\"size\":10,\"solidity\":0.2},\"type\":\"scatter\"}],\"parcoords\":[{\"type\":\"parcoords\",\"line\":{\"colorbar\":{\"outlinewidth\":0,\"ticks\":\"\"}}}],\"scatterpolargl\":[{\"type\":\"scatterpolargl\",\"marker\":{\"colorbar\":{\"outlinewidth\":0,\"ticks\":\"\"}}}],\"bar\":[{\"error_x\":{\"color\":\"#2a3f5f\"},\"error_y\":{\"color\":\"#2a3f5f\"},\"marker\":{\"line\":{\"color\":\"#E5ECF6\",\"width\":0.5},\"pattern\":{\"fillmode\":\"overlay\",\"size\":10,\"solidity\":0.2}},\"type\":\"bar\"}],\"scattergeo\":[{\"type\":\"scattergeo\",\"marker\":{\"colorbar\":{\"outlinewidth\":0,\"ticks\":\"\"}}}],\"scatterpolar\":[{\"type\":\"scatterpolar\",\"marker\":{\"colorbar\":{\"outlinewidth\":0,\"ticks\":\"\"}}}],\"histogram\":[{\"marker\":{\"pattern\":{\"fillmode\":\"overlay\",\"size\":10,\"solidity\":0.2}},\"type\":\"histogram\"}],\"scattergl\":[{\"type\":\"scattergl\",\"marker\":{\"colorbar\":{\"outlinewidth\":0,\"ticks\":\"\"}}}],\"scatter3d\":[{\"type\":\"scatter3d\",\"line\":{\"colorbar\":{\"outlinewidth\":0,\"ticks\":\"\"}},\"marker\":{\"colorbar\":{\"outlinewidth\":0,\"ticks\":\"\"}}}],\"scattermapbox\":[{\"type\":\"scattermapbox\",\"marker\":{\"colorbar\":{\"outlinewidth\":0,\"ticks\":\"\"}}}],\"scatterternary\":[{\"type\":\"scatterternary\",\"marker\":{\"colorbar\":{\"outlinewidth\":0,\"ticks\":\"\"}}}],\"scattercarpet\":[{\"type\":\"scattercarpet\",\"marker\":{\"colorbar\":{\"outlinewidth\":0,\"ticks\":\"\"}}}],\"carpet\":[{\"aaxis\":{\"endlinecolor\":\"#2a3f5f\",\"gridcolor\":\"white\",\"linecolor\":\"white\",\"minorgridcolor\":\"white\",\"startlinecolor\":\"#2a3f5f\"},\"baxis\":{\"endlinecolor\":\"#2a3f5f\",\"gridcolor\":\"white\",\"linecolor\":\"white\",\"minorgridcolor\":\"white\",\"startlinecolor\":\"#2a3f5f\"},\"type\":\"carpet\"}],\"table\":[{\"cells\":{\"fill\":{\"color\":\"#EBF0F8\"},\"line\":{\"color\":\"white\"}},\"header\":{\"fill\":{\"color\":\"#C8D4E3\"},\"line\":{\"color\":\"white\"}},\"type\":\"table\"}],\"barpolar\":[{\"marker\":{\"line\":{\"color\":\"#E5ECF6\",\"width\":0.5},\"pattern\":{\"fillmode\":\"overlay\",\"size\":10,\"solidity\":0.2}},\"type\":\"barpolar\"}],\"pie\":[{\"automargin\":true,\"type\":\"pie\"}]},\"layout\":{\"autotypenumbers\":\"strict\",\"colorway\":[\"#636efa\",\"#EF553B\",\"#00cc96\",\"#ab63fa\",\"#FFA15A\",\"#19d3f3\",\"#FF6692\",\"#B6E880\",\"#FF97FF\",\"#FECB52\"],\"font\":{\"color\":\"#2a3f5f\"},\"hovermode\":\"closest\",\"hoverlabel\":{\"align\":\"left\"},\"paper_bgcolor\":\"white\",\"plot_bgcolor\":\"#E5ECF6\",\"polar\":{\"bgcolor\":\"#E5ECF6\",\"angularaxis\":{\"gridcolor\":\"white\",\"linecolor\":\"white\",\"ticks\":\"\"},\"radialaxis\":{\"gridcolor\":\"white\",\"linecolor\":\"white\",\"ticks\":\"\"}},\"ternary\":{\"bgcolor\":\"#E5ECF6\",\"aaxis\":{\"gridcolor\":\"white\",\"linecolor\":\"white\",\"ticks\":\"\"},\"baxis\":{\"gridcolor\":\"white\",\"linecolor\":\"white\",\"ticks\":\"\"},\"caxis\":{\"gridcolor\":\"white\",\"linecolor\":\"white\",\"ticks\":\"\"}},\"coloraxis\":{\"colorbar\":{\"outlinewidth\":0,\"ticks\":\"\"}},\"colorscale\":{\"sequential\":[[0.0,\"#0d0887\"],[0.1111111111111111,\"#46039f\"],[0.2222222222222222,\"#7201a8\"],[0.3333333333333333,\"#9c179e\"],[0.4444444444444444,\"#bd3786\"],[0.5555555555555556,\"#d8576b\"],[0.6666666666666666,\"#ed7953\"],[0.7777777777777778,\"#fb9f3a\"],[0.8888888888888888,\"#fdca26\"],[1.0,\"#f0f921\"]],\"sequentialminus\":[[0.0,\"#0d0887\"],[0.1111111111111111,\"#46039f\"],[0.2222222222222222,\"#7201a8\"],[0.3333333333333333,\"#9c179e\"],[0.4444444444444444,\"#bd3786\"],[0.5555555555555556,\"#d8576b\"],[0.6666666666666666,\"#ed7953\"],[0.7777777777777778,\"#fb9f3a\"],[0.8888888888888888,\"#fdca26\"],[1.0,\"#f0f921\"]],\"diverging\":[[0,\"#8e0152\"],[0.1,\"#c51b7d\"],[0.2,\"#de77ae\"],[0.3,\"#f1b6da\"],[0.4,\"#fde0ef\"],[0.5,\"#f7f7f7\"],[0.6,\"#e6f5d0\"],[0.7,\"#b8e186\"],[0.8,\"#7fbc41\"],[0.9,\"#4d9221\"],[1,\"#276419\"]]},\"xaxis\":{\"gridcolor\":\"white\",\"linecolor\":\"white\",\"ticks\":\"\",\"title\":{\"standoff\":15},\"zerolinecolor\":\"white\",\"automargin\":true,\"zerolinewidth\":2},\"yaxis\":{\"gridcolor\":\"white\",\"linecolor\":\"white\",\"ticks\":\"\",\"title\":{\"standoff\":15},\"zerolinecolor\":\"white\",\"automargin\":true,\"zerolinewidth\":2},\"scene\":{\"xaxis\":{\"backgroundcolor\":\"#E5ECF6\",\"gridcolor\":\"white\",\"linecolor\":\"white\",\"showbackground\":true,\"ticks\":\"\",\"zerolinecolor\":\"white\",\"gridwidth\":2},\"yaxis\":{\"backgroundcolor\":\"#E5ECF6\",\"gridcolor\":\"white\",\"linecolor\":\"white\",\"showbackground\":true,\"ticks\":\"\",\"zerolinecolor\":\"white\",\"gridwidth\":2},\"zaxis\":{\"backgroundcolor\":\"#E5ECF6\",\"gridcolor\":\"white\",\"linecolor\":\"white\",\"showbackground\":true,\"ticks\":\"\",\"zerolinecolor\":\"white\",\"gridwidth\":2}},\"shapedefaults\":{\"line\":{\"color\":\"#2a3f5f\"}},\"annotationdefaults\":{\"arrowcolor\":\"#2a3f5f\",\"arrowhead\":0,\"arrowwidth\":1},\"geo\":{\"bgcolor\":\"white\",\"landcolor\":\"#E5ECF6\",\"subunitcolor\":\"white\",\"showland\":true,\"showlakes\":true,\"lakecolor\":\"white\"},\"title\":{\"x\":0.05},\"mapbox\":{\"style\":\"light\"}}},\"xaxis\":{\"anchor\":\"y\",\"domain\":[0.0,1.0],\"title\":{\"text\":\"sg_total\"}},\"yaxis\":{\"anchor\":\"x\",\"domain\":[0.0,1.0],\"title\":{\"text\":\"predicted_SG\"}},\"coloraxis\":{\"colorbar\":{\"title\":{\"text\":\"color\"}},\"colorscale\":[[0.0,\"#0508b8\"],[0.08333333333333333,\"#1910d8\"],[0.16666666666666666,\"#3c19f0\"],[0.25,\"#6b1cfb\"],[0.3333333333333333,\"#981cfd\"],[0.4166666666666667,\"#bf1cfd\"],[0.5,\"#dd2bfd\"],[0.5833333333333334,\"#f246fe\"],[0.6666666666666666,\"#fc67fd\"],[0.75,\"#fe88fc\"],[0.8333333333333334,\"#fea5fd\"],[0.9166666666666666,\"#febefe\"],[1.0,\"#fec3fe\"]]},\"legend\":{\"tracegroupgap\":0},\"title\":{\"text\":\"Weekday Predictions for the 2019 Memorial Tournament\"}},                        {\"responsive\": true}                    ).then(function(){\n",
       "                            \n",
       "var gd = document.getElementById('0d108d31-17e6-40d5-9688-7708018ff030');\n",
       "var x = new MutationObserver(function (mutations, observer) {{\n",
       "        var display = window.getComputedStyle(gd).display;\n",
       "        if (!display || display === 'none') {{\n",
       "            console.log([gd, 'removed!']);\n",
       "            Plotly.purge(gd);\n",
       "            observer.disconnect();\n",
       "        }}\n",
       "}});\n",
       "\n",
       "// Listen for the removal of the full notebook cells\n",
       "var notebookContainer = gd.closest('#notebook-container');\n",
       "if (notebookContainer) {{\n",
       "    x.observe(notebookContainer, {childList: true});\n",
       "}}\n",
       "\n",
       "// Listen for the clearing of the current output cell\n",
       "var outputEl = gd.closest('.output');\n",
       "if (outputEl) {{\n",
       "    x.observe(outputEl, {childList: true});\n",
       "}}\n",
       "\n",
       "                        })                };                });            </script>        </div>"
      ]
     },
     "metadata": {},
     "output_type": "display_data"
    }
   ],
   "source": [
    "px.scatter(data_frame=ThursFri, x='sg_total', y = 'predicted_SG', color=abs(ThursFri['residuals']), \n",
    "           color_continuous_scale=px.colors.sequential.Plotly3,\n",
    "           hover_name = 'player_name', title='Weekday Predictions for the 2019 Memorial Tournament')"
   ]
  },
  {
   "cell_type": "code",
   "execution_count": 109,
   "id": "21008297",
   "metadata": {},
   "outputs": [
    {
     "data": {
      "application/vnd.plotly.v1+json": {
       "config": {
        "plotlyServerURL": "https://plot.ly"
       },
       "data": [
        {
         "hovertemplate": "<b>%{hovertext}</b><br><br>sg_total=%{x}<br>predicted_SG=%{y}<br>color=%{marker.color}<extra></extra>",
         "hovertext": [
          "An, Byeong Hun",
          "Ancer, Abraham",
          "Aphibarnrat, Kiradech",
          "Armour, Ryan",
          "Baddeley, Aaron",
          "Cabrera Bello, Rafa",
          "Cantlay, Patrick",
          "Cauley, Bud",
          "Choi, K.J.",
          "Conners, Corey",
          "Cook, Austin",
          "Dahmen, Joel",
          "DeChambeau, Bryson",
          "Donald, Luke",
          "Dufner, Jason",
          "Fitzpatrick, Matthew",
          "Fowler, Rickie",
          "Furyk, Jim",
          "Glover, Lucas",
          "Grillo, Emiliano",
          "Hadwin, Adam",
          "Harman, Brian",
          "Hatton, Tyrrell",
          "Homa, Max",
          "Horschel, Billy",
          "Im, Sungjae",
          "Jones, Matt",
          "Kaymer, Martin",
          "Kim, Si Woo",
          "Kisner, Kevin",
          "Knox, Russell",
          "Kokrak, Jason",
          "Lahiri, Anirban",
          "Lee, Kyoung-Hoon",
          "Leishman, Marc",
          "Lingmerth, David",
          "Luiten, Joost",
          "Malnati, Peter",
          "Matsuyama, Hideki",
          "Merritt, Troy",
          "Mitchell, Keith",
          "Moore, Ryan",
          "Niemann, Joaquin",
          "Noren, Alex",
          "Oosthuizen, Louis",
          "Perez, Pat",
          "Poston, J.T.",
          "Potter, Jr., Ted",
          "Putnam, Andrew",
          "Rose, Justin",
          "Ryder, Sam",
          "Sabbatini, Rory",
          "Schauffele, Xander",
          "Schenk, Adam",
          "Scott, Adam",
          "Sharma, Shubhankar",
          "Spieth, Jordan",
          "Stallings, Scott",
          "Steele, Brendan",
          "Stenson, Henrik",
          "Streelman, Kevin",
          "Stricker, Steve",
          "Stuard, Brian",
          "Taylor, Vaughn",
          "Thompson, Michael",
          "Watney, Nick",
          "Willett, Danny",
          "Woodland, Gary",
          "Woods, Tiger",
          "Xiong, Norman"
         ],
         "legendgroup": "",
         "marker": {
          "color": [
           2.8245433350585056,
           2.576620633212883,
           1.3300739486591444,
           1.6406066901129317,
           1.278694580808712,
           0.40196393623085314,
           4.631248502185466,
           0.6316727902932426,
           4.5471902896166085,
           3.5748067818610485,
           0.9039951774630461,
           3.620642022224113,
           2.012284659501465,
           0.4115579593076726,
           3.651706734060589,
           2.588957160231608,
           1.1579331173165293,
           0.46599776568714146,
           1.1387166505048656,
           0.5651064496240531,
           0.1932322433545146,
           0.26739943210094075,
           0.709665061183444,
           0.06727210199671552,
           2.6567081142617734,
           2.237340732750444,
           0.7416810018446778,
           2.8954304000399205,
           2.047414125253994,
           0.6466403023732802,
           0.3002238638405445,
           1.9228240027673302,
           0.38351107473723667,
           3.553571514789495,
           2.5030736569875494,
           1.2838050564777266,
           0.5482689888858576,
           2.98408863287359,
           3.012416709201303,
           1.7015694518873723,
           1.2124881942823225,
           0.6584687497216744,
           1.4528947924672617,
           0.08725313098553289,
           1.9252250775355018,
           0.6353371190443086,
           0.04424427721257751,
           5.690729108119758,
           0.28216316483251147,
           0.290644640070112,
           3.0909504924743594,
           1.569201174982219,
           0.23306257192459107,
           1.334539319874443,
           3.8799445346539287,
           5.290823513421528,
           0.24138914293615998,
           0.31290729916705906,
           1.13735847159316,
           1.5592205575780789,
           4.115319866574223,
           2.927174569833835,
           0.8810977566881405,
           2.6265129883162563,
           2.4210663119563227,
           1.3601362631112428,
           0.6741785248989611,
           3.123921864028154,
           2.4205721878206714,
           1.0184853094888333
          ],
          "coloraxis": "coloraxis",
          "symbol": "circle"
         },
         "mode": "markers",
         "name": "",
         "orientation": "v",
         "showlegend": false,
         "type": "scatter",
         "x": [
          2.959,
          -2.541,
          1.459,
          1.459,
          1.459,
          -0.040999999999999925,
          5.959,
          0.959,
          -5.041,
          -3.541,
          -1.041,
          -3.541,
          2.459,
          -0.5409999999999999,
          3.459,
          -2.541,
          -0.040999999999999995,
          -0.040999999999999925,
          -0.5409999999999999,
          0.9590000000000001,
          -0.041000000000000036,
          -0.04099999999999998,
          0.9590000000000001,
          -0.040999999999999925,
          2.959,
          -2.041,
          -0.5409999999999999,
          2.959,
          -2.041,
          -0.541,
          0.459,
          -1.541,
          -1.041,
          -3.541,
          2.959,
          0.9590000000000001,
          -0.877,
          2.959,
          3.959,
          -1.541,
          -1.041,
          -0.5409999999999999,
          1.459,
          -0.040999999999999925,
          -1.541,
          -0.5409999999999999,
          -0.04099999999999998,
          -6.541,
          -0.040999999999999925,
          0.9590000000000001,
          -3.041,
          1.959,
          0.9590000000000001,
          -1.541,
          4.959,
          -5.877,
          0.959,
          -0.541,
          0.4590000000000001,
          -1.041,
          4.459,
          2.959,
          0.9590000000000001,
          -2.541,
          2.459,
          1.459,
          -1.041,
          -2.541,
          3.459,
          0.123
         ],
         "xaxis": "x",
         "y": [
          0.1344566649414944,
          0.03562063321288335,
          0.12892605134085566,
          -0.18160669011293173,
          0.18030541919128795,
          0.3609639362308533,
          1.3277514978145342,
          0.3273272097067572,
          -0.49380971038339094,
          0.033806781861049046,
          -0.13700482253695362,
          0.07964202222411294,
          0.44671534049853523,
          -0.12944204069232695,
          -0.19270673406058922,
          0.04795716023160815,
          1.1169331173165293,
          0.4249977656871415,
          0.5977166505048658,
          0.3938935503759469,
          0.1522322433545145,
          -0.3083994321009407,
          0.2493349388165561,
          0.026272101996715494,
          0.3022918857382268,
          0.19634073275044375,
          0.20068100184467785,
          0.06356959996007913,
          0.0064141252539941795,
          0.10564030237328018,
          0.15877613615945552,
          0.3818240027673303,
          -0.6574889252627634,
          0.012571514789495003,
          0.4559263430124505,
          -0.32480505647772645,
          -0.32873101111414244,
          -0.025088632873589423,
          0.9465832907986973,
          0.16056945188737226,
          0.17148819428232248,
          0.11746874972167454,
          0.006105207532738438,
          0.046253130985533054,
          0.3842250775355019,
          0.09433711904430857,
          -0.08524427721257749,
          -0.8502708918802424,
          0.24116316483251146,
          1.249644640070112,
          0.04995049247435928,
          0.38979882501778085,
          0.7259374280754091,
          -0.206460680125557,
          1.0790554653460713,
          -0.5861764865784715,
          0.71761085706384,
          -0.22809270083294098,
          -0.67835847159316,
          0.5182205575780789,
          0.34368013342577686,
          0.031825430166164764,
          0.07790224331185955,
          0.08551298831625637,
          0.03793368804367733,
          0.09886373688875706,
          -0.3668214751010389,
          0.5829218640281539,
          1.0384278121793287,
          -0.8954853094888333
         ],
         "yaxis": "y"
        }
       ],
       "layout": {
        "coloraxis": {
         "colorbar": {
          "title": {
           "text": "color"
          }
         },
         "colorscale": [
          [
           0,
           "#0508b8"
          ],
          [
           0.08333333333333333,
           "#1910d8"
          ],
          [
           0.16666666666666666,
           "#3c19f0"
          ],
          [
           0.25,
           "#6b1cfb"
          ],
          [
           0.3333333333333333,
           "#981cfd"
          ],
          [
           0.4166666666666667,
           "#bf1cfd"
          ],
          [
           0.5,
           "#dd2bfd"
          ],
          [
           0.5833333333333334,
           "#f246fe"
          ],
          [
           0.6666666666666666,
           "#fc67fd"
          ],
          [
           0.75,
           "#fe88fc"
          ],
          [
           0.8333333333333334,
           "#fea5fd"
          ],
          [
           0.9166666666666666,
           "#febefe"
          ],
          [
           1,
           "#fec3fe"
          ]
         ]
        },
        "legend": {
         "tracegroupgap": 0
        },
        "template": {
         "data": {
          "bar": [
           {
            "error_x": {
             "color": "#2a3f5f"
            },
            "error_y": {
             "color": "#2a3f5f"
            },
            "marker": {
             "line": {
              "color": "#E5ECF6",
              "width": 0.5
             },
             "pattern": {
              "fillmode": "overlay",
              "size": 10,
              "solidity": 0.2
             }
            },
            "type": "bar"
           }
          ],
          "barpolar": [
           {
            "marker": {
             "line": {
              "color": "#E5ECF6",
              "width": 0.5
             },
             "pattern": {
              "fillmode": "overlay",
              "size": 10,
              "solidity": 0.2
             }
            },
            "type": "barpolar"
           }
          ],
          "carpet": [
           {
            "aaxis": {
             "endlinecolor": "#2a3f5f",
             "gridcolor": "white",
             "linecolor": "white",
             "minorgridcolor": "white",
             "startlinecolor": "#2a3f5f"
            },
            "baxis": {
             "endlinecolor": "#2a3f5f",
             "gridcolor": "white",
             "linecolor": "white",
             "minorgridcolor": "white",
             "startlinecolor": "#2a3f5f"
            },
            "type": "carpet"
           }
          ],
          "choropleth": [
           {
            "colorbar": {
             "outlinewidth": 0,
             "ticks": ""
            },
            "type": "choropleth"
           }
          ],
          "contour": [
           {
            "colorbar": {
             "outlinewidth": 0,
             "ticks": ""
            },
            "colorscale": [
             [
              0,
              "#0d0887"
             ],
             [
              0.1111111111111111,
              "#46039f"
             ],
             [
              0.2222222222222222,
              "#7201a8"
             ],
             [
              0.3333333333333333,
              "#9c179e"
             ],
             [
              0.4444444444444444,
              "#bd3786"
             ],
             [
              0.5555555555555556,
              "#d8576b"
             ],
             [
              0.6666666666666666,
              "#ed7953"
             ],
             [
              0.7777777777777778,
              "#fb9f3a"
             ],
             [
              0.8888888888888888,
              "#fdca26"
             ],
             [
              1,
              "#f0f921"
             ]
            ],
            "type": "contour"
           }
          ],
          "contourcarpet": [
           {
            "colorbar": {
             "outlinewidth": 0,
             "ticks": ""
            },
            "type": "contourcarpet"
           }
          ],
          "heatmap": [
           {
            "colorbar": {
             "outlinewidth": 0,
             "ticks": ""
            },
            "colorscale": [
             [
              0,
              "#0d0887"
             ],
             [
              0.1111111111111111,
              "#46039f"
             ],
             [
              0.2222222222222222,
              "#7201a8"
             ],
             [
              0.3333333333333333,
              "#9c179e"
             ],
             [
              0.4444444444444444,
              "#bd3786"
             ],
             [
              0.5555555555555556,
              "#d8576b"
             ],
             [
              0.6666666666666666,
              "#ed7953"
             ],
             [
              0.7777777777777778,
              "#fb9f3a"
             ],
             [
              0.8888888888888888,
              "#fdca26"
             ],
             [
              1,
              "#f0f921"
             ]
            ],
            "type": "heatmap"
           }
          ],
          "heatmapgl": [
           {
            "colorbar": {
             "outlinewidth": 0,
             "ticks": ""
            },
            "colorscale": [
             [
              0,
              "#0d0887"
             ],
             [
              0.1111111111111111,
              "#46039f"
             ],
             [
              0.2222222222222222,
              "#7201a8"
             ],
             [
              0.3333333333333333,
              "#9c179e"
             ],
             [
              0.4444444444444444,
              "#bd3786"
             ],
             [
              0.5555555555555556,
              "#d8576b"
             ],
             [
              0.6666666666666666,
              "#ed7953"
             ],
             [
              0.7777777777777778,
              "#fb9f3a"
             ],
             [
              0.8888888888888888,
              "#fdca26"
             ],
             [
              1,
              "#f0f921"
             ]
            ],
            "type": "heatmapgl"
           }
          ],
          "histogram": [
           {
            "marker": {
             "pattern": {
              "fillmode": "overlay",
              "size": 10,
              "solidity": 0.2
             }
            },
            "type": "histogram"
           }
          ],
          "histogram2d": [
           {
            "colorbar": {
             "outlinewidth": 0,
             "ticks": ""
            },
            "colorscale": [
             [
              0,
              "#0d0887"
             ],
             [
              0.1111111111111111,
              "#46039f"
             ],
             [
              0.2222222222222222,
              "#7201a8"
             ],
             [
              0.3333333333333333,
              "#9c179e"
             ],
             [
              0.4444444444444444,
              "#bd3786"
             ],
             [
              0.5555555555555556,
              "#d8576b"
             ],
             [
              0.6666666666666666,
              "#ed7953"
             ],
             [
              0.7777777777777778,
              "#fb9f3a"
             ],
             [
              0.8888888888888888,
              "#fdca26"
             ],
             [
              1,
              "#f0f921"
             ]
            ],
            "type": "histogram2d"
           }
          ],
          "histogram2dcontour": [
           {
            "colorbar": {
             "outlinewidth": 0,
             "ticks": ""
            },
            "colorscale": [
             [
              0,
              "#0d0887"
             ],
             [
              0.1111111111111111,
              "#46039f"
             ],
             [
              0.2222222222222222,
              "#7201a8"
             ],
             [
              0.3333333333333333,
              "#9c179e"
             ],
             [
              0.4444444444444444,
              "#bd3786"
             ],
             [
              0.5555555555555556,
              "#d8576b"
             ],
             [
              0.6666666666666666,
              "#ed7953"
             ],
             [
              0.7777777777777778,
              "#fb9f3a"
             ],
             [
              0.8888888888888888,
              "#fdca26"
             ],
             [
              1,
              "#f0f921"
             ]
            ],
            "type": "histogram2dcontour"
           }
          ],
          "mesh3d": [
           {
            "colorbar": {
             "outlinewidth": 0,
             "ticks": ""
            },
            "type": "mesh3d"
           }
          ],
          "parcoords": [
           {
            "line": {
             "colorbar": {
              "outlinewidth": 0,
              "ticks": ""
             }
            },
            "type": "parcoords"
           }
          ],
          "pie": [
           {
            "automargin": true,
            "type": "pie"
           }
          ],
          "scatter": [
           {
            "fillpattern": {
             "fillmode": "overlay",
             "size": 10,
             "solidity": 0.2
            },
            "type": "scatter"
           }
          ],
          "scatter3d": [
           {
            "line": {
             "colorbar": {
              "outlinewidth": 0,
              "ticks": ""
             }
            },
            "marker": {
             "colorbar": {
              "outlinewidth": 0,
              "ticks": ""
             }
            },
            "type": "scatter3d"
           }
          ],
          "scattercarpet": [
           {
            "marker": {
             "colorbar": {
              "outlinewidth": 0,
              "ticks": ""
             }
            },
            "type": "scattercarpet"
           }
          ],
          "scattergeo": [
           {
            "marker": {
             "colorbar": {
              "outlinewidth": 0,
              "ticks": ""
             }
            },
            "type": "scattergeo"
           }
          ],
          "scattergl": [
           {
            "marker": {
             "colorbar": {
              "outlinewidth": 0,
              "ticks": ""
             }
            },
            "type": "scattergl"
           }
          ],
          "scattermapbox": [
           {
            "marker": {
             "colorbar": {
              "outlinewidth": 0,
              "ticks": ""
             }
            },
            "type": "scattermapbox"
           }
          ],
          "scatterpolar": [
           {
            "marker": {
             "colorbar": {
              "outlinewidth": 0,
              "ticks": ""
             }
            },
            "type": "scatterpolar"
           }
          ],
          "scatterpolargl": [
           {
            "marker": {
             "colorbar": {
              "outlinewidth": 0,
              "ticks": ""
             }
            },
            "type": "scatterpolargl"
           }
          ],
          "scatterternary": [
           {
            "marker": {
             "colorbar": {
              "outlinewidth": 0,
              "ticks": ""
             }
            },
            "type": "scatterternary"
           }
          ],
          "surface": [
           {
            "colorbar": {
             "outlinewidth": 0,
             "ticks": ""
            },
            "colorscale": [
             [
              0,
              "#0d0887"
             ],
             [
              0.1111111111111111,
              "#46039f"
             ],
             [
              0.2222222222222222,
              "#7201a8"
             ],
             [
              0.3333333333333333,
              "#9c179e"
             ],
             [
              0.4444444444444444,
              "#bd3786"
             ],
             [
              0.5555555555555556,
              "#d8576b"
             ],
             [
              0.6666666666666666,
              "#ed7953"
             ],
             [
              0.7777777777777778,
              "#fb9f3a"
             ],
             [
              0.8888888888888888,
              "#fdca26"
             ],
             [
              1,
              "#f0f921"
             ]
            ],
            "type": "surface"
           }
          ],
          "table": [
           {
            "cells": {
             "fill": {
              "color": "#EBF0F8"
             },
             "line": {
              "color": "white"
             }
            },
            "header": {
             "fill": {
              "color": "#C8D4E3"
             },
             "line": {
              "color": "white"
             }
            },
            "type": "table"
           }
          ]
         },
         "layout": {
          "annotationdefaults": {
           "arrowcolor": "#2a3f5f",
           "arrowhead": 0,
           "arrowwidth": 1
          },
          "autotypenumbers": "strict",
          "coloraxis": {
           "colorbar": {
            "outlinewidth": 0,
            "ticks": ""
           }
          },
          "colorscale": {
           "diverging": [
            [
             0,
             "#8e0152"
            ],
            [
             0.1,
             "#c51b7d"
            ],
            [
             0.2,
             "#de77ae"
            ],
            [
             0.3,
             "#f1b6da"
            ],
            [
             0.4,
             "#fde0ef"
            ],
            [
             0.5,
             "#f7f7f7"
            ],
            [
             0.6,
             "#e6f5d0"
            ],
            [
             0.7,
             "#b8e186"
            ],
            [
             0.8,
             "#7fbc41"
            ],
            [
             0.9,
             "#4d9221"
            ],
            [
             1,
             "#276419"
            ]
           ],
           "sequential": [
            [
             0,
             "#0d0887"
            ],
            [
             0.1111111111111111,
             "#46039f"
            ],
            [
             0.2222222222222222,
             "#7201a8"
            ],
            [
             0.3333333333333333,
             "#9c179e"
            ],
            [
             0.4444444444444444,
             "#bd3786"
            ],
            [
             0.5555555555555556,
             "#d8576b"
            ],
            [
             0.6666666666666666,
             "#ed7953"
            ],
            [
             0.7777777777777778,
             "#fb9f3a"
            ],
            [
             0.8888888888888888,
             "#fdca26"
            ],
            [
             1,
             "#f0f921"
            ]
           ],
           "sequentialminus": [
            [
             0,
             "#0d0887"
            ],
            [
             0.1111111111111111,
             "#46039f"
            ],
            [
             0.2222222222222222,
             "#7201a8"
            ],
            [
             0.3333333333333333,
             "#9c179e"
            ],
            [
             0.4444444444444444,
             "#bd3786"
            ],
            [
             0.5555555555555556,
             "#d8576b"
            ],
            [
             0.6666666666666666,
             "#ed7953"
            ],
            [
             0.7777777777777778,
             "#fb9f3a"
            ],
            [
             0.8888888888888888,
             "#fdca26"
            ],
            [
             1,
             "#f0f921"
            ]
           ]
          },
          "colorway": [
           "#636efa",
           "#EF553B",
           "#00cc96",
           "#ab63fa",
           "#FFA15A",
           "#19d3f3",
           "#FF6692",
           "#B6E880",
           "#FF97FF",
           "#FECB52"
          ],
          "font": {
           "color": "#2a3f5f"
          },
          "geo": {
           "bgcolor": "white",
           "lakecolor": "white",
           "landcolor": "#E5ECF6",
           "showlakes": true,
           "showland": true,
           "subunitcolor": "white"
          },
          "hoverlabel": {
           "align": "left"
          },
          "hovermode": "closest",
          "mapbox": {
           "style": "light"
          },
          "paper_bgcolor": "white",
          "plot_bgcolor": "#E5ECF6",
          "polar": {
           "angularaxis": {
            "gridcolor": "white",
            "linecolor": "white",
            "ticks": ""
           },
           "bgcolor": "#E5ECF6",
           "radialaxis": {
            "gridcolor": "white",
            "linecolor": "white",
            "ticks": ""
           }
          },
          "scene": {
           "xaxis": {
            "backgroundcolor": "#E5ECF6",
            "gridcolor": "white",
            "gridwidth": 2,
            "linecolor": "white",
            "showbackground": true,
            "ticks": "",
            "zerolinecolor": "white"
           },
           "yaxis": {
            "backgroundcolor": "#E5ECF6",
            "gridcolor": "white",
            "gridwidth": 2,
            "linecolor": "white",
            "showbackground": true,
            "ticks": "",
            "zerolinecolor": "white"
           },
           "zaxis": {
            "backgroundcolor": "#E5ECF6",
            "gridcolor": "white",
            "gridwidth": 2,
            "linecolor": "white",
            "showbackground": true,
            "ticks": "",
            "zerolinecolor": "white"
           }
          },
          "shapedefaults": {
           "line": {
            "color": "#2a3f5f"
           }
          },
          "ternary": {
           "aaxis": {
            "gridcolor": "white",
            "linecolor": "white",
            "ticks": ""
           },
           "baxis": {
            "gridcolor": "white",
            "linecolor": "white",
            "ticks": ""
           },
           "bgcolor": "#E5ECF6",
           "caxis": {
            "gridcolor": "white",
            "linecolor": "white",
            "ticks": ""
           }
          },
          "title": {
           "x": 0.05
          },
          "xaxis": {
           "automargin": true,
           "gridcolor": "white",
           "linecolor": "white",
           "ticks": "",
           "title": {
            "standoff": 15
           },
           "zerolinecolor": "white",
           "zerolinewidth": 2
          },
          "yaxis": {
           "automargin": true,
           "gridcolor": "white",
           "linecolor": "white",
           "ticks": "",
           "title": {
            "standoff": 15
           },
           "zerolinecolor": "white",
           "zerolinewidth": 2
          }
         }
        },
        "title": {
         "text": "Weekend Predictions for the 2019 Memorial Tournament"
        },
        "xaxis": {
         "anchor": "y",
         "domain": [
          0,
          1
         ],
         "title": {
          "text": "sg_total"
         }
        },
        "yaxis": {
         "anchor": "x",
         "domain": [
          0,
          1
         ],
         "title": {
          "text": "predicted_SG"
         }
        }
       }
      },
      "text/html": [
       "<div>                            <div id=\"10f1685d-d443-4e19-af61-ae19d55e005e\" class=\"plotly-graph-div\" style=\"height:525px; width:100%;\"></div>            <script type=\"text/javascript\">                require([\"plotly\"], function(Plotly) {                    window.PLOTLYENV=window.PLOTLYENV || {};                                    if (document.getElementById(\"10f1685d-d443-4e19-af61-ae19d55e005e\")) {                    Plotly.newPlot(                        \"10f1685d-d443-4e19-af61-ae19d55e005e\",                        [{\"hovertemplate\":\"<b>%{hovertext}</b><br><br>sg_total=%{x}<br>predicted_SG=%{y}<br>color=%{marker.color}<extra></extra>\",\"hovertext\":[\"An, Byeong Hun\",\"Ancer, Abraham\",\"Aphibarnrat, Kiradech\",\"Armour, Ryan\",\"Baddeley, Aaron\",\"Cabrera Bello, Rafa\",\"Cantlay, Patrick\",\"Cauley, Bud\",\"Choi, K.J.\",\"Conners, Corey\",\"Cook, Austin\",\"Dahmen, Joel\",\"DeChambeau, Bryson\",\"Donald, Luke\",\"Dufner, Jason\",\"Fitzpatrick, Matthew\",\"Fowler, Rickie\",\"Furyk, Jim\",\"Glover, Lucas\",\"Grillo, Emiliano\",\"Hadwin, Adam\",\"Harman, Brian\",\"Hatton, Tyrrell\",\"Homa, Max\",\"Horschel, Billy\",\"Im, Sungjae\",\"Jones, Matt\",\"Kaymer, Martin\",\"Kim, Si Woo\",\"Kisner, Kevin\",\"Knox, Russell\",\"Kokrak, Jason\",\"Lahiri, Anirban\",\"Lee, Kyoung-Hoon\",\"Leishman, Marc\",\"Lingmerth, David\",\"Luiten, Joost\",\"Malnati, Peter\",\"Matsuyama, Hideki\",\"Merritt, Troy\",\"Mitchell, Keith\",\"Moore, Ryan\",\"Niemann, Joaquin\",\"Noren, Alex\",\"Oosthuizen, Louis\",\"Perez, Pat\",\"Poston, J.T.\",\"Potter, Jr., Ted\",\"Putnam, Andrew\",\"Rose, Justin\",\"Ryder, Sam\",\"Sabbatini, Rory\",\"Schauffele, Xander\",\"Schenk, Adam\",\"Scott, Adam\",\"Sharma, Shubhankar\",\"Spieth, Jordan\",\"Stallings, Scott\",\"Steele, Brendan\",\"Stenson, Henrik\",\"Streelman, Kevin\",\"Stricker, Steve\",\"Stuard, Brian\",\"Taylor, Vaughn\",\"Thompson, Michael\",\"Watney, Nick\",\"Willett, Danny\",\"Woodland, Gary\",\"Woods, Tiger\",\"Xiong, Norman\"],\"legendgroup\":\"\",\"marker\":{\"color\":[2.8245433350585056,2.576620633212883,1.3300739486591444,1.6406066901129317,1.278694580808712,0.40196393623085314,4.631248502185466,0.6316727902932426,4.5471902896166085,3.5748067818610485,0.9039951774630461,3.620642022224113,2.012284659501465,0.4115579593076726,3.651706734060589,2.588957160231608,1.1579331173165293,0.46599776568714146,1.1387166505048656,0.5651064496240531,0.1932322433545146,0.26739943210094075,0.709665061183444,0.06727210199671552,2.6567081142617734,2.237340732750444,0.7416810018446778,2.8954304000399205,2.047414125253994,0.6466403023732802,0.3002238638405445,1.9228240027673302,0.38351107473723667,3.553571514789495,2.5030736569875494,1.2838050564777266,0.5482689888858576,2.98408863287359,3.012416709201303,1.7015694518873723,1.2124881942823225,0.6584687497216744,1.4528947924672617,0.08725313098553289,1.9252250775355018,0.6353371190443086,0.04424427721257751,5.690729108119758,0.28216316483251147,0.290644640070112,3.0909504924743594,1.569201174982219,0.23306257192459107,1.334539319874443,3.8799445346539287,5.290823513421528,0.24138914293615998,0.31290729916705906,1.13735847159316,1.5592205575780789,4.115319866574223,2.927174569833835,0.8810977566881405,2.6265129883162563,2.4210663119563227,1.3601362631112428,0.6741785248989611,3.123921864028154,2.4205721878206714,1.0184853094888333],\"coloraxis\":\"coloraxis\",\"symbol\":\"circle\"},\"mode\":\"markers\",\"name\":\"\",\"orientation\":\"v\",\"showlegend\":false,\"x\":[2.959,-2.541,1.459,1.459,1.459,-0.040999999999999925,5.959,0.959,-5.041,-3.541,-1.041,-3.541,2.459,-0.5409999999999999,3.459,-2.541,-0.040999999999999995,-0.040999999999999925,-0.5409999999999999,0.9590000000000001,-0.041000000000000036,-0.04099999999999998,0.9590000000000001,-0.040999999999999925,2.959,-2.041,-0.5409999999999999,2.959,-2.041,-0.541,0.459,-1.541,-1.041,-3.541,2.959,0.9590000000000001,-0.877,2.959,3.959,-1.541,-1.041,-0.5409999999999999,1.459,-0.040999999999999925,-1.541,-0.5409999999999999,-0.04099999999999998,-6.541,-0.040999999999999925,0.9590000000000001,-3.041,1.959,0.9590000000000001,-1.541,4.959,-5.877,0.959,-0.541,0.4590000000000001,-1.041,4.459,2.959,0.9590000000000001,-2.541,2.459,1.459,-1.041,-2.541,3.459,0.123],\"xaxis\":\"x\",\"y\":[0.1344566649414944,0.03562063321288335,0.12892605134085566,-0.18160669011293173,0.18030541919128795,0.3609639362308533,1.3277514978145342,0.3273272097067572,-0.49380971038339094,0.033806781861049046,-0.13700482253695362,0.07964202222411294,0.44671534049853523,-0.12944204069232695,-0.19270673406058922,0.04795716023160815,1.1169331173165293,0.4249977656871415,0.5977166505048658,0.3938935503759469,0.1522322433545145,-0.3083994321009407,0.2493349388165561,0.026272101996715494,0.3022918857382268,0.19634073275044375,0.20068100184467785,0.06356959996007913,0.0064141252539941795,0.10564030237328018,0.15877613615945552,0.3818240027673303,-0.6574889252627634,0.012571514789495003,0.4559263430124505,-0.32480505647772645,-0.32873101111414244,-0.025088632873589423,0.9465832907986973,0.16056945188737226,0.17148819428232248,0.11746874972167454,0.006105207532738438,0.046253130985533054,0.3842250775355019,0.09433711904430857,-0.08524427721257749,-0.8502708918802424,0.24116316483251146,1.249644640070112,0.04995049247435928,0.38979882501778085,0.7259374280754091,-0.206460680125557,1.0790554653460713,-0.5861764865784715,0.71761085706384,-0.22809270083294098,-0.67835847159316,0.5182205575780789,0.34368013342577686,0.031825430166164764,0.07790224331185955,0.08551298831625637,0.03793368804367733,0.09886373688875706,-0.3668214751010389,0.5829218640281539,1.0384278121793287,-0.8954853094888333],\"yaxis\":\"y\",\"type\":\"scatter\"}],                        {\"template\":{\"data\":{\"histogram2dcontour\":[{\"type\":\"histogram2dcontour\",\"colorbar\":{\"outlinewidth\":0,\"ticks\":\"\"},\"colorscale\":[[0.0,\"#0d0887\"],[0.1111111111111111,\"#46039f\"],[0.2222222222222222,\"#7201a8\"],[0.3333333333333333,\"#9c179e\"],[0.4444444444444444,\"#bd3786\"],[0.5555555555555556,\"#d8576b\"],[0.6666666666666666,\"#ed7953\"],[0.7777777777777778,\"#fb9f3a\"],[0.8888888888888888,\"#fdca26\"],[1.0,\"#f0f921\"]]}],\"choropleth\":[{\"type\":\"choropleth\",\"colorbar\":{\"outlinewidth\":0,\"ticks\":\"\"}}],\"histogram2d\":[{\"type\":\"histogram2d\",\"colorbar\":{\"outlinewidth\":0,\"ticks\":\"\"},\"colorscale\":[[0.0,\"#0d0887\"],[0.1111111111111111,\"#46039f\"],[0.2222222222222222,\"#7201a8\"],[0.3333333333333333,\"#9c179e\"],[0.4444444444444444,\"#bd3786\"],[0.5555555555555556,\"#d8576b\"],[0.6666666666666666,\"#ed7953\"],[0.7777777777777778,\"#fb9f3a\"],[0.8888888888888888,\"#fdca26\"],[1.0,\"#f0f921\"]]}],\"heatmap\":[{\"type\":\"heatmap\",\"colorbar\":{\"outlinewidth\":0,\"ticks\":\"\"},\"colorscale\":[[0.0,\"#0d0887\"],[0.1111111111111111,\"#46039f\"],[0.2222222222222222,\"#7201a8\"],[0.3333333333333333,\"#9c179e\"],[0.4444444444444444,\"#bd3786\"],[0.5555555555555556,\"#d8576b\"],[0.6666666666666666,\"#ed7953\"],[0.7777777777777778,\"#fb9f3a\"],[0.8888888888888888,\"#fdca26\"],[1.0,\"#f0f921\"]]}],\"heatmapgl\":[{\"type\":\"heatmapgl\",\"colorbar\":{\"outlinewidth\":0,\"ticks\":\"\"},\"colorscale\":[[0.0,\"#0d0887\"],[0.1111111111111111,\"#46039f\"],[0.2222222222222222,\"#7201a8\"],[0.3333333333333333,\"#9c179e\"],[0.4444444444444444,\"#bd3786\"],[0.5555555555555556,\"#d8576b\"],[0.6666666666666666,\"#ed7953\"],[0.7777777777777778,\"#fb9f3a\"],[0.8888888888888888,\"#fdca26\"],[1.0,\"#f0f921\"]]}],\"contourcarpet\":[{\"type\":\"contourcarpet\",\"colorbar\":{\"outlinewidth\":0,\"ticks\":\"\"}}],\"contour\":[{\"type\":\"contour\",\"colorbar\":{\"outlinewidth\":0,\"ticks\":\"\"},\"colorscale\":[[0.0,\"#0d0887\"],[0.1111111111111111,\"#46039f\"],[0.2222222222222222,\"#7201a8\"],[0.3333333333333333,\"#9c179e\"],[0.4444444444444444,\"#bd3786\"],[0.5555555555555556,\"#d8576b\"],[0.6666666666666666,\"#ed7953\"],[0.7777777777777778,\"#fb9f3a\"],[0.8888888888888888,\"#fdca26\"],[1.0,\"#f0f921\"]]}],\"surface\":[{\"type\":\"surface\",\"colorbar\":{\"outlinewidth\":0,\"ticks\":\"\"},\"colorscale\":[[0.0,\"#0d0887\"],[0.1111111111111111,\"#46039f\"],[0.2222222222222222,\"#7201a8\"],[0.3333333333333333,\"#9c179e\"],[0.4444444444444444,\"#bd3786\"],[0.5555555555555556,\"#d8576b\"],[0.6666666666666666,\"#ed7953\"],[0.7777777777777778,\"#fb9f3a\"],[0.8888888888888888,\"#fdca26\"],[1.0,\"#f0f921\"]]}],\"mesh3d\":[{\"type\":\"mesh3d\",\"colorbar\":{\"outlinewidth\":0,\"ticks\":\"\"}}],\"scatter\":[{\"fillpattern\":{\"fillmode\":\"overlay\",\"size\":10,\"solidity\":0.2},\"type\":\"scatter\"}],\"parcoords\":[{\"type\":\"parcoords\",\"line\":{\"colorbar\":{\"outlinewidth\":0,\"ticks\":\"\"}}}],\"scatterpolargl\":[{\"type\":\"scatterpolargl\",\"marker\":{\"colorbar\":{\"outlinewidth\":0,\"ticks\":\"\"}}}],\"bar\":[{\"error_x\":{\"color\":\"#2a3f5f\"},\"error_y\":{\"color\":\"#2a3f5f\"},\"marker\":{\"line\":{\"color\":\"#E5ECF6\",\"width\":0.5},\"pattern\":{\"fillmode\":\"overlay\",\"size\":10,\"solidity\":0.2}},\"type\":\"bar\"}],\"scattergeo\":[{\"type\":\"scattergeo\",\"marker\":{\"colorbar\":{\"outlinewidth\":0,\"ticks\":\"\"}}}],\"scatterpolar\":[{\"type\":\"scatterpolar\",\"marker\":{\"colorbar\":{\"outlinewidth\":0,\"ticks\":\"\"}}}],\"histogram\":[{\"marker\":{\"pattern\":{\"fillmode\":\"overlay\",\"size\":10,\"solidity\":0.2}},\"type\":\"histogram\"}],\"scattergl\":[{\"type\":\"scattergl\",\"marker\":{\"colorbar\":{\"outlinewidth\":0,\"ticks\":\"\"}}}],\"scatter3d\":[{\"type\":\"scatter3d\",\"line\":{\"colorbar\":{\"outlinewidth\":0,\"ticks\":\"\"}},\"marker\":{\"colorbar\":{\"outlinewidth\":0,\"ticks\":\"\"}}}],\"scattermapbox\":[{\"type\":\"scattermapbox\",\"marker\":{\"colorbar\":{\"outlinewidth\":0,\"ticks\":\"\"}}}],\"scatterternary\":[{\"type\":\"scatterternary\",\"marker\":{\"colorbar\":{\"outlinewidth\":0,\"ticks\":\"\"}}}],\"scattercarpet\":[{\"type\":\"scattercarpet\",\"marker\":{\"colorbar\":{\"outlinewidth\":0,\"ticks\":\"\"}}}],\"carpet\":[{\"aaxis\":{\"endlinecolor\":\"#2a3f5f\",\"gridcolor\":\"white\",\"linecolor\":\"white\",\"minorgridcolor\":\"white\",\"startlinecolor\":\"#2a3f5f\"},\"baxis\":{\"endlinecolor\":\"#2a3f5f\",\"gridcolor\":\"white\",\"linecolor\":\"white\",\"minorgridcolor\":\"white\",\"startlinecolor\":\"#2a3f5f\"},\"type\":\"carpet\"}],\"table\":[{\"cells\":{\"fill\":{\"color\":\"#EBF0F8\"},\"line\":{\"color\":\"white\"}},\"header\":{\"fill\":{\"color\":\"#C8D4E3\"},\"line\":{\"color\":\"white\"}},\"type\":\"table\"}],\"barpolar\":[{\"marker\":{\"line\":{\"color\":\"#E5ECF6\",\"width\":0.5},\"pattern\":{\"fillmode\":\"overlay\",\"size\":10,\"solidity\":0.2}},\"type\":\"barpolar\"}],\"pie\":[{\"automargin\":true,\"type\":\"pie\"}]},\"layout\":{\"autotypenumbers\":\"strict\",\"colorway\":[\"#636efa\",\"#EF553B\",\"#00cc96\",\"#ab63fa\",\"#FFA15A\",\"#19d3f3\",\"#FF6692\",\"#B6E880\",\"#FF97FF\",\"#FECB52\"],\"font\":{\"color\":\"#2a3f5f\"},\"hovermode\":\"closest\",\"hoverlabel\":{\"align\":\"left\"},\"paper_bgcolor\":\"white\",\"plot_bgcolor\":\"#E5ECF6\",\"polar\":{\"bgcolor\":\"#E5ECF6\",\"angularaxis\":{\"gridcolor\":\"white\",\"linecolor\":\"white\",\"ticks\":\"\"},\"radialaxis\":{\"gridcolor\":\"white\",\"linecolor\":\"white\",\"ticks\":\"\"}},\"ternary\":{\"bgcolor\":\"#E5ECF6\",\"aaxis\":{\"gridcolor\":\"white\",\"linecolor\":\"white\",\"ticks\":\"\"},\"baxis\":{\"gridcolor\":\"white\",\"linecolor\":\"white\",\"ticks\":\"\"},\"caxis\":{\"gridcolor\":\"white\",\"linecolor\":\"white\",\"ticks\":\"\"}},\"coloraxis\":{\"colorbar\":{\"outlinewidth\":0,\"ticks\":\"\"}},\"colorscale\":{\"sequential\":[[0.0,\"#0d0887\"],[0.1111111111111111,\"#46039f\"],[0.2222222222222222,\"#7201a8\"],[0.3333333333333333,\"#9c179e\"],[0.4444444444444444,\"#bd3786\"],[0.5555555555555556,\"#d8576b\"],[0.6666666666666666,\"#ed7953\"],[0.7777777777777778,\"#fb9f3a\"],[0.8888888888888888,\"#fdca26\"],[1.0,\"#f0f921\"]],\"sequentialminus\":[[0.0,\"#0d0887\"],[0.1111111111111111,\"#46039f\"],[0.2222222222222222,\"#7201a8\"],[0.3333333333333333,\"#9c179e\"],[0.4444444444444444,\"#bd3786\"],[0.5555555555555556,\"#d8576b\"],[0.6666666666666666,\"#ed7953\"],[0.7777777777777778,\"#fb9f3a\"],[0.8888888888888888,\"#fdca26\"],[1.0,\"#f0f921\"]],\"diverging\":[[0,\"#8e0152\"],[0.1,\"#c51b7d\"],[0.2,\"#de77ae\"],[0.3,\"#f1b6da\"],[0.4,\"#fde0ef\"],[0.5,\"#f7f7f7\"],[0.6,\"#e6f5d0\"],[0.7,\"#b8e186\"],[0.8,\"#7fbc41\"],[0.9,\"#4d9221\"],[1,\"#276419\"]]},\"xaxis\":{\"gridcolor\":\"white\",\"linecolor\":\"white\",\"ticks\":\"\",\"title\":{\"standoff\":15},\"zerolinecolor\":\"white\",\"automargin\":true,\"zerolinewidth\":2},\"yaxis\":{\"gridcolor\":\"white\",\"linecolor\":\"white\",\"ticks\":\"\",\"title\":{\"standoff\":15},\"zerolinecolor\":\"white\",\"automargin\":true,\"zerolinewidth\":2},\"scene\":{\"xaxis\":{\"backgroundcolor\":\"#E5ECF6\",\"gridcolor\":\"white\",\"linecolor\":\"white\",\"showbackground\":true,\"ticks\":\"\",\"zerolinecolor\":\"white\",\"gridwidth\":2},\"yaxis\":{\"backgroundcolor\":\"#E5ECF6\",\"gridcolor\":\"white\",\"linecolor\":\"white\",\"showbackground\":true,\"ticks\":\"\",\"zerolinecolor\":\"white\",\"gridwidth\":2},\"zaxis\":{\"backgroundcolor\":\"#E5ECF6\",\"gridcolor\":\"white\",\"linecolor\":\"white\",\"showbackground\":true,\"ticks\":\"\",\"zerolinecolor\":\"white\",\"gridwidth\":2}},\"shapedefaults\":{\"line\":{\"color\":\"#2a3f5f\"}},\"annotationdefaults\":{\"arrowcolor\":\"#2a3f5f\",\"arrowhead\":0,\"arrowwidth\":1},\"geo\":{\"bgcolor\":\"white\",\"landcolor\":\"#E5ECF6\",\"subunitcolor\":\"white\",\"showland\":true,\"showlakes\":true,\"lakecolor\":\"white\"},\"title\":{\"x\":0.05},\"mapbox\":{\"style\":\"light\"}}},\"xaxis\":{\"anchor\":\"y\",\"domain\":[0.0,1.0],\"title\":{\"text\":\"sg_total\"}},\"yaxis\":{\"anchor\":\"x\",\"domain\":[0.0,1.0],\"title\":{\"text\":\"predicted_SG\"}},\"coloraxis\":{\"colorbar\":{\"title\":{\"text\":\"color\"}},\"colorscale\":[[0.0,\"#0508b8\"],[0.08333333333333333,\"#1910d8\"],[0.16666666666666666,\"#3c19f0\"],[0.25,\"#6b1cfb\"],[0.3333333333333333,\"#981cfd\"],[0.4166666666666667,\"#bf1cfd\"],[0.5,\"#dd2bfd\"],[0.5833333333333334,\"#f246fe\"],[0.6666666666666666,\"#fc67fd\"],[0.75,\"#fe88fc\"],[0.8333333333333334,\"#fea5fd\"],[0.9166666666666666,\"#febefe\"],[1.0,\"#fec3fe\"]]},\"legend\":{\"tracegroupgap\":0},\"title\":{\"text\":\"Weekend Predictions for the 2019 Memorial Tournament\"}},                        {\"responsive\": true}                    ).then(function(){\n",
       "                            \n",
       "var gd = document.getElementById('10f1685d-d443-4e19-af61-ae19d55e005e');\n",
       "var x = new MutationObserver(function (mutations, observer) {{\n",
       "        var display = window.getComputedStyle(gd).display;\n",
       "        if (!display || display === 'none') {{\n",
       "            console.log([gd, 'removed!']);\n",
       "            Plotly.purge(gd);\n",
       "            observer.disconnect();\n",
       "        }}\n",
       "}});\n",
       "\n",
       "// Listen for the removal of the full notebook cells\n",
       "var notebookContainer = gd.closest('#notebook-container');\n",
       "if (notebookContainer) {{\n",
       "    x.observe(notebookContainer, {childList: true});\n",
       "}}\n",
       "\n",
       "// Listen for the clearing of the current output cell\n",
       "var outputEl = gd.closest('.output');\n",
       "if (outputEl) {{\n",
       "    x.observe(outputEl, {childList: true});\n",
       "}}\n",
       "\n",
       "                        })                };                });            </script>        </div>"
      ]
     },
     "metadata": {},
     "output_type": "display_data"
    }
   ],
   "source": [
    "px.scatter(data_frame=SatSun, x='sg_total', y = 'predicted_SG', color=abs(SatSun['residuals']), \n",
    "           color_continuous_scale=px.colors.sequential.Plotly3,\n",
    "           hover_name = 'player_name', title='Weekend Predictions for the 2019 Memorial Tournament')"
   ]
  },
  {
   "cell_type": "code",
   "execution_count": 110,
   "id": "c9acbd8d",
   "metadata": {},
   "outputs": [
    {
     "data": {
      "application/vnd.plotly.v1+json": {
       "config": {
        "plotlyServerURL": "https://plot.ly"
       },
       "data": [
        {
         "hovertemplate": "<b>%{hovertext}</b><br><br>sg_total=%{x}<br>predicted_SG=%{y}<br>color=%{marker.color}<extra></extra>",
         "hovertext": [
          "An, Byeong Hun",
          "Ancer, Abraham",
          "Aphibarnrat, Kiradech",
          "Armour, Ryan",
          "Baddeley, Aaron",
          "Bradley, Keegan",
          "Brown, Scott",
          "Burgoon, Bronson",
          "Burns, Sam",
          "Cabrera Bello, Rafa",
          "Cantlay, Patrick",
          "Cauley, Bud",
          "Champ, Cameron",
          "Choi, K.J.",
          "Conners, Corey",
          "Cook, Austin",
          "Dahmen, Joel",
          "Day, Jason",
          "DeChambeau, Bryson",
          "Donald, Luke",
          "Dufner, Jason",
          "Els, Ernie",
          "Every, Matt",
          "Finau, Tony",
          "Fitzpatrick, Matthew",
          "Fowler, Rickie",
          "Furyk, Jim",
          "Garnett, Brice",
          "Gay, Brian",
          "Glover, Lucas",
          "Gooch, Talor",
          "Grace, Branden",
          "Grillo, Emiliano",
          "Haas, Bill",
          "Hadley, Chesson",
          "Hadwin, Adam",
          "Harman, Brian",
          "Hatton, Tyrrell",
          "Hoffman, Charley",
          "Holmes, J.B.",
          "Homa, Max",
          "Horschel, Billy",
          "Hossler, Beau",
          "Howell III, Charles",
          "Im, Sungjae",
          "Jones, Matt",
          "Kang, Sung",
          "Kaymer, Martin",
          "Kim, Michael",
          "Kim, Si Woo",
          "Kim, Whee",
          "Kisner, Kevin",
          "Kizzire, Patton",
          "Knox, Russell",
          "Kokrak, Jason",
          "Kraft, Kelly",
          "Kuchar, Matt",
          "Lahiri, Anirban",
          "Landry, Andrew",
          "Lee, Danny",
          "Lee, Kyoung-Hoon",
          "Leishman, Marc",
          "Lingmerth, David",
          "List, Luke",
          "Long, Adam",
          "Luiten, Joost",
          "Malnati, Peter",
          "Matsuyama, Hideki",
          "McIlroy, Rory",
          "Merritt, Troy",
          "Mickelson, Phil",
          "Mitchell, Keith",
          "Moore, Ryan",
          "Niemann, Joaquin",
          "Noren, Alex",
          "Oosthuizen, Louis",
          "Ortiz, Carlos",
          "Perez, Pat",
          "Poston, J.T.",
          "Potter, Jr., Ted",
          "Putnam, Andrew",
          "Rose, Justin",
          "Ryder, Sam",
          "Sabbatini, Rory",
          "Schauffele, Xander",
          "Schenk, Adam",
          "Scott, Adam",
          "Sharma, Shubhankar",
          "Smith, Cameron",
          "Spaun, J.J.",
          "Spieth, Jordan",
          "Stallings, Scott",
          "Stanley, Kyle",
          "Steele, Brendan",
          "Stenson, Henrik",
          "Streb, Robert",
          "Streelman, Kevin",
          "Stricker, Steve",
          "Stuard, Brian",
          "Taylor, Vaughn",
          "Thomas, Justin",
          "Thompson, Michael",
          "Trainer, Martin",
          "Uihlein, Peter",
          "Varner III, Harold",
          "Vegas, Jhonattan",
          "Watney, Nick",
          "Willett, Danny",
          "Wise, Aaron",
          "Woodland, Gary",
          "Woods, Tiger",
          "Xiong, Norman"
         ],
         "legendgroup": "",
         "marker": {
          "color": [
           1.3121625286760294,
           1.1020143915924991,
           1.3241656674282156,
           1.385345999027001,
           1.110911062409292,
           2.33515535091724,
           1.1026068917660434,
           1.2065180912867859,
           8.381512745344436,
           0.1953520433123992,
           3.411384891731238,
           1.9370173926436987,
           2.306181473630493,
           1.7331691331470305,
           1.0727133475412214,
           1.1344600322572402,
           1.4182033797734457,
           3.495609696144865,
           0.7626372198912087,
           0.6612490037080482,
           2.7501356197815086,
           5.069322568787336,
           3.0931115562464133,
           4.317072086821621,
           1.3681642508711005,
           0.5766397461899815,
           0.2734690646913138,
           0.6791015151797505,
           1.864082230726465,
           0.881708794847331,
           4.056318543325339,
           1.1758096505417228,
           1.8413381945272478,
           1.629782124852057,
           1.767033451091644,
           0.48249445436582467,
           1.3353680483287134,
           0.43075071783649777,
           1.2860009980999054,
           1.0038284759861944,
           0.37885250020477723,
           1.9712162932733186,
           2.1506916130660563,
           3.3544667088797917,
           0.7619295042707964,
           0.10683238016552288,
           4.656754045768922,
           3.7733083063520145,
           0.3828056794122392,
           0.1636189991154871,
           0.3345448825728017,
           0.1765498861559281,
           2.0785862747936483,
           0.7538102601072086,
           1.1355939044617935,
           2.5108268510595813,
           2.554327825072711,
           0.26369670847951393,
           2.9637501682804483,
           1.823677318678437,
           0.5032054243433992,
           2.5568875917734286,
           0.4905940392440012,
           4.6496217916953775,
           4.313885726812404,
           0.5482689888858576,
           1.4981471887702558,
           1.8403001968406003,
           2.34139049244258,
           1.3541185137359517,
           2.9472461434296626,
           0.11579653162236347,
           0.4556776233837484,
           1.0139782636248944,
           0.21581115662663175,
           0.9466069184973755,
           1.7998289703618355,
           0.5867048513992509,
           0.22611819431755445,
           2.272304271120132,
           1.1904689551098466,
           0.8257140854441393,
           0.6225241887203496,
           0.5844722644043548,
           0.9744634177680508,
           0.8848409952641292,
           3.2809487529183015,
           5.290823513421528,
           3.4176048721368257,
           0.9367953436835971,
           1.7587258391256644,
           0.12126524296511924,
           1.0941755015973822,
           0.844189517782753,
           0.11585225351048253,
           1.5199828813478813,
           2.92082810676682,
           1.1905176182168198,
           0.7773705207192667,
           0.13618659968559554,
           4.851179171789698,
           1.6788128227081351,
           6.229801951114151,
           1.9495802422286088,
           2.5201534869867777,
           1.1227722821129553,
           1.2267087531214589,
           1.3842630263987163,
           1.3863293367522511,
           0.9528503138825842,
           1.140023047911127,
           1.0184853094888333
          ],
          "coloraxis": "coloraxis",
          "symbol": "circle"
         },
         "mode": "markers",
         "name": "",
         "orientation": "v",
         "showlegend": false,
         "type": "scatter",
         "x": [
          1.5555,
          -0.9445,
          1.5554999999999999,
          1.3055,
          1.3055,
          -1.8479999999999999,
          -1.348,
          -1.348,
          -8.45,
          0.30550000000000005,
          4.8055,
          2.3055,
          -2.3480000000000003,
          -2.1945,
          -0.9445,
          1.0554999999999999,
          -1.1945,
          -2.348,
          1.3055,
          -0.7760000000000001,
          2.5555,
          -5.45,
          -3.348,
          -3.348,
          -1.1945,
          1.8054999999999999,
          0.8055,
          -0.848,
          -1.8480000000000003,
          -0.1944999999999999,
          -3.8480000000000003,
          -1.348,
          2.3055,
          -1.848,
          -1.848,
          -0.1945,
          1.0554999999999999,
          0.8055000000000001,
          -0.848,
          -1.348,
          0.5555,
          2.3055000000000003,
          -2.348,
          -2.8480000000000003,
          -0.44449999999999995,
          0.3054999999999999,
          -4.348000000000001,
          3.8055,
          -0.848,
          0.30550000000000005,
          -0.8480000000000003,
          0.3054999999999998,
          -2.348,
          1.0554999999999999,
          -0.6944999999999999,
          -2.8480000000000003,
          -1.348,
          -0.19450000000000017,
          -3.348,
          -1.848,
          0.5554999999999999,
          3.0555,
          0.3055,
          -4.348000000000001,
          -4.348000000000001,
          -0.877,
          1.5555,
          2.8055,
          -0.8480000000000001,
          1.5554999999999999,
          -2.3480000000000003,
          0.055499999999999994,
          0.8055,
          1.0555,
          0.3055000000000001,
          -0.4444999999999999,
          -1.848,
          -0.4445,
          -0.19449999999999998,
          -2.9445,
          1.5554999999999999,
          2.0555,
          -0.4445,
          1.0554999999999999,
          1.8054999999999999,
          -0.9444999999999999,
          4.3055,
          -5.877,
          -3.348,
          -0.848,
          2.5555,
          0.05549999999999994,
          -0.848,
          0.3055000000000001,
          0.5554999999999999,
          -2.348,
          3.3055,
          1.3054999999999999,
          0.8054999999999999,
          0.055500000000000105,
          -3.3480000000000003,
          1.8055,
          -6.848000000000001,
          -1.848,
          -2.348,
          -0.848,
          1.3054999999999999,
          1.0554999999999999,
          -0.848,
          -0.1945,
          2.3055,
          0.123
         ],
         "xaxis": "x",
         "y": [
          0.2433374713239705,
          0.15751439159249925,
          0.23133433257178448,
          -0.07984599902700085,
          0.19458893759070806,
          0.4871553509172401,
          -0.24539310823395669,
          -0.14148190871321398,
          -0.06848725465556293,
          0.5008520433123993,
          1.3941151082687613,
          0.36848260735630123,
          -0.041818526369507225,
          -0.46133086685296965,
          0.12821334754122157,
          -0.07896003225724003,
          0.2237033797734458,
          1.1476096961448645,
          0.5428627801087915,
          -0.11475099629195158,
          -0.1946356197815086,
          -0.3806774312126638,
          -0.254888443753587,
          0.9690720868216206,
          0.17366425087110038,
          1.2288602538100184,
          0.5320309353086861,
          -0.16889848482024955,
          0.0160822307264651,
          0.6872087948473311,
          0.20831854332533825,
          -0.17219034945827738,
          0.46416180547275226,
          -0.21821787514794322,
          -0.08096654890835606,
          0.2879944543658246,
          -0.27986804832871337,
          0.37474928216350223,
          0.43800099809990534,
          -0.3441715240138057,
          0.17664749979522276,
          0.3342837067266814,
          -0.19730838693394362,
          0.5064667088797917,
          0.31742950427079647,
          0.19866761983447676,
          0.30875404576892185,
          0.03219169364798525,
          -1.230805679412239,
          0.14188100088451305,
          -1.182544882572802,
          0.12895011384407176,
          -0.2694137252063519,
          0.30168973989279146,
          0.4410939044617935,
          -0.3371731489404188,
          1.206327825072711,
          -0.45819670847951427,
          -0.3842498317195519,
          -0.024322681321563108,
          0.05229457565660079,
          0.4986124082265711,
          -0.18509403924400114,
          0.30162179169537695,
          -0.03411427318759615,
          -0.32873101111414244,
          0.057352811229744505,
          0.9651998031594,
          1.4933904924425798,
          0.20138148626404812,
          0.5992461434296624,
          0.1712965316223635,
          0.34982237661625176,
          0.04152173637510558,
          0.08968884337336827,
          0.5021069184973755,
          -0.04817102963816437,
          0.1422048513992508,
          0.0316181943175545,
          -0.6721957288798686,
          0.36503104489015326,
          1.2297859145558605,
          0.17802418872034959,
          0.47102773559564515,
          0.8310365822319492,
          -0.05965900473587086,
          1.0245512470816989,
          -0.5861764865784715,
          0.06960487213682522,
          0.08879534368359718,
          0.7967741608743355,
          -0.06576524296511943,
          0.2461755015973821,
          -0.538689517782753,
          0.6713522535104824,
          -0.8280171186521188,
          0.38467189323318,
          0.11498238178318008,
          0.028129479280733255,
          0.1916865996855956,
          1.5031791717896978,
          0.1266871772918648,
          -0.6181980488858488,
          0.10158024222860873,
          0.17215348698677757,
          0.27477228211295546,
          0.07879124687854112,
          -0.32876302639871635,
          0.5383293367522513,
          0.7583503138825842,
          1.1654769520888728,
          -0.8954853094888333
         ],
         "yaxis": "y"
        }
       ],
       "layout": {
        "coloraxis": {
         "colorbar": {
          "title": {
           "text": "color"
          }
         },
         "colorscale": [
          [
           0,
           "#0508b8"
          ],
          [
           0.08333333333333333,
           "#1910d8"
          ],
          [
           0.16666666666666666,
           "#3c19f0"
          ],
          [
           0.25,
           "#6b1cfb"
          ],
          [
           0.3333333333333333,
           "#981cfd"
          ],
          [
           0.4166666666666667,
           "#bf1cfd"
          ],
          [
           0.5,
           "#dd2bfd"
          ],
          [
           0.5833333333333334,
           "#f246fe"
          ],
          [
           0.6666666666666666,
           "#fc67fd"
          ],
          [
           0.75,
           "#fe88fc"
          ],
          [
           0.8333333333333334,
           "#fea5fd"
          ],
          [
           0.9166666666666666,
           "#febefe"
          ],
          [
           1,
           "#fec3fe"
          ]
         ]
        },
        "legend": {
         "tracegroupgap": 0
        },
        "template": {
         "data": {
          "bar": [
           {
            "error_x": {
             "color": "#2a3f5f"
            },
            "error_y": {
             "color": "#2a3f5f"
            },
            "marker": {
             "line": {
              "color": "#E5ECF6",
              "width": 0.5
             },
             "pattern": {
              "fillmode": "overlay",
              "size": 10,
              "solidity": 0.2
             }
            },
            "type": "bar"
           }
          ],
          "barpolar": [
           {
            "marker": {
             "line": {
              "color": "#E5ECF6",
              "width": 0.5
             },
             "pattern": {
              "fillmode": "overlay",
              "size": 10,
              "solidity": 0.2
             }
            },
            "type": "barpolar"
           }
          ],
          "carpet": [
           {
            "aaxis": {
             "endlinecolor": "#2a3f5f",
             "gridcolor": "white",
             "linecolor": "white",
             "minorgridcolor": "white",
             "startlinecolor": "#2a3f5f"
            },
            "baxis": {
             "endlinecolor": "#2a3f5f",
             "gridcolor": "white",
             "linecolor": "white",
             "minorgridcolor": "white",
             "startlinecolor": "#2a3f5f"
            },
            "type": "carpet"
           }
          ],
          "choropleth": [
           {
            "colorbar": {
             "outlinewidth": 0,
             "ticks": ""
            },
            "type": "choropleth"
           }
          ],
          "contour": [
           {
            "colorbar": {
             "outlinewidth": 0,
             "ticks": ""
            },
            "colorscale": [
             [
              0,
              "#0d0887"
             ],
             [
              0.1111111111111111,
              "#46039f"
             ],
             [
              0.2222222222222222,
              "#7201a8"
             ],
             [
              0.3333333333333333,
              "#9c179e"
             ],
             [
              0.4444444444444444,
              "#bd3786"
             ],
             [
              0.5555555555555556,
              "#d8576b"
             ],
             [
              0.6666666666666666,
              "#ed7953"
             ],
             [
              0.7777777777777778,
              "#fb9f3a"
             ],
             [
              0.8888888888888888,
              "#fdca26"
             ],
             [
              1,
              "#f0f921"
             ]
            ],
            "type": "contour"
           }
          ],
          "contourcarpet": [
           {
            "colorbar": {
             "outlinewidth": 0,
             "ticks": ""
            },
            "type": "contourcarpet"
           }
          ],
          "heatmap": [
           {
            "colorbar": {
             "outlinewidth": 0,
             "ticks": ""
            },
            "colorscale": [
             [
              0,
              "#0d0887"
             ],
             [
              0.1111111111111111,
              "#46039f"
             ],
             [
              0.2222222222222222,
              "#7201a8"
             ],
             [
              0.3333333333333333,
              "#9c179e"
             ],
             [
              0.4444444444444444,
              "#bd3786"
             ],
             [
              0.5555555555555556,
              "#d8576b"
             ],
             [
              0.6666666666666666,
              "#ed7953"
             ],
             [
              0.7777777777777778,
              "#fb9f3a"
             ],
             [
              0.8888888888888888,
              "#fdca26"
             ],
             [
              1,
              "#f0f921"
             ]
            ],
            "type": "heatmap"
           }
          ],
          "heatmapgl": [
           {
            "colorbar": {
             "outlinewidth": 0,
             "ticks": ""
            },
            "colorscale": [
             [
              0,
              "#0d0887"
             ],
             [
              0.1111111111111111,
              "#46039f"
             ],
             [
              0.2222222222222222,
              "#7201a8"
             ],
             [
              0.3333333333333333,
              "#9c179e"
             ],
             [
              0.4444444444444444,
              "#bd3786"
             ],
             [
              0.5555555555555556,
              "#d8576b"
             ],
             [
              0.6666666666666666,
              "#ed7953"
             ],
             [
              0.7777777777777778,
              "#fb9f3a"
             ],
             [
              0.8888888888888888,
              "#fdca26"
             ],
             [
              1,
              "#f0f921"
             ]
            ],
            "type": "heatmapgl"
           }
          ],
          "histogram": [
           {
            "marker": {
             "pattern": {
              "fillmode": "overlay",
              "size": 10,
              "solidity": 0.2
             }
            },
            "type": "histogram"
           }
          ],
          "histogram2d": [
           {
            "colorbar": {
             "outlinewidth": 0,
             "ticks": ""
            },
            "colorscale": [
             [
              0,
              "#0d0887"
             ],
             [
              0.1111111111111111,
              "#46039f"
             ],
             [
              0.2222222222222222,
              "#7201a8"
             ],
             [
              0.3333333333333333,
              "#9c179e"
             ],
             [
              0.4444444444444444,
              "#bd3786"
             ],
             [
              0.5555555555555556,
              "#d8576b"
             ],
             [
              0.6666666666666666,
              "#ed7953"
             ],
             [
              0.7777777777777778,
              "#fb9f3a"
             ],
             [
              0.8888888888888888,
              "#fdca26"
             ],
             [
              1,
              "#f0f921"
             ]
            ],
            "type": "histogram2d"
           }
          ],
          "histogram2dcontour": [
           {
            "colorbar": {
             "outlinewidth": 0,
             "ticks": ""
            },
            "colorscale": [
             [
              0,
              "#0d0887"
             ],
             [
              0.1111111111111111,
              "#46039f"
             ],
             [
              0.2222222222222222,
              "#7201a8"
             ],
             [
              0.3333333333333333,
              "#9c179e"
             ],
             [
              0.4444444444444444,
              "#bd3786"
             ],
             [
              0.5555555555555556,
              "#d8576b"
             ],
             [
              0.6666666666666666,
              "#ed7953"
             ],
             [
              0.7777777777777778,
              "#fb9f3a"
             ],
             [
              0.8888888888888888,
              "#fdca26"
             ],
             [
              1,
              "#f0f921"
             ]
            ],
            "type": "histogram2dcontour"
           }
          ],
          "mesh3d": [
           {
            "colorbar": {
             "outlinewidth": 0,
             "ticks": ""
            },
            "type": "mesh3d"
           }
          ],
          "parcoords": [
           {
            "line": {
             "colorbar": {
              "outlinewidth": 0,
              "ticks": ""
             }
            },
            "type": "parcoords"
           }
          ],
          "pie": [
           {
            "automargin": true,
            "type": "pie"
           }
          ],
          "scatter": [
           {
            "fillpattern": {
             "fillmode": "overlay",
             "size": 10,
             "solidity": 0.2
            },
            "type": "scatter"
           }
          ],
          "scatter3d": [
           {
            "line": {
             "colorbar": {
              "outlinewidth": 0,
              "ticks": ""
             }
            },
            "marker": {
             "colorbar": {
              "outlinewidth": 0,
              "ticks": ""
             }
            },
            "type": "scatter3d"
           }
          ],
          "scattercarpet": [
           {
            "marker": {
             "colorbar": {
              "outlinewidth": 0,
              "ticks": ""
             }
            },
            "type": "scattercarpet"
           }
          ],
          "scattergeo": [
           {
            "marker": {
             "colorbar": {
              "outlinewidth": 0,
              "ticks": ""
             }
            },
            "type": "scattergeo"
           }
          ],
          "scattergl": [
           {
            "marker": {
             "colorbar": {
              "outlinewidth": 0,
              "ticks": ""
             }
            },
            "type": "scattergl"
           }
          ],
          "scattermapbox": [
           {
            "marker": {
             "colorbar": {
              "outlinewidth": 0,
              "ticks": ""
             }
            },
            "type": "scattermapbox"
           }
          ],
          "scatterpolar": [
           {
            "marker": {
             "colorbar": {
              "outlinewidth": 0,
              "ticks": ""
             }
            },
            "type": "scatterpolar"
           }
          ],
          "scatterpolargl": [
           {
            "marker": {
             "colorbar": {
              "outlinewidth": 0,
              "ticks": ""
             }
            },
            "type": "scatterpolargl"
           }
          ],
          "scatterternary": [
           {
            "marker": {
             "colorbar": {
              "outlinewidth": 0,
              "ticks": ""
             }
            },
            "type": "scatterternary"
           }
          ],
          "surface": [
           {
            "colorbar": {
             "outlinewidth": 0,
             "ticks": ""
            },
            "colorscale": [
             [
              0,
              "#0d0887"
             ],
             [
              0.1111111111111111,
              "#46039f"
             ],
             [
              0.2222222222222222,
              "#7201a8"
             ],
             [
              0.3333333333333333,
              "#9c179e"
             ],
             [
              0.4444444444444444,
              "#bd3786"
             ],
             [
              0.5555555555555556,
              "#d8576b"
             ],
             [
              0.6666666666666666,
              "#ed7953"
             ],
             [
              0.7777777777777778,
              "#fb9f3a"
             ],
             [
              0.8888888888888888,
              "#fdca26"
             ],
             [
              1,
              "#f0f921"
             ]
            ],
            "type": "surface"
           }
          ],
          "table": [
           {
            "cells": {
             "fill": {
              "color": "#EBF0F8"
             },
             "line": {
              "color": "white"
             }
            },
            "header": {
             "fill": {
              "color": "#C8D4E3"
             },
             "line": {
              "color": "white"
             }
            },
            "type": "table"
           }
          ]
         },
         "layout": {
          "annotationdefaults": {
           "arrowcolor": "#2a3f5f",
           "arrowhead": 0,
           "arrowwidth": 1
          },
          "autotypenumbers": "strict",
          "coloraxis": {
           "colorbar": {
            "outlinewidth": 0,
            "ticks": ""
           }
          },
          "colorscale": {
           "diverging": [
            [
             0,
             "#8e0152"
            ],
            [
             0.1,
             "#c51b7d"
            ],
            [
             0.2,
             "#de77ae"
            ],
            [
             0.3,
             "#f1b6da"
            ],
            [
             0.4,
             "#fde0ef"
            ],
            [
             0.5,
             "#f7f7f7"
            ],
            [
             0.6,
             "#e6f5d0"
            ],
            [
             0.7,
             "#b8e186"
            ],
            [
             0.8,
             "#7fbc41"
            ],
            [
             0.9,
             "#4d9221"
            ],
            [
             1,
             "#276419"
            ]
           ],
           "sequential": [
            [
             0,
             "#0d0887"
            ],
            [
             0.1111111111111111,
             "#46039f"
            ],
            [
             0.2222222222222222,
             "#7201a8"
            ],
            [
             0.3333333333333333,
             "#9c179e"
            ],
            [
             0.4444444444444444,
             "#bd3786"
            ],
            [
             0.5555555555555556,
             "#d8576b"
            ],
            [
             0.6666666666666666,
             "#ed7953"
            ],
            [
             0.7777777777777778,
             "#fb9f3a"
            ],
            [
             0.8888888888888888,
             "#fdca26"
            ],
            [
             1,
             "#f0f921"
            ]
           ],
           "sequentialminus": [
            [
             0,
             "#0d0887"
            ],
            [
             0.1111111111111111,
             "#46039f"
            ],
            [
             0.2222222222222222,
             "#7201a8"
            ],
            [
             0.3333333333333333,
             "#9c179e"
            ],
            [
             0.4444444444444444,
             "#bd3786"
            ],
            [
             0.5555555555555556,
             "#d8576b"
            ],
            [
             0.6666666666666666,
             "#ed7953"
            ],
            [
             0.7777777777777778,
             "#fb9f3a"
            ],
            [
             0.8888888888888888,
             "#fdca26"
            ],
            [
             1,
             "#f0f921"
            ]
           ]
          },
          "colorway": [
           "#636efa",
           "#EF553B",
           "#00cc96",
           "#ab63fa",
           "#FFA15A",
           "#19d3f3",
           "#FF6692",
           "#B6E880",
           "#FF97FF",
           "#FECB52"
          ],
          "font": {
           "color": "#2a3f5f"
          },
          "geo": {
           "bgcolor": "white",
           "lakecolor": "white",
           "landcolor": "#E5ECF6",
           "showlakes": true,
           "showland": true,
           "subunitcolor": "white"
          },
          "hoverlabel": {
           "align": "left"
          },
          "hovermode": "closest",
          "mapbox": {
           "style": "light"
          },
          "paper_bgcolor": "white",
          "plot_bgcolor": "#E5ECF6",
          "polar": {
           "angularaxis": {
            "gridcolor": "white",
            "linecolor": "white",
            "ticks": ""
           },
           "bgcolor": "#E5ECF6",
           "radialaxis": {
            "gridcolor": "white",
            "linecolor": "white",
            "ticks": ""
           }
          },
          "scene": {
           "xaxis": {
            "backgroundcolor": "#E5ECF6",
            "gridcolor": "white",
            "gridwidth": 2,
            "linecolor": "white",
            "showbackground": true,
            "ticks": "",
            "zerolinecolor": "white"
           },
           "yaxis": {
            "backgroundcolor": "#E5ECF6",
            "gridcolor": "white",
            "gridwidth": 2,
            "linecolor": "white",
            "showbackground": true,
            "ticks": "",
            "zerolinecolor": "white"
           },
           "zaxis": {
            "backgroundcolor": "#E5ECF6",
            "gridcolor": "white",
            "gridwidth": 2,
            "linecolor": "white",
            "showbackground": true,
            "ticks": "",
            "zerolinecolor": "white"
           }
          },
          "shapedefaults": {
           "line": {
            "color": "#2a3f5f"
           }
          },
          "ternary": {
           "aaxis": {
            "gridcolor": "white",
            "linecolor": "white",
            "ticks": ""
           },
           "baxis": {
            "gridcolor": "white",
            "linecolor": "white",
            "ticks": ""
           },
           "bgcolor": "#E5ECF6",
           "caxis": {
            "gridcolor": "white",
            "linecolor": "white",
            "ticks": ""
           }
          },
          "title": {
           "x": 0.05
          },
          "xaxis": {
           "automargin": true,
           "gridcolor": "white",
           "linecolor": "white",
           "ticks": "",
           "title": {
            "standoff": 15
           },
           "zerolinecolor": "white",
           "zerolinewidth": 2
          },
          "yaxis": {
           "automargin": true,
           "gridcolor": "white",
           "linecolor": "white",
           "ticks": "",
           "title": {
            "standoff": 15
           },
           "zerolinecolor": "white",
           "zerolinewidth": 2
          }
         }
        },
        "title": {
         "text": "Total Predictions for the 2019 Memorial Tournament"
        },
        "xaxis": {
         "anchor": "y",
         "domain": [
          0,
          1
         ],
         "title": {
          "text": "sg_total"
         }
        },
        "yaxis": {
         "anchor": "x",
         "domain": [
          0,
          1
         ],
         "title": {
          "text": "predicted_SG"
         }
        }
       }
      },
      "text/html": [
       "<div>                            <div id=\"53c8d2b1-647b-4ffa-a8a8-b8190c72ef88\" class=\"plotly-graph-div\" style=\"height:525px; width:100%;\"></div>            <script type=\"text/javascript\">                require([\"plotly\"], function(Plotly) {                    window.PLOTLYENV=window.PLOTLYENV || {};                                    if (document.getElementById(\"53c8d2b1-647b-4ffa-a8a8-b8190c72ef88\")) {                    Plotly.newPlot(                        \"53c8d2b1-647b-4ffa-a8a8-b8190c72ef88\",                        [{\"hovertemplate\":\"<b>%{hovertext}</b><br><br>sg_total=%{x}<br>predicted_SG=%{y}<br>color=%{marker.color}<extra></extra>\",\"hovertext\":[\"An, Byeong Hun\",\"Ancer, Abraham\",\"Aphibarnrat, Kiradech\",\"Armour, Ryan\",\"Baddeley, Aaron\",\"Bradley, Keegan\",\"Brown, Scott\",\"Burgoon, Bronson\",\"Burns, Sam\",\"Cabrera Bello, Rafa\",\"Cantlay, Patrick\",\"Cauley, Bud\",\"Champ, Cameron\",\"Choi, K.J.\",\"Conners, Corey\",\"Cook, Austin\",\"Dahmen, Joel\",\"Day, Jason\",\"DeChambeau, Bryson\",\"Donald, Luke\",\"Dufner, Jason\",\"Els, Ernie\",\"Every, Matt\",\"Finau, Tony\",\"Fitzpatrick, Matthew\",\"Fowler, Rickie\",\"Furyk, Jim\",\"Garnett, Brice\",\"Gay, Brian\",\"Glover, Lucas\",\"Gooch, Talor\",\"Grace, Branden\",\"Grillo, Emiliano\",\"Haas, Bill\",\"Hadley, Chesson\",\"Hadwin, Adam\",\"Harman, Brian\",\"Hatton, Tyrrell\",\"Hoffman, Charley\",\"Holmes, J.B.\",\"Homa, Max\",\"Horschel, Billy\",\"Hossler, Beau\",\"Howell III, Charles\",\"Im, Sungjae\",\"Jones, Matt\",\"Kang, Sung\",\"Kaymer, Martin\",\"Kim, Michael\",\"Kim, Si Woo\",\"Kim, Whee\",\"Kisner, Kevin\",\"Kizzire, Patton\",\"Knox, Russell\",\"Kokrak, Jason\",\"Kraft, Kelly\",\"Kuchar, Matt\",\"Lahiri, Anirban\",\"Landry, Andrew\",\"Lee, Danny\",\"Lee, Kyoung-Hoon\",\"Leishman, Marc\",\"Lingmerth, David\",\"List, Luke\",\"Long, Adam\",\"Luiten, Joost\",\"Malnati, Peter\",\"Matsuyama, Hideki\",\"McIlroy, Rory\",\"Merritt, Troy\",\"Mickelson, Phil\",\"Mitchell, Keith\",\"Moore, Ryan\",\"Niemann, Joaquin\",\"Noren, Alex\",\"Oosthuizen, Louis\",\"Ortiz, Carlos\",\"Perez, Pat\",\"Poston, J.T.\",\"Potter, Jr., Ted\",\"Putnam, Andrew\",\"Rose, Justin\",\"Ryder, Sam\",\"Sabbatini, Rory\",\"Schauffele, Xander\",\"Schenk, Adam\",\"Scott, Adam\",\"Sharma, Shubhankar\",\"Smith, Cameron\",\"Spaun, J.J.\",\"Spieth, Jordan\",\"Stallings, Scott\",\"Stanley, Kyle\",\"Steele, Brendan\",\"Stenson, Henrik\",\"Streb, Robert\",\"Streelman, Kevin\",\"Stricker, Steve\",\"Stuard, Brian\",\"Taylor, Vaughn\",\"Thomas, Justin\",\"Thompson, Michael\",\"Trainer, Martin\",\"Uihlein, Peter\",\"Varner III, Harold\",\"Vegas, Jhonattan\",\"Watney, Nick\",\"Willett, Danny\",\"Wise, Aaron\",\"Woodland, Gary\",\"Woods, Tiger\",\"Xiong, Norman\"],\"legendgroup\":\"\",\"marker\":{\"color\":[1.3121625286760294,1.1020143915924991,1.3241656674282156,1.385345999027001,1.110911062409292,2.33515535091724,1.1026068917660434,1.2065180912867859,8.381512745344436,0.1953520433123992,3.411384891731238,1.9370173926436987,2.306181473630493,1.7331691331470305,1.0727133475412214,1.1344600322572402,1.4182033797734457,3.495609696144865,0.7626372198912087,0.6612490037080482,2.7501356197815086,5.069322568787336,3.0931115562464133,4.317072086821621,1.3681642508711005,0.5766397461899815,0.2734690646913138,0.6791015151797505,1.864082230726465,0.881708794847331,4.056318543325339,1.1758096505417228,1.8413381945272478,1.629782124852057,1.767033451091644,0.48249445436582467,1.3353680483287134,0.43075071783649777,1.2860009980999054,1.0038284759861944,0.37885250020477723,1.9712162932733186,2.1506916130660563,3.3544667088797917,0.7619295042707964,0.10683238016552288,4.656754045768922,3.7733083063520145,0.3828056794122392,0.1636189991154871,0.3345448825728017,0.1765498861559281,2.0785862747936483,0.7538102601072086,1.1355939044617935,2.5108268510595813,2.554327825072711,0.26369670847951393,2.9637501682804483,1.823677318678437,0.5032054243433992,2.5568875917734286,0.4905940392440012,4.6496217916953775,4.313885726812404,0.5482689888858576,1.4981471887702558,1.8403001968406003,2.34139049244258,1.3541185137359517,2.9472461434296626,0.11579653162236347,0.4556776233837484,1.0139782636248944,0.21581115662663175,0.9466069184973755,1.7998289703618355,0.5867048513992509,0.22611819431755445,2.272304271120132,1.1904689551098466,0.8257140854441393,0.6225241887203496,0.5844722644043548,0.9744634177680508,0.8848409952641292,3.2809487529183015,5.290823513421528,3.4176048721368257,0.9367953436835971,1.7587258391256644,0.12126524296511924,1.0941755015973822,0.844189517782753,0.11585225351048253,1.5199828813478813,2.92082810676682,1.1905176182168198,0.7773705207192667,0.13618659968559554,4.851179171789698,1.6788128227081351,6.229801951114151,1.9495802422286088,2.5201534869867777,1.1227722821129553,1.2267087531214589,1.3842630263987163,1.3863293367522511,0.9528503138825842,1.140023047911127,1.0184853094888333],\"coloraxis\":\"coloraxis\",\"symbol\":\"circle\"},\"mode\":\"markers\",\"name\":\"\",\"orientation\":\"v\",\"showlegend\":false,\"x\":[1.5555,-0.9445,1.5554999999999999,1.3055,1.3055,-1.8479999999999999,-1.348,-1.348,-8.45,0.30550000000000005,4.8055,2.3055,-2.3480000000000003,-2.1945,-0.9445,1.0554999999999999,-1.1945,-2.348,1.3055,-0.7760000000000001,2.5555,-5.45,-3.348,-3.348,-1.1945,1.8054999999999999,0.8055,-0.848,-1.8480000000000003,-0.1944999999999999,-3.8480000000000003,-1.348,2.3055,-1.848,-1.848,-0.1945,1.0554999999999999,0.8055000000000001,-0.848,-1.348,0.5555,2.3055000000000003,-2.348,-2.8480000000000003,-0.44449999999999995,0.3054999999999999,-4.348000000000001,3.8055,-0.848,0.30550000000000005,-0.8480000000000003,0.3054999999999998,-2.348,1.0554999999999999,-0.6944999999999999,-2.8480000000000003,-1.348,-0.19450000000000017,-3.348,-1.848,0.5554999999999999,3.0555,0.3055,-4.348000000000001,-4.348000000000001,-0.877,1.5555,2.8055,-0.8480000000000001,1.5554999999999999,-2.3480000000000003,0.055499999999999994,0.8055,1.0555,0.3055000000000001,-0.4444999999999999,-1.848,-0.4445,-0.19449999999999998,-2.9445,1.5554999999999999,2.0555,-0.4445,1.0554999999999999,1.8054999999999999,-0.9444999999999999,4.3055,-5.877,-3.348,-0.848,2.5555,0.05549999999999994,-0.848,0.3055000000000001,0.5554999999999999,-2.348,3.3055,1.3054999999999999,0.8054999999999999,0.055500000000000105,-3.3480000000000003,1.8055,-6.848000000000001,-1.848,-2.348,-0.848,1.3054999999999999,1.0554999999999999,-0.848,-0.1945,2.3055,0.123],\"xaxis\":\"x\",\"y\":[0.2433374713239705,0.15751439159249925,0.23133433257178448,-0.07984599902700085,0.19458893759070806,0.4871553509172401,-0.24539310823395669,-0.14148190871321398,-0.06848725465556293,0.5008520433123993,1.3941151082687613,0.36848260735630123,-0.041818526369507225,-0.46133086685296965,0.12821334754122157,-0.07896003225724003,0.2237033797734458,1.1476096961448645,0.5428627801087915,-0.11475099629195158,-0.1946356197815086,-0.3806774312126638,-0.254888443753587,0.9690720868216206,0.17366425087110038,1.2288602538100184,0.5320309353086861,-0.16889848482024955,0.0160822307264651,0.6872087948473311,0.20831854332533825,-0.17219034945827738,0.46416180547275226,-0.21821787514794322,-0.08096654890835606,0.2879944543658246,-0.27986804832871337,0.37474928216350223,0.43800099809990534,-0.3441715240138057,0.17664749979522276,0.3342837067266814,-0.19730838693394362,0.5064667088797917,0.31742950427079647,0.19866761983447676,0.30875404576892185,0.03219169364798525,-1.230805679412239,0.14188100088451305,-1.182544882572802,0.12895011384407176,-0.2694137252063519,0.30168973989279146,0.4410939044617935,-0.3371731489404188,1.206327825072711,-0.45819670847951427,-0.3842498317195519,-0.024322681321563108,0.05229457565660079,0.4986124082265711,-0.18509403924400114,0.30162179169537695,-0.03411427318759615,-0.32873101111414244,0.057352811229744505,0.9651998031594,1.4933904924425798,0.20138148626404812,0.5992461434296624,0.1712965316223635,0.34982237661625176,0.04152173637510558,0.08968884337336827,0.5021069184973755,-0.04817102963816437,0.1422048513992508,0.0316181943175545,-0.6721957288798686,0.36503104489015326,1.2297859145558605,0.17802418872034959,0.47102773559564515,0.8310365822319492,-0.05965900473587086,1.0245512470816989,-0.5861764865784715,0.06960487213682522,0.08879534368359718,0.7967741608743355,-0.06576524296511943,0.2461755015973821,-0.538689517782753,0.6713522535104824,-0.8280171186521188,0.38467189323318,0.11498238178318008,0.028129479280733255,0.1916865996855956,1.5031791717896978,0.1266871772918648,-0.6181980488858488,0.10158024222860873,0.17215348698677757,0.27477228211295546,0.07879124687854112,-0.32876302639871635,0.5383293367522513,0.7583503138825842,1.1654769520888728,-0.8954853094888333],\"yaxis\":\"y\",\"type\":\"scatter\"}],                        {\"template\":{\"data\":{\"histogram2dcontour\":[{\"type\":\"histogram2dcontour\",\"colorbar\":{\"outlinewidth\":0,\"ticks\":\"\"},\"colorscale\":[[0.0,\"#0d0887\"],[0.1111111111111111,\"#46039f\"],[0.2222222222222222,\"#7201a8\"],[0.3333333333333333,\"#9c179e\"],[0.4444444444444444,\"#bd3786\"],[0.5555555555555556,\"#d8576b\"],[0.6666666666666666,\"#ed7953\"],[0.7777777777777778,\"#fb9f3a\"],[0.8888888888888888,\"#fdca26\"],[1.0,\"#f0f921\"]]}],\"choropleth\":[{\"type\":\"choropleth\",\"colorbar\":{\"outlinewidth\":0,\"ticks\":\"\"}}],\"histogram2d\":[{\"type\":\"histogram2d\",\"colorbar\":{\"outlinewidth\":0,\"ticks\":\"\"},\"colorscale\":[[0.0,\"#0d0887\"],[0.1111111111111111,\"#46039f\"],[0.2222222222222222,\"#7201a8\"],[0.3333333333333333,\"#9c179e\"],[0.4444444444444444,\"#bd3786\"],[0.5555555555555556,\"#d8576b\"],[0.6666666666666666,\"#ed7953\"],[0.7777777777777778,\"#fb9f3a\"],[0.8888888888888888,\"#fdca26\"],[1.0,\"#f0f921\"]]}],\"heatmap\":[{\"type\":\"heatmap\",\"colorbar\":{\"outlinewidth\":0,\"ticks\":\"\"},\"colorscale\":[[0.0,\"#0d0887\"],[0.1111111111111111,\"#46039f\"],[0.2222222222222222,\"#7201a8\"],[0.3333333333333333,\"#9c179e\"],[0.4444444444444444,\"#bd3786\"],[0.5555555555555556,\"#d8576b\"],[0.6666666666666666,\"#ed7953\"],[0.7777777777777778,\"#fb9f3a\"],[0.8888888888888888,\"#fdca26\"],[1.0,\"#f0f921\"]]}],\"heatmapgl\":[{\"type\":\"heatmapgl\",\"colorbar\":{\"outlinewidth\":0,\"ticks\":\"\"},\"colorscale\":[[0.0,\"#0d0887\"],[0.1111111111111111,\"#46039f\"],[0.2222222222222222,\"#7201a8\"],[0.3333333333333333,\"#9c179e\"],[0.4444444444444444,\"#bd3786\"],[0.5555555555555556,\"#d8576b\"],[0.6666666666666666,\"#ed7953\"],[0.7777777777777778,\"#fb9f3a\"],[0.8888888888888888,\"#fdca26\"],[1.0,\"#f0f921\"]]}],\"contourcarpet\":[{\"type\":\"contourcarpet\",\"colorbar\":{\"outlinewidth\":0,\"ticks\":\"\"}}],\"contour\":[{\"type\":\"contour\",\"colorbar\":{\"outlinewidth\":0,\"ticks\":\"\"},\"colorscale\":[[0.0,\"#0d0887\"],[0.1111111111111111,\"#46039f\"],[0.2222222222222222,\"#7201a8\"],[0.3333333333333333,\"#9c179e\"],[0.4444444444444444,\"#bd3786\"],[0.5555555555555556,\"#d8576b\"],[0.6666666666666666,\"#ed7953\"],[0.7777777777777778,\"#fb9f3a\"],[0.8888888888888888,\"#fdca26\"],[1.0,\"#f0f921\"]]}],\"surface\":[{\"type\":\"surface\",\"colorbar\":{\"outlinewidth\":0,\"ticks\":\"\"},\"colorscale\":[[0.0,\"#0d0887\"],[0.1111111111111111,\"#46039f\"],[0.2222222222222222,\"#7201a8\"],[0.3333333333333333,\"#9c179e\"],[0.4444444444444444,\"#bd3786\"],[0.5555555555555556,\"#d8576b\"],[0.6666666666666666,\"#ed7953\"],[0.7777777777777778,\"#fb9f3a\"],[0.8888888888888888,\"#fdca26\"],[1.0,\"#f0f921\"]]}],\"mesh3d\":[{\"type\":\"mesh3d\",\"colorbar\":{\"outlinewidth\":0,\"ticks\":\"\"}}],\"scatter\":[{\"fillpattern\":{\"fillmode\":\"overlay\",\"size\":10,\"solidity\":0.2},\"type\":\"scatter\"}],\"parcoords\":[{\"type\":\"parcoords\",\"line\":{\"colorbar\":{\"outlinewidth\":0,\"ticks\":\"\"}}}],\"scatterpolargl\":[{\"type\":\"scatterpolargl\",\"marker\":{\"colorbar\":{\"outlinewidth\":0,\"ticks\":\"\"}}}],\"bar\":[{\"error_x\":{\"color\":\"#2a3f5f\"},\"error_y\":{\"color\":\"#2a3f5f\"},\"marker\":{\"line\":{\"color\":\"#E5ECF6\",\"width\":0.5},\"pattern\":{\"fillmode\":\"overlay\",\"size\":10,\"solidity\":0.2}},\"type\":\"bar\"}],\"scattergeo\":[{\"type\":\"scattergeo\",\"marker\":{\"colorbar\":{\"outlinewidth\":0,\"ticks\":\"\"}}}],\"scatterpolar\":[{\"type\":\"scatterpolar\",\"marker\":{\"colorbar\":{\"outlinewidth\":0,\"ticks\":\"\"}}}],\"histogram\":[{\"marker\":{\"pattern\":{\"fillmode\":\"overlay\",\"size\":10,\"solidity\":0.2}},\"type\":\"histogram\"}],\"scattergl\":[{\"type\":\"scattergl\",\"marker\":{\"colorbar\":{\"outlinewidth\":0,\"ticks\":\"\"}}}],\"scatter3d\":[{\"type\":\"scatter3d\",\"line\":{\"colorbar\":{\"outlinewidth\":0,\"ticks\":\"\"}},\"marker\":{\"colorbar\":{\"outlinewidth\":0,\"ticks\":\"\"}}}],\"scattermapbox\":[{\"type\":\"scattermapbox\",\"marker\":{\"colorbar\":{\"outlinewidth\":0,\"ticks\":\"\"}}}],\"scatterternary\":[{\"type\":\"scatterternary\",\"marker\":{\"colorbar\":{\"outlinewidth\":0,\"ticks\":\"\"}}}],\"scattercarpet\":[{\"type\":\"scattercarpet\",\"marker\":{\"colorbar\":{\"outlinewidth\":0,\"ticks\":\"\"}}}],\"carpet\":[{\"aaxis\":{\"endlinecolor\":\"#2a3f5f\",\"gridcolor\":\"white\",\"linecolor\":\"white\",\"minorgridcolor\":\"white\",\"startlinecolor\":\"#2a3f5f\"},\"baxis\":{\"endlinecolor\":\"#2a3f5f\",\"gridcolor\":\"white\",\"linecolor\":\"white\",\"minorgridcolor\":\"white\",\"startlinecolor\":\"#2a3f5f\"},\"type\":\"carpet\"}],\"table\":[{\"cells\":{\"fill\":{\"color\":\"#EBF0F8\"},\"line\":{\"color\":\"white\"}},\"header\":{\"fill\":{\"color\":\"#C8D4E3\"},\"line\":{\"color\":\"white\"}},\"type\":\"table\"}],\"barpolar\":[{\"marker\":{\"line\":{\"color\":\"#E5ECF6\",\"width\":0.5},\"pattern\":{\"fillmode\":\"overlay\",\"size\":10,\"solidity\":0.2}},\"type\":\"barpolar\"}],\"pie\":[{\"automargin\":true,\"type\":\"pie\"}]},\"layout\":{\"autotypenumbers\":\"strict\",\"colorway\":[\"#636efa\",\"#EF553B\",\"#00cc96\",\"#ab63fa\",\"#FFA15A\",\"#19d3f3\",\"#FF6692\",\"#B6E880\",\"#FF97FF\",\"#FECB52\"],\"font\":{\"color\":\"#2a3f5f\"},\"hovermode\":\"closest\",\"hoverlabel\":{\"align\":\"left\"},\"paper_bgcolor\":\"white\",\"plot_bgcolor\":\"#E5ECF6\",\"polar\":{\"bgcolor\":\"#E5ECF6\",\"angularaxis\":{\"gridcolor\":\"white\",\"linecolor\":\"white\",\"ticks\":\"\"},\"radialaxis\":{\"gridcolor\":\"white\",\"linecolor\":\"white\",\"ticks\":\"\"}},\"ternary\":{\"bgcolor\":\"#E5ECF6\",\"aaxis\":{\"gridcolor\":\"white\",\"linecolor\":\"white\",\"ticks\":\"\"},\"baxis\":{\"gridcolor\":\"white\",\"linecolor\":\"white\",\"ticks\":\"\"},\"caxis\":{\"gridcolor\":\"white\",\"linecolor\":\"white\",\"ticks\":\"\"}},\"coloraxis\":{\"colorbar\":{\"outlinewidth\":0,\"ticks\":\"\"}},\"colorscale\":{\"sequential\":[[0.0,\"#0d0887\"],[0.1111111111111111,\"#46039f\"],[0.2222222222222222,\"#7201a8\"],[0.3333333333333333,\"#9c179e\"],[0.4444444444444444,\"#bd3786\"],[0.5555555555555556,\"#d8576b\"],[0.6666666666666666,\"#ed7953\"],[0.7777777777777778,\"#fb9f3a\"],[0.8888888888888888,\"#fdca26\"],[1.0,\"#f0f921\"]],\"sequentialminus\":[[0.0,\"#0d0887\"],[0.1111111111111111,\"#46039f\"],[0.2222222222222222,\"#7201a8\"],[0.3333333333333333,\"#9c179e\"],[0.4444444444444444,\"#bd3786\"],[0.5555555555555556,\"#d8576b\"],[0.6666666666666666,\"#ed7953\"],[0.7777777777777778,\"#fb9f3a\"],[0.8888888888888888,\"#fdca26\"],[1.0,\"#f0f921\"]],\"diverging\":[[0,\"#8e0152\"],[0.1,\"#c51b7d\"],[0.2,\"#de77ae\"],[0.3,\"#f1b6da\"],[0.4,\"#fde0ef\"],[0.5,\"#f7f7f7\"],[0.6,\"#e6f5d0\"],[0.7,\"#b8e186\"],[0.8,\"#7fbc41\"],[0.9,\"#4d9221\"],[1,\"#276419\"]]},\"xaxis\":{\"gridcolor\":\"white\",\"linecolor\":\"white\",\"ticks\":\"\",\"title\":{\"standoff\":15},\"zerolinecolor\":\"white\",\"automargin\":true,\"zerolinewidth\":2},\"yaxis\":{\"gridcolor\":\"white\",\"linecolor\":\"white\",\"ticks\":\"\",\"title\":{\"standoff\":15},\"zerolinecolor\":\"white\",\"automargin\":true,\"zerolinewidth\":2},\"scene\":{\"xaxis\":{\"backgroundcolor\":\"#E5ECF6\",\"gridcolor\":\"white\",\"linecolor\":\"white\",\"showbackground\":true,\"ticks\":\"\",\"zerolinecolor\":\"white\",\"gridwidth\":2},\"yaxis\":{\"backgroundcolor\":\"#E5ECF6\",\"gridcolor\":\"white\",\"linecolor\":\"white\",\"showbackground\":true,\"ticks\":\"\",\"zerolinecolor\":\"white\",\"gridwidth\":2},\"zaxis\":{\"backgroundcolor\":\"#E5ECF6\",\"gridcolor\":\"white\",\"linecolor\":\"white\",\"showbackground\":true,\"ticks\":\"\",\"zerolinecolor\":\"white\",\"gridwidth\":2}},\"shapedefaults\":{\"line\":{\"color\":\"#2a3f5f\"}},\"annotationdefaults\":{\"arrowcolor\":\"#2a3f5f\",\"arrowhead\":0,\"arrowwidth\":1},\"geo\":{\"bgcolor\":\"white\",\"landcolor\":\"#E5ECF6\",\"subunitcolor\":\"white\",\"showland\":true,\"showlakes\":true,\"lakecolor\":\"white\"},\"title\":{\"x\":0.05},\"mapbox\":{\"style\":\"light\"}}},\"xaxis\":{\"anchor\":\"y\",\"domain\":[0.0,1.0],\"title\":{\"text\":\"sg_total\"}},\"yaxis\":{\"anchor\":\"x\",\"domain\":[0.0,1.0],\"title\":{\"text\":\"predicted_SG\"}},\"coloraxis\":{\"colorbar\":{\"title\":{\"text\":\"color\"}},\"colorscale\":[[0.0,\"#0508b8\"],[0.08333333333333333,\"#1910d8\"],[0.16666666666666666,\"#3c19f0\"],[0.25,\"#6b1cfb\"],[0.3333333333333333,\"#981cfd\"],[0.4166666666666667,\"#bf1cfd\"],[0.5,\"#dd2bfd\"],[0.5833333333333334,\"#f246fe\"],[0.6666666666666666,\"#fc67fd\"],[0.75,\"#fe88fc\"],[0.8333333333333334,\"#fea5fd\"],[0.9166666666666666,\"#febefe\"],[1.0,\"#fec3fe\"]]},\"legend\":{\"tracegroupgap\":0},\"title\":{\"text\":\"Total Predictions for the 2019 Memorial Tournament\"}},                        {\"responsive\": true}                    ).then(function(){\n",
       "                            \n",
       "var gd = document.getElementById('53c8d2b1-647b-4ffa-a8a8-b8190c72ef88');\n",
       "var x = new MutationObserver(function (mutations, observer) {{\n",
       "        var display = window.getComputedStyle(gd).display;\n",
       "        if (!display || display === 'none') {{\n",
       "            console.log([gd, 'removed!']);\n",
       "            Plotly.purge(gd);\n",
       "            observer.disconnect();\n",
       "        }}\n",
       "}});\n",
       "\n",
       "// Listen for the removal of the full notebook cells\n",
       "var notebookContainer = gd.closest('#notebook-container');\n",
       "if (notebookContainer) {{\n",
       "    x.observe(notebookContainer, {childList: true});\n",
       "}}\n",
       "\n",
       "// Listen for the clearing of the current output cell\n",
       "var outputEl = gd.closest('.output');\n",
       "if (outputEl) {{\n",
       "    x.observe(outputEl, {childList: true});\n",
       "}}\n",
       "\n",
       "                        })                };                });            </script>        </div>"
      ]
     },
     "metadata": {},
     "output_type": "display_data"
    }
   ],
   "source": [
    "px.scatter(data_frame=Whole, x='sg_total', y = 'predicted_SG', color=abs(Whole['residuals']), \n",
    "           color_continuous_scale=px.colors.sequential.Plotly3,\n",
    "           hover_name = 'player_name', title='Total Predictions for the 2019 Memorial Tournament')"
   ]
  },
  {
   "cell_type": "markdown",
   "id": "7cb696f1",
   "metadata": {},
   "source": [
    "So, what can we understand from these visualizations? Quite a few important things to note.\n",
    "1. The cut means that guys that miss the cut are going to have much higher residuals on average. This is could be a problem if we are going to do any sort of analysis on the residuals. \n",
    "2. Another thing to note is that the model is more \"confident\" in it's guesses as you play more rounds. This make's sense if we are assuming each round is normally distributed about the prediction.\n",
    "3. The residuals are not totally continious, since at the end of the round, all players have to finish with a whole number in terms of their score. "
   ]
  },
  {
   "cell_type": "markdown",
   "id": "83b68c32",
   "metadata": {},
   "source": [
    "# Showing how playing more rounds increases \"confidence\" in the model, using normal distributions:"
   ]
  },
  {
   "cell_type": "code",
   "execution_count": 112,
   "id": "f6439f69",
   "metadata": {},
   "outputs": [
    {
     "data": {
      "image/png": "[encoded data removed]",
      "text/plain": [
       "<Figure size 720x540 with 1 Axes>"
      ]
     },
     "metadata": {
      "needs_background": "light"
     },
     "output_type": "display_data"
    }
   ],
   "source": [
    "from scipy.stats import norm\n",
    "# Get the mean squared error (which can be used to devise confidence intervals and variance/standard error)\n",
    "s = mean_squared_error(y_test,preds)\n",
    "x = np.arange(-5, 7, 0.001)\n",
    "plt.figure(figsize=(10,7.5))\n",
    "# Create a probability distribution function for a golfer with a mean predicted score of 1.4 Strokes Gained\n",
    "plt.plot(x, norm.pdf(x, 1.4, np.sqrt(s)),label=\"1\",color='mediumaquamarine')\n",
    "plt.axvline(x=1.4,linestyle='--',color='black')\n",
    "\n",
    "# Same pdf but with a sample size of 2\n",
    "plt.plot(x, norm.pdf(x, 1.4, np.sqrt(s)/np.sqrt(2)),label=\"2\",color='cornflowerblue')\n",
    "\n",
    "# Same pdf but with a sample size of 4\n",
    "plt.plot(x, norm.pdf(x, 1.4, np.sqrt(s)/np.sqrt(4)),label=\"4\",color='purple')\n",
    "plt.legend(title='Number of Rounds')\n",
    "plt.xlabel('Average Round Score')\n",
    "plt.title('Showing how Playing Multiple Increases Confidence in our Model')\n",
    "plt.ylabel('Probability Density')\n",
    "plt.show()\n"
   ]
  }
 ],
 "metadata": {
  "kernelspec": {
   "display_name": "golf",
   "language": "python",
   "name": "golf"
  },
  "language_info": {
   "codemirror_mode": {
    "name": "ipython",
    "version": 3
   },
   "file_extension": ".py",
   "mimetype": "text/x-python",
   "name": "python",
   "nbconvert_exporter": "python",
   "pygments_lexer": "ipython3",
   "version": "3.9.7"
  }
 },
 "nbformat": 4,
 "nbformat_minor": 5
}
